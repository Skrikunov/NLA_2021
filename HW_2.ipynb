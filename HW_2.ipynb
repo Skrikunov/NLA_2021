{
 "cells": [
  {
   "cell_type": "markdown",
   "metadata": {
    "id": "t9v1vX4-OGIT"
   },
   "source": [
    "# Problem set 2 (45 + 50 + 33 + 15 = 143 pts)"
   ]
  },
  {
   "cell_type": "markdown",
   "metadata": {
    "id": "FOMNJ4TcOGIV"
   },
   "source": [
    "## Problem 1 (LU decomposition) 45 pts\n"
   ]
  },
  {
   "cell_type": "markdown",
   "metadata": {
    "id": "pYHDl6ppOGIV"
   },
   "source": [
    "### 1. LU  for band matrices and Cholesky decomposition (13 pts)\n",
    "\n",
    "The complexity to find an LU decomposition of a dense $n\\times n$ matrix is $\\mathcal{O}(n^3)$.\n",
    "Significant reduction in complexity can be achieved if the matrix has a certain structure, e.g. it is sparse. \n",
    "In the following task we consider an important example of $LU$ for a special type of matrices –– band matrices with top left entry equal to 1 and the bandwidth $m$ equal to 3 or 5 which called tridiagonal and pentadiagonal respectively. The bands may be ```[1, 2, 1]``` and ```[1, 1, 2, 1, 1]``` respectively\n",
    "\n",
    "- (4 pts) Write a function ```band_lu(diag_broadcast, n)``` which computes LU decomposition for tridiagonal or pentadiagonal matrix with top left entry equal to 1 with given diagonal bands. \n",
    "For example, input parametres ```(diag_broadcast = [1,2,1], n = 4)``` mean that we need to find LU decomposition for the triangular matrix of the form:\n",
    "\n",
    "$$A = \\begin{pmatrix}\n",
    "1 & 1 & 0 & 0\\\\\n",
    "1 & 2 & 1 & 0 \\\\\n",
    "0 & 1 & 2 & 1 \\\\\n",
    "0 & 0 & 1 & 2 \\\\\n",
    "\\end{pmatrix}.$$\n",
    "\n",
    "Provide the extensive testing of the implemented function that will works correctly for large $n$,  e.g. $n=100$.\n",
    "As an output it is considered to make ```L``` and ```U``` - 2D arrays representing diagonals in factors $L$ (```L[0]``` keeps first lower diagonal, ```L[1]``` keeps second lower, ...), and $U$ (```U[:,0]``` keeps main diagonal, ```U[:,1]``` keeps first upper, ...).\n",
    "\n",
    "- (2 pts) Compare execution time of the band LU decomposition using standard function from ```scipy```, i.e. which takes the whole matrix and does not know about its special structure, and band decomposition of yours implementation. Comment on the results.\n",
    "\n",
    "- (7 pts) Write a function ```cholesky(n)``` for computing Cholesky decomposition. It should take the the single argument - the matrix that will be factorized and return the single output - lower-triangular factor $L$. Think about the efficiency of your implementation and if necessary update it to achieve the best performance (eliminate Python loops, where it is possible and so on). Explicitly describe the difference with LU decomposition that reduces the complexity from $2n^3/3$ for LU to $n^3/3$ for Cholesky. \n",
    "Test the implemented function on the Pascal matrix of given size $n$ for $n = 5, 10, 50$. \n",
    "Pascal matrix is square matrix of the following form (here for $n=4$)\n",
    "$$P = \\begin{pmatrix}\n",
    "1 & 1 & 1 & 1\\\\\n",
    "1 & 2 & 3 & 4 \\\\\n",
    "1 & 3 & 6 & 10 \\\\\n",
    "1 & 4 & 10 & 20 \\\\\n",
    "\\end{pmatrix}.$$\n",
    "\n",
    "    [Here](https://en.wikipedia.org/wiki/Pascal_matrix) you can find more details about such matrices and analytical form for factor $L$ from Cholesky decomposition. Compare the result of your implementation with analytical expression in terms of some matrix norm of difference.  "
   ]
  },
  {
   "cell_type": "code",
   "execution_count": 1,
   "metadata": {
    "id": "BvY7icWBOGIW"
   },
   "outputs": [],
   "source": [
    "from scipy.sparse import diags # can be used with broadcasting of scalars if desired dimensions are large\n",
    "import numpy as np\n",
    "import scipy\n",
    "from scipy.linalg import lu\n",
    "\n",
    "# INPUT : diag_broadcast - list of diagonals value to broadcast,length equal to 3 or 5; n - integer, band matrix shape.\n",
    "# OUTPUT : L - 2D np.ndarray, L.shape[0] depends on bandwidth, L.shape[1] = n-1, do not store main diagonal, where all ones;                  add zeros to the right side of rows to handle with changing length of diagonals.\n",
    "#          U - 2D np.ndarray, U.shape[0] = n, U.shape[1] depends on bandwidth;\n",
    "#              add zeros to the bottom of columns to handle with changing length of diagonals.\n",
    "def band_lu(diag_broadcast, n):\n",
    "    # enter your code here\n",
    "    if len(diag_broadcast) == 3:\n",
    "        # this link has been used to implement the algorithm\n",
    "        # https://algowiki-project.org/ru/%D0%9A%D0%BE%D0%BC%D0%BF%D0%B0%D0%BA%D1%82%D0%BD%D0%B0%D1%8F_%D1%81%D1%85%D0%B5%D0%BC%D0%B0_%D0%BC%D0%B5%D1%82%D0%BE%D0%B4%D0%B0_%D0%93%D0%B0%D1%83%D1%81%D1%81%D0%B0_%D0%B4%D0%BB%D1%8F_%D1%82%D1%80%D1%91%D1%85%D0%B4%D0%B8%D0%B0%D0%B3%D0%BE%D0%BD%D0%B0%D0%BB%D1%8C%D0%BD%D0%BE%D0%B9_%D0%BC%D0%B0%D1%82%D1%80%D0%B8%D1%86%D1%8B,_%D0%BF%D0%BE%D1%81%D0%BB%D0%B5%D0%B4%D0%BE%D0%B2%D0%B0%D1%82%D0%B5%D0%BB%D1%8C%D0%BD%D1%8B%D0%B9_%D0%B2%D0%B0%D1%80%D0%B8%D0%B0%D0%BD%D1%82\n",
    "\n",
    "        a_ld, a_ii, a_ud = diag_broadcast \n",
    "        # a_ld = A[i+1,i] - lower diagonal el.\n",
    "        # a_ii = A[i,i] - diagonal el.\n",
    "        # a_ud = A[i,i+1] - upper diagonal el.\n",
    "\n",
    "        L = np.zeros((1,n-1)) # lower diagonal el.\n",
    "        U = np.zeros((n, 2)) # (main | upper) diagonal els.\n",
    "\n",
    "        # initialization\n",
    "        U[0,0] = 1 # upper left entire from initial matrix\n",
    "        U[0:n-1,1] = a_ud # upper diagonal elements for U\n",
    "\n",
    "        for i in range(0, n-1):\n",
    "            # if a diagonal entire = 0, then raise the error\n",
    "            if U[i,0] == 0: raise ZeroDivisionError(\"LU does not exist. Pivoting is required\")\n",
    "            # calculate i-th lower diagonal element for L\n",
    "            L[0,i] = a_ld / U[i,0]\n",
    "            # calculate i-th diagonal element for U\n",
    "            U[i+1,0] = a_ii - L[0,i] * U[i,1]\n",
    "        return L,U\n",
    "\n",
    "    elif len(diag_broadcast) == 5:\n",
    "        a_lld, a_ld, a_ii, a_ud, a_uud = diag_broadcast\n",
    "        # a_lld = A[i+2,i] - lower-lower diagonal el.\n",
    "        # a_ld = A[i+1,i] - lower-diagonal el.\n",
    "        # a_ii = A[i,i] - diagonal el.\n",
    "        # a_ud = A[i,i+1] - upper-diagonal el.\n",
    "        # a_uud = A[i,i+2] - upper-upper diagonal el.\n",
    "        \n",
    "        L = np.zeros((2,n-1)) # (lower-lower | lower) diagonal els.\n",
    "        U = np.zeros((n, 3)) # (main | upper | upper-upper) diagonal ela.\n",
    "        \n",
    "        # initialization\n",
    "        U[0,0] = 1 # upper left entire from initial matrix\n",
    "        U[0,1] =  a_ud\n",
    "        U[0:n-2,2] = a_uud # upper-upper diagonal\n",
    "\n",
    "        for i in range(0,n-1):\n",
    "            # if a diagonal entire = 0, then raise the error\n",
    "            if U[i,0] == 0: raise ZeroDivisionError(\"LU does not exist. Pivoting is required\")\n",
    "            if i == 0:  \n",
    "                L[1,i] = a_ld / U[i,0] # lower diagonal el.\n",
    "                U[i+1,0] = a_ii - L[1,i]*U[i,1] # diagonal el.\n",
    "            elif i >= 1 and i <= n-2:\n",
    "                L[0,i] = a_lld / U[i-1,0] # lower-lower diagonal el.\n",
    "                L[1,i] = (a_ld - L[0,i]*U[i-1,1]) / U[i,0] # lower diagonal el.\n",
    "                U[i+1,0] = a_ii - L[0,i]*U[i-1,2] - L[1,i]*U[i,1] # diagonal el.\n",
    "            if i <= n-3:\n",
    "                U[i+1,1] = a_ud - L[1,i]*U[i,2] # upper diagonal el.\n",
    "        return L,U\n",
    "\n",
    "    else:\n",
    "        raise NotImplementedError()\n",
    " \n",
    "def cholesky(A):\n",
    "    # enter your code here\n",
    "    # the following algorithm was written using: https://ru.abcdef.wiki/wiki/Cholesky_decomposition\n",
    "    L = np.zeros_like(A,dtype=object)\n",
    "    n = A.shape[0]\n",
    "    \n",
    "    # initialization\n",
    "    L[0,0] = A[0,0]**0.5\n",
    "    L[1:n,0] = A[1:n,0] / L[0,0]\n",
    "\n",
    "    for i in range(1,n):\n",
    "        L[i,i] = (A[i,i] - np.sum(L[i,0:i]**2))**0.5\n",
    "\n",
    "        for j in range(i+1,n):\n",
    "            L[j,i] = (A[j,i] - np.sum(L[j,0:i]*L[i,0:i])) / L[i,i] \n",
    "    return L\n",
    "\n",
    "# to compare obtained results\n",
    "def naive_LU(A):\n",
    "    n = A.shape[0]\n",
    "    for k in range(n-1):                \n",
    "        for i in range(k+1,n): \n",
    "            if A[k,k]==0: raise ZeroDivisionError(\"LU does not exist. Pivot is equal to zero. Pivot number\",k)\n",
    "            A[i,k] /= A[k,k] # L[i,k] = A[i,k]/A[k,k]\n",
    "            # without loop\n",
    "            A[i,k+1:n] -= A[i,k]*A[k,k+1:n]\n",
    "            # with loop\n",
    "#             for j in range(k+1,n):      \n",
    "#                 A[i,j] -= A[i,k]*A[k,j]\n",
    "\n",
    "    # L consists of all elements lower main diagonal. Main diagonal - ones\n",
    "    L = np.tril(A,k=-1) + np.eye(n)\n",
    "    # U consists of all elements upper -1 diagonal\n",
    "    U = np.triu(A)\n",
    "    return L,U"
   ]
  },
  {
   "cell_type": "code",
   "execution_count": 2,
   "metadata": {
    "id": "XVySYJbTOGIa"
   },
   "outputs": [],
   "source": [
    "# Your solution is here"
   ]
  },
  {
   "cell_type": "markdown",
   "metadata": {},
   "source": [
    "**3-diagonal case**\n",
    "\n",
    "Consider toy example of 3*3 matrix to derive explicit formulas (suppose that $l_{ii} = 1$):\n",
    "\n",
    "$\n",
    "\\begin{bmatrix}\n",
    "a_{11} & a_{12} & 0 \\\\\n",
    "a_{21} & a_{22} & a_{23} \\\\\n",
    "0 & a_{32} & a_{33} \\\\\n",
    "\\end{bmatrix}\n",
    "= \n",
    "\\begin{bmatrix}\n",
    "l_{11} & 0 & 0 \\\\\n",
    "l_{21} & l_{22} & 0 \\\\\n",
    "l_{31} & l_{32} & l_{33} \\\\\n",
    "\\end{bmatrix}\n",
    "\\begin{bmatrix}\n",
    "u_{11} & u_{12} & u_{13} \\\\\n",
    "0 & u_{22} & u_{23} \\\\\n",
    "0 & 0 & u_{33} \\\\\n",
    "\\end{bmatrix}\n",
    "$\n",
    "\n",
    "1. $l_{11}u_{11} = a_{11} \\Rightarrow u_{11} = a_{11}$\n",
    "2. $l_{11}u_{12} = a_{12} \\Rightarrow u_{12} = a_{12}$\n",
    "3. $l_{11}u_{13} = 0 \\Rightarrow u_{13} = 0$\n",
    "4. $l_{21}u_{11} = a_{21} \\Rightarrow l_{21} = \\frac{a_{21}}{u_{11}}$\n",
    "5. $l_{21}u_{12} + l_{22}u_{22} = a_{22} \\Rightarrow u_{22} = a_{22} - l_{21}u_{12}$\n",
    "6. $l_{22}u_{23} = a_{23} \\Rightarrow u_{23} = a_{23}$\n",
    "7. $l_{31}u_{11} = 0 \\Rightarrow l_{31} = 0$\n",
    "8. $l_{32}u_{22} = a_{32} \\Rightarrow l_{32} = \\frac{a_{32}}{u_{22}}$\n",
    "9. $l_{32}u_{23} + l_{33}u_{33} = a_{33} \\Rightarrow u_{33} = a_{33} - l_{32}u_{23}$\n",
    "\n",
    "Let's summarize this algorithm for 3-diagonal band matrix:\n",
    "\n",
    "$u_{11} = a_{11}$\n",
    "\n",
    "$u_{i,i+1} = a_{i,i+1}, i \\in [1,n-1]$\n",
    "\n",
    "$l_{i+1,i} = \\frac{a_{i+1,i}}{u_{ii}}, i \\in [1,n-1]$\n",
    "\n",
    "$u_{ii} = a_{ii} - l_{i,i-1}u_{i-1,i}, i \\in [2,n]$"
   ]
  },
  {
   "cell_type": "markdown",
   "metadata": {},
   "source": [
    "**5-diagonal case**\n",
    "\n",
    "Consider toy example of 3*3 matrix to derive explicit formulas (suppose that $l_{ii} = 1$):\n",
    "\n",
    "$\n",
    "\\begin{bmatrix}\n",
    "a_{11} & a_{12} & a_{13} & 0 & 0\\\\\n",
    "a_{21} & a_{22} & a_{23} & a_{24} & 0\\\\\n",
    "a_{31} & a_{32} & a_{33} & a_{34} & a_{35}\\\\\n",
    "0 & a_{42} & a_{43} & a_{44} & a_{45}\\\\\n",
    "0 & 0 & a_{53} & a_{54} & a_{55}\\\\\n",
    "\\end{bmatrix}\n",
    "= \n",
    "\\begin{bmatrix}\n",
    "1 & 0 & 0 & 0 & 0 \\\\\n",
    "l_{21} & 1 & 0 & 0 & 0 \\\\\n",
    "l_{31} & l_{32} & 1 & 0 & 0 \\\\\n",
    "l_{41} & l_{42} & l_{43} & 1 & 0 \\\\\n",
    "l_{51} & l_{52} & l_{53} & l_{54} & 1 \\\\\n",
    "\\end{bmatrix}\n",
    "\\begin{bmatrix}\n",
    "u_{11} & u_{12} & u_{13} & u_{14} & u_{15}\\\\\n",
    "0 & u_{22} & u_{23} & u_{24} & u_{25}\\\\\n",
    "0 & 0 & u_{33} & u_{34} & u_{35}\\\\\n",
    "0 & 0 & 0 & u_{44} & u_{45}\\\\\n",
    "0 & 0 & 0 & 0 & u_{55}\\\\\n",
    "\\end{bmatrix}\n",
    "$\n",
    "\n",
    "The same approach leads to the following set of formulas (indexes from $1$ to $n-1$):\n",
    "\n",
    "The first row of $u$:\n",
    "$u_{1i} = a_{1i}, i \\in [0,n-3]$\n",
    "\n",
    "Lower-lower diagonal elements: \n",
    "$l_{i+2,i} = \\frac{a_{i+2,i}}{u_{ii}}, i \\in [1,n-2] $\n",
    "\n",
    "Lower diagonal elements:\n",
    "$\n",
    "\\begin{equation*}\n",
    "l_{i+1,i} = \n",
    " \\begin{cases}\n",
    "   \\frac{a_{i+1,i}}{u_{ii}}, i = 0 \\\\\n",
    "   \\frac{a_{i+1,i} - l_{i+1,i-1}u_{i-1,i}}{u_{ii}}, i \\in [1,n-2] \\\\\n",
    " \\end{cases}\n",
    "\\end{equation*}\n",
    "$\n",
    "\n",
    "Diagonal elements: \n",
    "$\n",
    "\\begin{equation*}\n",
    "u_{ii} = \n",
    " \\begin{cases}\n",
    "   a_{ii} - l_{i,i-1}u_{i-1,i}, i = 1 \\\\\n",
    "   a_{ii} - l_{i,i-2}u_{i-2,i} - l_{i,i-1}u_{i-1,i}, i \\in [3,n] \\\\\n",
    " \\end{cases}\n",
    "\\end{equation*}\n",
    "$\n",
    "\n",
    "Upper diagonal elements:\n",
    "$u_{i,i+1} = a_{i,i+1} - l_{i,i-1}u_{i-1,i+1}, i \\in [1,n-2]$\n",
    "\n",
    "Upper-upper diagonal elements:\n",
    "$u_{i,i+2} = a_{i,i+2}, i \\in [1,n-3]$"
   ]
  },
  {
   "cell_type": "markdown",
   "metadata": {},
   "source": [
    "## **Task 1.1.1**"
   ]
  },
  {
   "cell_type": "code",
   "execution_count": 3,
   "metadata": {},
   "outputs": [
    {
     "name": "stdout",
     "output_type": "stream",
     "text": [
      "Pascal matrix:\n",
      " [[ 1.  1.  1.  1.  1.]\n",
      " [ 1.  2.  3.  4.  5.]\n",
      " [ 1.  3.  6. 10. 15.]\n",
      " [ 1.  4. 10. 20. 35.]\n",
      " [ 1.  5. 15. 35. 70.]]\n"
     ]
    }
   ],
   "source": [
    "# just to show\n",
    "n = 5\n",
    "P = scipy.linalg.pascal(n, kind='symmetric', exact=True)\n",
    "print('Pascal matrix:\\n',np.array(P,dtype=np.float32))"
   ]
  },
  {
   "cell_type": "code",
   "execution_count": 4,
   "metadata": {},
   "outputs": [
    {
     "name": "stdout",
     "output_type": "stream",
     "text": [
      "[[1. 1. 0. 0. 0.]\n",
      " [1. 2. 1. 0. 0.]\n",
      " [0. 1. 2. 1. 0.]\n",
      " [0. 0. 1. 2. 1.]\n",
      " [0. 0. 0. 1. 2.]] \n",
      "\n",
      "[[1. 1. 1. 0. 0. 0. 0.]\n",
      " [1. 2. 1. 1. 0. 0. 0.]\n",
      " [1. 1. 2. 1. 1. 0. 0.]\n",
      " [0. 1. 1. 2. 1. 1. 0.]\n",
      " [0. 0. 1. 1. 2. 1. 1.]\n",
      " [0. 0. 0. 1. 1. 2. 1.]\n",
      " [0. 0. 0. 0. 1. 1. 2.]] \n",
      "\n"
     ]
    }
   ],
   "source": [
    "# just to show marices to be decomposed\n",
    "def gen_matrix(diag_broadcast,n):\n",
    "    opt_1 = [-1,0,1]\n",
    "    opt_2 = [-2,-1,0,1,2]\n",
    "    opt = opt_1 if len(diag_broadcast) == 3 else opt_2\n",
    "    A = diags(diag_broadcast,opt, shape=(n,n)).toarray()\n",
    "    A[0,0] = 1 # this element is equal to zero (always)\n",
    "    return A\n",
    "\n",
    "# function to reconstruct L,U in normal form (3 diagonals)\n",
    "def LU3_reconstruct(n, L, U):\n",
    "    # diagonal of ones + lower diagonal\n",
    "    L0 = np.eye(n) + diags(list(L[0,:]), -1).toarray()\n",
    "    # diagonal and upper diagonal\n",
    "    U0 = diags([list(U[:,0]),list(U[:,1])],[0,1]).toarray()\n",
    "    return L0, U0\n",
    "\n",
    "# function to reconstruct L,U in normal form (5 diagonals)\n",
    "def LU5_reconstruct(n, L, U):\n",
    "    # diagonal of ones + lower lower diagonal + lower diagonal\n",
    "    L0 = np.eye(n) + diags([list(L[0,1:]),list(L[1,:])], [-2,-1]).toarray()\n",
    "    # diagonal, upper diagonal and upper upper diagonal\n",
    "    U0 = diags([list(U[:,0]),list(U[:,1]),list(U[:,2])],[0,1,2]).toarray()\n",
    "    return L0, U0\n",
    "\n",
    "diag_broadcast, n = [1, 2, 1], 5\n",
    "A1 = gen_matrix(diag_broadcast,n)\n",
    "print(A1,'\\n')\n",
    "diag_broadcast, n = [1, 1, 2, 1, 1], 7\n",
    "A2 = gen_matrix(diag_broadcast,n)\n",
    "print(A2,'\\n')"
   ]
  },
  {
   "cell_type": "markdown",
   "metadata": {},
   "source": [
    "## **Compare naive LU results and band LU (check correctness)**"
   ]
  },
  {
   "cell_type": "code",
   "execution_count": 5,
   "metadata": {},
   "outputs": [
    {
     "data": {
      "text/plain": [
       "(True, True)"
      ]
     },
     "execution_count": 5,
     "metadata": {},
     "output_type": "execute_result"
    }
   ],
   "source": [
    "diag_broadcast, n = [6, 4, -2],75\n",
    "# generate 3-diag matrix\n",
    "D3 = gen_matrix(diag_broadcast,n)\n",
    "# band LU + reconstruction\n",
    "L0,U0 = band_lu(diag_broadcast, n)\n",
    "Lb,Ub = LU3_reconstruct(n, L0, U0)\n",
    "# naive LU\n",
    "Ln,Un = naive_LU(D3)\n",
    "\n",
    "# compare results\n",
    "(Lb == Ln).all(), (Ub == Un).all()"
   ]
  },
  {
   "cell_type": "code",
   "execution_count": 6,
   "metadata": {},
   "outputs": [
    {
     "data": {
      "text/plain": [
       "(True, True)"
      ]
     },
     "execution_count": 6,
     "metadata": {},
     "output_type": "execute_result"
    }
   ],
   "source": [
    "diag_broadcast, n = [-1, 6, 4, 2,3],68\n",
    "# generate 5-diag matrix\n",
    "D5 = gen_matrix(diag_broadcast,n)\n",
    "# band LU + reconstruction\n",
    "L0,U0 = band_lu(diag_broadcast, n)\n",
    "Lb,Ub = LU5_reconstruct(n, L0, U0)\n",
    "# naive LU\n",
    "Ln,Un = naive_LU(D5)\n",
    "\n",
    "# compare results\n",
    "(Lb == Ln).all(), (Ub == Un).all()"
   ]
  },
  {
   "cell_type": "markdown",
   "metadata": {},
   "source": [
    "## **Compare results of initial matrix and restored from band LU (check correctness)**"
   ]
  },
  {
   "cell_type": "code",
   "execution_count": 7,
   "metadata": {},
   "outputs": [
    {
     "name": "stdout",
     "output_type": "stream",
     "text": [
      "L=\n",
      " [[1. 1. 1. 1.]] \n",
      "\n",
      "U=\n",
      " [[1. 1.]\n",
      " [1. 1.]\n",
      " [1. 1.]\n",
      " [1. 1.]\n",
      " [1. 0.]] \n",
      "\n",
      "LU=\n",
      " [[1. 1. 0. 0. 0.]\n",
      " [1. 2. 1. 0. 0.]\n",
      " [0. 1. 2. 1. 0.]\n",
      " [0. 0. 1. 2. 1.]\n",
      " [0. 0. 0. 1. 2.]] \n",
      "\n",
      "Close elements:\n",
      " [[ True  True  True ...  True  True  True]\n",
      " [ True  True  True ...  True  True  True]\n",
      " [ True  True  True ...  True  True  True]\n",
      " ...\n",
      " [ True  True  True ...  True  True  True]\n",
      " [ True  True  True ...  True  True  True]\n",
      " [ True  True  True ...  True  True  True]] \n",
      "\n",
      "The number of incorrect elements =  0\n"
     ]
    }
   ],
   "source": [
    "# test to show\n",
    "diag_broadcast, n = [1, 2, 1], 5\n",
    "# band LU + reconstruction\n",
    "L0,U0 = band_lu(diag_broadcast, n)\n",
    "L, U = LU3_reconstruct(n, L0, U0)\n",
    "print('L=\\n',L0,'\\n')\n",
    "print('U=\\n',U0,'\\n')\n",
    "print('LU=\\n',L @ U,'\\n')\n",
    "\n",
    "# test for large n\n",
    "n = 100\n",
    "A3_test = gen_matrix(diag_broadcast,n)\n",
    "L0,U0 = band_lu(diag_broadcast, n)\n",
    "L, U = LU3_reconstruct(n, L0, U0)\n",
    "# compare\n",
    "print('Close elements:\\n',np.isclose(A3_test, L @ U),'\\n')\n",
    "# try to find at leas a single mistake\n",
    "print('The number of incorrect elements = ',np.sum(np.isclose(A3_test, L @ U) == False))"
   ]
  },
  {
   "cell_type": "code",
   "execution_count": 8,
   "metadata": {},
   "outputs": [
    {
     "name": "stdout",
     "output_type": "stream",
     "text": [
      "L=\n",
      " [[ 0.          1.          1.         -1.          0.5        -0.2       ]\n",
      " [ 1.          0.         -3.          1.          0.8         0.28571429]] \n",
      "\n",
      "U=\n",
      " [[ 1.   1.   3. ]\n",
      " [ 1.  -2.   3. ]\n",
      " [-1.   1.   3. ]\n",
      " [ 2.  10.   3. ]\n",
      " [-5.  -2.   3. ]\n",
      " [ 2.1 -1.4  0. ]\n",
      " [ 3.   0.   0. ]] \n",
      "\n",
      "LU=\n",
      " [[1. 1. 3. 0. 0. 0. 0.]\n",
      " [1. 2. 1. 3. 0. 0. 0.]\n",
      " [1. 1. 2. 1. 3. 0. 0.]\n",
      " [0. 1. 1. 2. 1. 3. 0.]\n",
      " [0. 0. 1. 1. 2. 1. 3.]\n",
      " [0. 0. 0. 1. 1. 2. 1.]\n",
      " [0. 0. 0. 0. 1. 1. 2.]] \n",
      "\n",
      "Close elements:\n",
      " [[ True  True  True ...  True  True  True]\n",
      " [ True  True  True ...  True  True  True]\n",
      " [ True  True  True ...  True  True  True]\n",
      " ...\n",
      " [ True  True  True ...  True  True  True]\n",
      " [ True  True  True ...  True  True  True]\n",
      " [ True  True  True ...  True  True  True]] \n",
      "\n",
      "The number of incorrect elements =  0\n"
     ]
    }
   ],
   "source": [
    "# test to show\n",
    "diag_broadcast, n = [1, 1, 2, 1, 3], 7 # FOR BAND [1,1,2,1,1] LU DOES NOT EXIST!!!\n",
    "# band LU + reconstruction\n",
    "L0,U0 = band_lu(diag_broadcast, n)\n",
    "L, U = LU5_reconstruct(n, L0, U0)\n",
    "print('L=\\n',L0,'\\n')\n",
    "print('U=\\n',U0,'\\n')\n",
    "print('LU=\\n',L @ U,'\\n')\n",
    "\n",
    "# test for large n\n",
    "n = 100\n",
    "A5_test = gen_matrix(diag_broadcast,n)\n",
    "L0,U0 = band_lu(diag_broadcast, n)\n",
    "L, U = LU5_reconstruct(n, L0, U0)\n",
    "# compare\n",
    "print('Close elements:\\n',np.isclose(A5_test, L @ U),'\\n')\n",
    "# try to find at leas a single mistake\n",
    "print('The number of incorrect elements = ',np.sum(np.isclose(A5_test, L @ U) == False))"
   ]
  },
  {
   "cell_type": "markdown",
   "metadata": {},
   "source": [
    "## **Task 1.1.2**\n",
    "\n",
    "**(2 pts) Compare execution time of the band LU decomposition using standard function from ```scipy```, i.e. which takes the whole matrix and does not know about its special structure, and band decomposition of yours implementation. Comment on the results.**"
   ]
  },
  {
   "cell_type": "code",
   "execution_count": 9,
   "metadata": {},
   "outputs": [
    {
     "name": "stderr",
     "output_type": "stream",
     "text": [
      "100%|██████████| 20/20 [04:15<00:00, 12.76s/it]\n"
     ]
    }
   ],
   "source": [
    "from tqdm import tqdm\n",
    "import scipy\n",
    "\n",
    "dim_range = np.linspace(100, 5000, num=20, dtype=int)\n",
    "\n",
    "# broadcast options\n",
    "diag_broadcast_LU3 = [1, 2, 1]\n",
    "diag_broadcast_LU5 = [1, 1, 2, 1, 3]\n",
    "\n",
    "# dicts for data\n",
    "LU3 = {'My':[],'Scipy':[]}\n",
    "LU5 = {'My':[],'Scipy':[]}\n",
    "\n",
    "for n in tqdm(dim_range):\n",
    "    t_my3 = %timeit -o -q -n 3 band_lu(diag_broadcast_LU3, n)\n",
    "    t_my5 = %timeit -o -q -n 3 band_lu(diag_broadcast_LU5, n)\n",
    "    A3 = gen_matrix(diag_broadcast_LU3,n)\n",
    "    t_scipy3 = %timeit -o -q -n 3 scipy.linalg.lu(A3,permute_l=False)\n",
    "    A5 = gen_matrix(diag_broadcast_LU5,n)\n",
    "    t_scipy5 = %timeit -o -q -n 3 scipy.linalg.lu(A5,permute_l=False)\n",
    "    LU3['My'].append(t_my3)\n",
    "    LU5['My'].append(t_my5)\n",
    "    LU3['Scipy'].append(t_scipy3)\n",
    "    LU5['Scipy'].append(t_scipy5)"
   ]
  },
  {
   "cell_type": "code",
   "execution_count": 10,
   "metadata": {},
   "outputs": [
    {
     "data": {
      "image/png": "[encoded data removed]",
      "text/plain": [
       "<Figure size 1440x432 with 2 Axes>"
      ]
     },
     "metadata": {
      "needs_background": "light"
     },
     "output_type": "display_data"
    }
   ],
   "source": [
    "import matplotlib.pyplot as plt\n",
    "\n",
    "LABELS = ['','','','']\n",
    "fig, (ax1, ax2) = plt.subplots(1, 2,figsize=(20,6))\n",
    "My3,My5,Scipy3,Scipy5 = [],[],[],[]\n",
    "for i in range(len(dim_range)):\n",
    "    My3.append(LU3['My'][i].average)\n",
    "    My5.append(LU5['My'][i].average)\n",
    "    Scipy3.append(LU3['Scipy'][i].average)\n",
    "    Scipy5.append(LU5['Scipy'][i].average)\n",
    "\n",
    "ax1.plot(dim_range,My3,label='Implemented function')\n",
    "ax2.plot(dim_range,My5,label='Implemented function')\n",
    "ax1.plot(dim_range,Scipy3,label='Scipy function')\n",
    "ax2.plot(dim_range,Scipy5,label='Scipy function')\n",
    "\n",
    "for ax,d in zip([ax1,ax2],[3,5]):\n",
    "    ax.set_title('Calculation time vs. n-dimention, n_diagonals ='+str(d),fontsize=16)\n",
    "    ax.set_xlabel('Size of n',fontsize=16)\n",
    "    ax.set_ylabel('Time',fontsize=16)\n",
    "    ax.set_yscale(\"log\")\n",
    "    ax.legend(fontsize=16)\n",
    "    ax.grid()"
   ]
  },
  {
   "cell_type": "markdown",
   "metadata": {},
   "source": [
    "## Using these results we can conclude that custom method `band_lu` works much faster than `scipy.linalg.lu` method. This performance caused by spetial structure of this matrix and that we use this knowledge. Complexity of `band_lu` is linear and for `scipy.linalg.lu` complexity is cubic."
   ]
  },
  {
   "cell_type": "markdown",
   "metadata": {},
   "source": [
    "## **Task 1.1.3**\n",
    "\n",
    "**(7 pts) Write a function ```cholesky(n)``` for computing Cholesky decomposition. It should take the the single argument - the matrix that will be factorized and return the single output - lower-triangular factor $L$. Think about the efficiency of your implementation and if necessary update it to achieve the best performance (eliminate Python loops, where it is possible and so on). Explicitly describe the difference with LU decomposition that reduces the complexity from $2n^3/3$ for LU to $n^3/3$ for Cholesky. \n",
    "Test the implemented function on the Pascal matrix of given size $n$ for $n = 5, 10, 50$. \n",
    "Pascal matrix is square matrix of the following form (here for $n=4$)\n",
    "$$P = \\begin{pmatrix}\n",
    "1 & 1 & 1 & 1\\\\\n",
    "1 & 2 & 3 & 4 \\\\\n",
    "1 & 3 & 6 & 10 \\\\\n",
    "1 & 4 & 10 & 20 \\\\\n",
    "\\end{pmatrix}.$$**\n",
    "\n",
    "## The difference between LU and Cholesky is obvious: LU requires calculation of two diagonal matrices that twice higher than for Cholesky.\n",
    "\n",
    "**Test the implemented function on the Pascal matrix of given size $n$ for $n = 5, 10, 50$.**"
   ]
  },
  {
   "cell_type": "code",
   "execution_count": 11,
   "metadata": {},
   "outputs": [
    {
     "name": "stdout",
     "output_type": "stream",
     "text": [
      "Total difference for n = 5: 0.0\n",
      "Total difference for n = 10: 0.0\n",
      "Total difference for n = 50: 0.011144022750634613\n"
     ]
    }
   ],
   "source": [
    "n = 5\n",
    "P = scipy.linalg.pascal(n, kind='symmetric', exact=True)\n",
    "L = cholesky(P)\n",
    "print('Total difference for n = 5:', np.sum(np.abs(L @ L.T - P)**2))\n",
    "\n",
    "n = 10\n",
    "P = scipy.linalg.pascal(n, kind='symmetric', exact=True)\n",
    "L = cholesky(P)\n",
    "print('Total difference for n = 10:', np.sum(np.abs(L @ L.T - P)**2))\n",
    "\n",
    "n = 50\n",
    "P = scipy.linalg.pascal(n, kind='symmetric', exact=True)\n",
    "L = cholesky(P)\n",
    "print('Total difference for n = 50:', np.sum(np.abs(L @ L.T - P)**2))"
   ]
  },
  {
   "cell_type": "markdown",
   "metadata": {},
   "source": [
    "**Compare the result of your implementation with analytical expression in terms of some matrix norm of difference.**\n",
    "\n",
    "$$\\text{ Analytical expression: } L_{ij} = \\frac{i!}{j!(i-j)!}, j \\leq i, \\text{ where } i \\in [0,n-1]$$\n",
    "\n",
    "$$ \\text{ I have chosen sqared Frobenius norm of the difference: } \\Vert A \\Vert_F^2 = {\\sum_{i=1}^n \\sum_{j=1}^n |L_{ij} - \\hat{L_{ij}}|^2} $$\n",
    "\n",
    "Here $L_{ij}$ is an analytical result and $\\hat{L_{ij}}$ is computational result."
   ]
  },
  {
   "cell_type": "code",
   "execution_count": 12,
   "metadata": {},
   "outputs": [
    {
     "name": "stdout",
     "output_type": "stream",
     "text": [
      "Total difference for n = 5: 0.0\n",
      "Total difference for n = 10: 0.0\n",
      "Total difference for n = 50: 3.7805734095298863e+28\n"
     ]
    }
   ],
   "source": [
    "# factorial calculation\n",
    "def fact(n):\n",
    "    f = np.prod(np.arange(1,n+1))\n",
    "    return f\n",
    "\n",
    "# analytical L calculation\n",
    "def analytical_L(n):\n",
    "    L = np.zeros((n,n),dtype=object)\n",
    "    for i in range(0,n):\n",
    "        for j in range(0,i+1):\n",
    "            L[i,j] = fact(i) / fact(j) / fact(i-j)\n",
    "    return L\n",
    "\n",
    "n = 5\n",
    "P = scipy.linalg.pascal(n, kind='symmetric', exact=True)\n",
    "L = cholesky(P)\n",
    "L_analytical = analytical_L(n)\n",
    "print('Total difference for n = 5:', np.sum(np.abs(L_analytical - L)**2))\n",
    "\n",
    "n = 10\n",
    "P = scipy.linalg.pascal(n, kind='symmetric', exact=True)\n",
    "L = cholesky(P)\n",
    "L_analytical = analytical_L(n)\n",
    "print('Total difference for n = 10:', np.sum(np.abs(L_analytical - L)**2))\n",
    "\n",
    "n = 50\n",
    "P = scipy.linalg.pascal(n, kind='symmetric', exact=True)\n",
    "L = cholesky(P)\n",
    "L_analytical = analytical_L(n)\n",
    "print('Total difference for n = 50:', np.sum(np.abs(L_analytical - L)**2))"
   ]
  },
  {
   "cell_type": "markdown",
   "metadata": {
    "id": "_iM6NwHQOGId"
   },
   "source": [
    "### 2. Stability of LU (8 pts)\n",
    "\n",
    "* (4 pts) Show, that for these  matrices $A$ and $B$ LU decomposition fails. Why does it happen?\n",
    "\n",
    "\n",
    "\n",
    "$\n",
    "A = \\begin{pmatrix}\n",
    "0 & 1 \\\\\n",
    "2 & 3\n",
    "\\end{pmatrix}.$ \n",
    "\n",
    "$B = \\begin{pmatrix}\n",
    "1 & 1 & 0\\\\\n",
    "1 & 1 & 2 \\\\\n",
    "1 & 2 & 1\n",
    "\\end{pmatrix}.$ \n",
    "\n",
    "* (4 pts) In the LU decomposition, a pivot position is a position of the element that identifies the row and column that will be eliminated in the current step. For example, first pivot in LU is usually the left top element. What value of $c$ leads to zero in the second pivot position? What $c$ produces zero in the third pivot position? What modification of LU should we use in order to address the possible zeros in pivot position?\n",
    "\n",
    "$A = \\begin{pmatrix}\n",
    "1 & c & 0\\\\\n",
    "2 & 4 & 1 \\\\\n",
    "3 & 5 & 1\n",
    "\\end{pmatrix}.$ "
   ]
  },
  {
   "cell_type": "code",
   "execution_count": 13,
   "metadata": {
    "id": "CmkB9hxwOGId"
   },
   "outputs": [],
   "source": [
    "# Your solution is here"
   ]
  },
  {
   "cell_type": "markdown",
   "metadata": {},
   "source": [
    "## **Task 1.2.1**\n",
    "\n",
    "**(4 pts) Show, that for these  matrices $A$ and $B$ LU decomposition fails. Why does it happen?\n",
    "$\n",
    "A = \\begin{pmatrix}\n",
    "0 & 1 \\\\\n",
    "2 & 3\n",
    "\\end{pmatrix}.$ \n",
    "$B = \\begin{pmatrix}\n",
    "1 & 1 & 0\\\\\n",
    "1 & 1 & 2 \\\\\n",
    "1 & 2 & 1\n",
    "\\end{pmatrix}.$**\n",
    "\n",
    "$\n",
    "A = \\begin{pmatrix}\n",
    "0 & 1 \\\\\n",
    "2 & 3\n",
    "\\end{pmatrix}\n",
    "=\n",
    "LU\n",
    "=\n",
    "\\begin{pmatrix}\n",
    "l_{11} & 0 \\\\\n",
    "l_{21} & l_{22}\n",
    "\\end{pmatrix}\n",
    "\\begin{pmatrix}\n",
    "u_{11} & u_{12} \\\\\n",
    "0 & u_{22}\n",
    "\\end{pmatrix}\n",
    "=\n",
    "\\begin{pmatrix}\n",
    "l_{11}u_{11} & l_{11}u_{12} \\\\\n",
    "l_{21}u_{11} & l_{21}u_{12} + l_{11}u_{22}\n",
    "\\end{pmatrix}\n",
    "$ \n",
    "\n",
    "So, we can obtain the following system of equations:\n",
    "$$\n",
    " \\begin{cases}\n",
    " l_{11}u_{11} = 0\\\\\n",
    " l_{11}u_{12} = 1\\\\\n",
    " l_{21}u_{11} = 2\\\\\n",
    " l_{21}u_{12} + l_{11}u_{22} = 3\\\\\n",
    " \\end{cases}\n",
    "$$\n",
    "\n",
    "From the first ecuation we can conclude that $l_{11} = 0$ or $u_{11} = 0$. But it is not compartible with the second or the third equation (we cannot achieve it simultaneously). \n",
    "\n",
    "**So, $LU$ decomposition fails in this case.**"
   ]
  },
  {
   "cell_type": "markdown",
   "metadata": {},
   "source": [
    "$\n",
    "B = \\begin{pmatrix}\n",
    "1 & 1 & 0\\\\\n",
    "1 & 1 & 2 \\\\\n",
    "1 & 2 & 1\n",
    "\\end{pmatrix}\n",
    "=\n",
    "LU\n",
    "=\n",
    "\\begin{pmatrix}\n",
    "l_{11} & 0 & 0 \\\\\n",
    "l_{21} & l_{22} & 0 \\\\\n",
    "l_{31} & l_{32} & l_{33} \\\\\n",
    "\\end{pmatrix}\n",
    "\\begin{pmatrix}\n",
    "u_{11} & u_{12} & u_{13} \\\\\n",
    "0 & u_{22} & u_{23} \\\\\n",
    "0 & 0 & u_{33}\n",
    "\\end{pmatrix}\n",
    "=\n",
    "\\begin{pmatrix}\n",
    "l_{11}u_{11} & l_{11}u_{12} & l_{11}u_{13}\\\\\n",
    "l_{21}u_{11} & l_{21}u_{12} + l_{22}u_{22} & l_{21}u_{13} + l_{22}u_{23}\\\\\n",
    "l_{31}u_{11} & l_{31}u_{12} + l_{32}u_{22} & l_{31}u_{13} + l_{32}u_{23} + l_{33}u_{33}\\\\\n",
    "\\end{pmatrix}\n",
    "$ \n",
    "\n",
    "So, we can obtain the following system of equations:\n",
    "\n",
    "$\n",
    " \\begin{cases}\n",
    "l_{11}u_{11} = 1\\\\\n",
    "l_{11}u_{12} = 1\\\\\n",
    "l_{11}u_{13} = 0\\\\\n",
    "l_{21}u_{11} = 1\\\\\n",
    "l_{21}u_{12} + l_{22}u_{22} = 1\\\\\n",
    "l_{21}u_{13} + l_{22}u_{23} = 2\\\\\n",
    "l_{31}u_{11} = 1\\\\\n",
    "l_{31}u_{12} + l_{32}u_{22} = 2\\\\\n",
    "l_{31}u_{13} + l_{32}u_{23} + l_{33}u_{33} = 1\\\\\n",
    " \\end{cases}\n",
    "\\Rightarrow\n",
    " \\begin{cases}\n",
    "l_{11}u_{11} = 1\\\\\n",
    "l_{11}u_{12} = 1\\\\\n",
    "l_{21}u_{11} = 1\\\\\n",
    "l_{21}u_{12} + l_{22}u_{22} = 1\\\\\n",
    "l_{22}u_{23} = 2\\\\\n",
    "l_{31}u_{11} = 1\\\\\n",
    "l_{31}u_{12} + l_{32}u_{22} = 2\\\\\n",
    "l_{32}u_{23} + l_{33}u_{33} = 1\\\\\n",
    " \\end{cases}\n",
    "\\Rightarrow\n",
    " \\begin{cases}\n",
    "lu = 1\\\\\n",
    "lu + l_{22}u_{22} = 1\\\\\n",
    "l_{22}u_{23} = 2\\\\\n",
    "lu + l_{32}u_{22} = 2\\\\\n",
    "l_{32}u_{23} + l_{33}u_{33} = 1\\\\\n",
    " \\end{cases}\n",
    "\\Rightarrow\n",
    " \\begin{cases}\n",
    "l_{22}u_{22} = 0\\\\\n",
    "l_{22}u_{23} = 2\\\\\n",
    "l_{32}u_{22} = 1\\\\\n",
    "l_{32}u_{23} + l_{33}u_{33} = 1\\\\\n",
    " \\end{cases}\n",
    "$"
   ]
  },
  {
   "cell_type": "markdown",
   "metadata": {},
   "source": [
    "1. From the first-third ecuations we can conclude that $l_{11} \\neq 0$ and $u_{13} = 0$. \n",
    "2. From the first-second ecuations we can conclude that $u_{11} = u_{12} = u$, from first, third and sixth: $l_{11} = l_{21} =l_{31} =l $ \n",
    "3. After simplification we can see that the first equation is not compartible with the second and third equations since it requires $l_{22} = 0$ or $u_{22} = 0$\n",
    "\n",
    "**So, $LU$ decomposition fails in this case.**"
   ]
  },
  {
   "cell_type": "markdown",
   "metadata": {},
   "source": [
    "## **Task 1.2.2**\n",
    "**(4 pts) In the LU decomposition, a pivot position is a position of the element that identifies the row and column that will be eliminated in the current step. For example, first pivot in LU is usually the left top element. What value of $c$ leads to zero in the second pivot position? What $c$ produces zero in the third pivot position? What modification of LU should we use in order to address the possible zeros in pivot position?\n",
    "$A = \\begin{pmatrix}\n",
    "1 & c & 0\\\\\n",
    "2 & 4 & 1 \\\\\n",
    "3 & 5 & 1\n",
    "\\end{pmatrix}.$** \n",
    "\n"
   ]
  },
  {
   "cell_type": "markdown",
   "metadata": {},
   "source": [
    "Let's consider $LU$ decomposition of this matrix step-by step. Assume that the main diagonal of $L$ consists of ones i.e: $l_{ii}=1,\\forall i \\in [1,n]$.\n",
    "\n",
    "$\n",
    "A = \n",
    "LU\n",
    "=\n",
    "\\begin{pmatrix}\n",
    "1 & c & 0\\\\\n",
    "2 & 4 & 1 \\\\\n",
    "3 & 5 & 1\n",
    "\\end{pmatrix}\n",
    "=\n",
    "\\begin{pmatrix}\n",
    "1 & 0 & 0 \\\\\n",
    "l_{21} & 1 & 0 \\\\\n",
    "l_{31} & l_{32} & 1 \\\\\n",
    "\\end{pmatrix}\n",
    "\\begin{pmatrix}\n",
    "u_{11} & u_{12} & u_{13} \\\\\n",
    "0 & u_{22} & u_{23} \\\\\n",
    "0 & 0 & u_{33}\n",
    "\\end{pmatrix}\n",
    "$\n",
    "\n",
    "1. It's obvious that $u_{11} = 1,u_{12} = c, u_{13} = 0$.\n",
    "2. $l_{21}u_{11}=2 \\Rightarrow l_{21}=2$\n",
    "3. $l_{21}u_{12}+u_{22}=4 \\Rightarrow u_{22} = 4 - l_{21}u_{12} = 4 - 2c$\n",
    "\n",
    "$u_{22}$ is the second pivot. Let $u_{22}=0 \\Rightarrow 4 = 2c \\Rightarrow c = 2$\n",
    "\n",
    "Let's proced:\n",
    "\n",
    "4. $l_{21}u_{13}+u_{23}=1 \\Rightarrow u_{23}=1 - l_{21}u_{13} = 1 - 2\\cdot0 = 1$\n",
    "5. $l_{31}u_{11}=3 \\Rightarrow l_{31} = 3$\n",
    "6. $l_{31}u_{12}+l_{32}u_{22}=5 \\Rightarrow l_{32} =\\frac{ 5 - l_{31}u_{12}}{u_{22}} = \\frac{ 5 - 3c}{4-2c}$\n",
    "7. $l_{31}u_{13}+l_{32}u_{23}+u_{33}=1 \\Rightarrow u_{33} = 1 - l_{31}u_{13}-l_{32}u_{23} = 1 - 3\\cdot0 - \\frac{ 5 - 3c}{4-2c} \\cdot 1 = \\frac{ c - 1}{4-2c}$\n",
    "\n",
    "$u_{33}$ is the third pivot. Let $u_{33}=0 \\Rightarrow \\frac{ c - 1}{4-2c} = 0 \\Rightarrow c = 1$\n",
    "\n",
    "**Answer:** $c = 2$ leads to zero in the second pivot and $c = 1$ leads to zero in the third pivot.\n",
    "## Here we can test it:"
   ]
  },
  {
   "cell_type": "markdown",
   "metadata": {},
   "source": [
    "### $c = 2$"
   ]
  },
  {
   "cell_type": "code",
   "execution_count": 15,
   "metadata": {},
   "outputs": [
    {
     "ename": "ZeroDivisionError",
     "evalue": "('LU does not exist. Pivot is equal to zero. Pivot number', 1)",
     "output_type": "error",
     "traceback": [
      "\u001b[0;31m---------------------------------------------------------------------------\u001b[0m",
      "\u001b[0;31mZeroDivisionError\u001b[0m                         Traceback (most recent call last)",
      "\u001b[0;32m<ipython-input-15-e6c1f2ec4dfb>\u001b[0m in \u001b[0;36m<module>\u001b[0;34m\u001b[0m\n\u001b[1;32m      3\u001b[0m             \u001b[0;34m[\u001b[0m\u001b[0;36m2\u001b[0m\u001b[0;34m,\u001b[0m\u001b[0;36m4\u001b[0m\u001b[0;34m,\u001b[0m\u001b[0;36m1\u001b[0m\u001b[0;34m]\u001b[0m\u001b[0;34m,\u001b[0m\u001b[0;34m\u001b[0m\u001b[0;34m\u001b[0m\u001b[0m\n\u001b[1;32m      4\u001b[0m             [3,5,1]])\n\u001b[0;32m----> 5\u001b[0;31m \u001b[0mL\u001b[0m\u001b[0;34m,\u001b[0m\u001b[0mU\u001b[0m \u001b[0;34m=\u001b[0m \u001b[0mnaive_LU\u001b[0m\u001b[0;34m(\u001b[0m\u001b[0mA\u001b[0m\u001b[0;34m)\u001b[0m\u001b[0;34m\u001b[0m\u001b[0;34m\u001b[0m\u001b[0m\n\u001b[0m\u001b[1;32m      6\u001b[0m \u001b[0mprint\u001b[0m\u001b[0;34m(\u001b[0m\u001b[0;34m'The third pivot is:'\u001b[0m\u001b[0;34m,\u001b[0m\u001b[0mU\u001b[0m\u001b[0;34m[\u001b[0m\u001b[0;36m2\u001b[0m\u001b[0;34m,\u001b[0m\u001b[0;36m2\u001b[0m\u001b[0;34m]\u001b[0m\u001b[0;34m)\u001b[0m\u001b[0;34m\u001b[0m\u001b[0;34m\u001b[0m\u001b[0m\n",
      "\u001b[0;32m<ipython-input-1-28c05a588c40>\u001b[0m in \u001b[0;36mnaive_LU\u001b[0;34m(A)\u001b[0m\n\u001b[1;32m     90\u001b[0m     \u001b[0;32mfor\u001b[0m \u001b[0mk\u001b[0m \u001b[0;32min\u001b[0m \u001b[0mrange\u001b[0m\u001b[0;34m(\u001b[0m\u001b[0mn\u001b[0m\u001b[0;34m-\u001b[0m\u001b[0;36m1\u001b[0m\u001b[0;34m)\u001b[0m\u001b[0;34m:\u001b[0m\u001b[0;34m\u001b[0m\u001b[0;34m\u001b[0m\u001b[0m\n\u001b[1;32m     91\u001b[0m         \u001b[0;32mfor\u001b[0m \u001b[0mi\u001b[0m \u001b[0;32min\u001b[0m \u001b[0mrange\u001b[0m\u001b[0;34m(\u001b[0m\u001b[0mk\u001b[0m\u001b[0;34m+\u001b[0m\u001b[0;36m1\u001b[0m\u001b[0;34m,\u001b[0m\u001b[0mn\u001b[0m\u001b[0;34m)\u001b[0m\u001b[0;34m:\u001b[0m\u001b[0;34m\u001b[0m\u001b[0;34m\u001b[0m\u001b[0m\n\u001b[0;32m---> 92\u001b[0;31m             \u001b[0;32mif\u001b[0m \u001b[0mA\u001b[0m\u001b[0;34m[\u001b[0m\u001b[0mk\u001b[0m\u001b[0;34m,\u001b[0m\u001b[0mk\u001b[0m\u001b[0;34m]\u001b[0m\u001b[0;34m==\u001b[0m\u001b[0;36m0\u001b[0m\u001b[0;34m:\u001b[0m \u001b[0;32mraise\u001b[0m \u001b[0mZeroDivisionError\u001b[0m\u001b[0;34m(\u001b[0m\u001b[0;34m\"LU does not exist. Pivot is equal to zero. Pivot number\"\u001b[0m\u001b[0;34m,\u001b[0m\u001b[0mk\u001b[0m\u001b[0;34m)\u001b[0m\u001b[0;34m\u001b[0m\u001b[0;34m\u001b[0m\u001b[0m\n\u001b[0m\u001b[1;32m     93\u001b[0m             \u001b[0mA\u001b[0m\u001b[0;34m[\u001b[0m\u001b[0mi\u001b[0m\u001b[0;34m,\u001b[0m\u001b[0mk\u001b[0m\u001b[0;34m]\u001b[0m \u001b[0;34m/=\u001b[0m \u001b[0mA\u001b[0m\u001b[0;34m[\u001b[0m\u001b[0mk\u001b[0m\u001b[0;34m,\u001b[0m\u001b[0mk\u001b[0m\u001b[0;34m]\u001b[0m \u001b[0;31m# L[i,k] = A[i,k]/A[k,k]\u001b[0m\u001b[0;34m\u001b[0m\u001b[0;34m\u001b[0m\u001b[0m\n\u001b[1;32m     94\u001b[0m             \u001b[0;31m# without loop\u001b[0m\u001b[0;34m\u001b[0m\u001b[0;34m\u001b[0m\u001b[0;34m\u001b[0m\u001b[0m\n",
      "\u001b[0;31mZeroDivisionError\u001b[0m: ('LU does not exist. Pivot is equal to zero. Pivot number', 1)"
     ]
    }
   ],
   "source": [
    "c = 2\n",
    "A = np.array([[1,c,0],\n",
    "            [2,4,1],\n",
    "            [3,5,1]])\n",
    "L,U = naive_LU(A)\n",
    "print('The third pivot is:',U[2,2])"
   ]
  },
  {
   "cell_type": "markdown",
   "metadata": {},
   "source": [
    "### $c = 1$"
   ]
  },
  {
   "cell_type": "code",
   "execution_count": 16,
   "metadata": {},
   "outputs": [
    {
     "name": "stdout",
     "output_type": "stream",
     "text": [
      "The third pivot is: 0\n"
     ]
    }
   ],
   "source": [
    "c = 1\n",
    "A = np.array([[1,c,0],\n",
    "            [2,4,1],\n",
    "            [3,5,1]])\n",
    "L,U = naive_LU(A)\n",
    "print('The third pivot is:',U[2,2])"
   ]
  },
  {
   "cell_type": "markdown",
   "metadata": {},
   "source": [
    "## **To avoid zero pivots it is better to use LU decomposition with pivoting (PLU decomposition).**"
   ]
  },
  {
   "cell_type": "markdown",
   "metadata": {
    "id": "YFc3BR_TOGIj"
   },
   "source": [
    "### 3. Implementation of PLU decomposition (14 pts)\n",
    "\n",
    "As you have noticed before, LU decomposition may fail. In order to make it stable, we can use LU decomposition with pivoting  (PLU).\n",
    "\n",
    "We want to find such permutation matrix $P$ that LU decomposition of $PA$ exists\n",
    "\n",
    "$$ PA = LU $$\n",
    "\n",
    "- (7 pts) Implement efficiently PLU decomposition (without loops and with appropriate level of BLAS operations).  Also, pay attention to the way of permutation matrix storage.\n",
    "\n",
    "- (4 pts ) Compare your function for computing PLU with built-in function on matrices of such type ```(mirror_diag = [1,2,1], n = 4)```. (Bandwidth and matrix size may vary). So, you can pass them as dense 2D NumPy array and do not tune your implementation to this special structure. Compare them in terms of running time (use ```%timeit``` magic) for range of dimensions to recover the asymptotic rate of time increasing and in terms of acuracy. We expect you plot the running time vs matrix dimension for built-in function and your implementation. So you should get the plot with two lines.\n",
    "Consider additionally one of the pathological examples from above, where LU fails, but PLU has to work.\n",
    "\n",
    "\n",
    "$$A = \\begin{pmatrix}\n",
    "0 & 0 & 1 & 1 \\\\\n",
    " 0 &1 & 2 & 1  \\\\\n",
    " 1 & 2 & 1  & 0\\\\\n",
    "1 & 2  & 0 & 0  \\\\\n",
    "\\end{pmatrix}.$$\n",
    "\n",
    "\n",
    "- (3 pts) Discuss the obtained results and explain how is it possible to accelerate computing the PLU factorization. \n",
    "\n",
    "NumPy or JAX are both ok in this problem, but please use the single library for all implementations. "
   ]
  },
  {
   "cell_type": "code",
   "execution_count": 17,
   "metadata": {},
   "outputs": [],
   "source": [
    "# Your solution is here"
   ]
  },
  {
   "cell_type": "markdown",
   "metadata": {},
   "source": [
    "## **Task 1.3.1**\n",
    "**(7 pts) Implement efficiently PLU decomposition (without loops and with appropriate level of BLAS operations).  Also, pay attention to the way of permutation matrix storage.**"
   ]
  },
  {
   "cell_type": "code",
   "execution_count": 18,
   "metadata": {},
   "outputs": [],
   "source": [
    "import numpy as np\n",
    "from scipy.sparse import diags \n",
    "from numba import njit\n",
    "\n",
    "# @njit\n",
    "def LUP_decompose(A):\n",
    "    n = A.shape[0]\n",
    "    # permutation vector (can be reshaped to the matrix)\n",
    "    p = np.arange(0,n)\n",
    "    for i in range(n-1):\n",
    "        # find pivot index\n",
    "        piv_idx = i + np.argmax(np.abs(A[i:n,i]))\n",
    "        pivot_val = np.abs(A[piv_idx,i])\n",
    "        if pivot_val != 0:\n",
    "            # exchange rows of p\n",
    "            p[i],p[piv_idx] = p[piv_idx],p[i]\n",
    "            # exchange rows of A\n",
    "            A[[i, piv_idx]] = A[[piv_idx, i]] # doesn't work with jit\n",
    "#             A[i,:],A[piv_idx,:] = np.copy(A[piv_idx,:]),np.copy(A[i,:])\n",
    "            \n",
    "            # LU decomposition\n",
    "            for j in range(i+1,n):\n",
    "                A[j,i] /= A[i,i]\n",
    "                A[j,i+1:n] -= A[j,i] * A[i,i+1:n]\n",
    "        else:\n",
    "            raise ZeroDivisionError('Pivot is equal to zero! LUP does not exist.')\n",
    "    # L consists of all elements lower main diagonal. Main diagonal - ones\n",
    "    L = np.tril(A,k=-1) + np.eye(n)\n",
    "    # U consists of all elements higher -1 diagonal\n",
    "    U = np.triu(A)\n",
    "    # reconstruct permutation matrix\n",
    "    P = np.eye(n)[:,p]\n",
    "    return P,L,U"
   ]
  },
  {
   "cell_type": "markdown",
   "metadata": {},
   "source": [
    "## **Let's test PLU for large random matrix**"
   ]
  },
  {
   "cell_type": "code",
   "execution_count": 19,
   "metadata": {},
   "outputs": [
    {
     "name": "stdout",
     "output_type": "stream",
     "text": [
      "Close elements:\n",
      " [[ True  True  True ...  True  True  True]\n",
      " [ True  True  True ...  True  True  True]\n",
      " [ True  True  True ...  True  True  True]\n",
      " ...\n",
      " [ True  True  True ...  True  True  True]\n",
      " [ True  True  True ...  True  True  True]\n",
      " [ True  True  True ...  True  True  True]] \n",
      "\n",
      "The number of incorrect elements =  0\n"
     ]
    }
   ],
   "source": [
    "n = 99\n",
    "M = np.random.randn(n,n)\n",
    "P,L,U = LUP_decompose(np.copy(M))\n",
    "\n",
    "# compare\n",
    "print('Close elements:\\n',np.isclose(P @ L @ U,M),'\\n')\n",
    "# try to find at leas a single mistake\n",
    "print('The number of incorrect elements = ',np.sum(np.isclose(P @ L @ U,M) == False))"
   ]
  },
  {
   "cell_type": "markdown",
   "metadata": {},
   "source": [
    "## **Task 1.3.2**\n",
    "**(4 pts ) Compare your function for computing PLU with built-in function on matrices of such type ```(mirror_diag = [1,2,1], n = 4)```. (Bandwidth and matrix size may vary). So, you can pass them as dense 2D NumPy array and do not tune your implementation to this special structure. Compare them in terms of running time (use ```%timeit``` magic) for range of dimensions to recover the asymptotic rate of time increasing and in terms of acuracy. We expect you plot the running time vs matrix dimension for built-in function and your implementation. So you should get the plot with two lines.\n",
    "Consider additionally one of the pathological examples from above, where LU fails, but PLU has to work.\n",
    "$$A = \\begin{pmatrix}\n",
    "0 & 0 & 1 & 1 \\\\\n",
    " 0 &1 & 2 & 1  \\\\\n",
    " 1 & 2 & 1  & 0\\\\\n",
    "1 & 2  & 0 & 0  \\\\\n",
    "\\end{pmatrix}.$$**"
   ]
  },
  {
   "cell_type": "code",
   "execution_count": 20,
   "metadata": {},
   "outputs": [
    {
     "name": "stdout",
     "output_type": "stream",
     "text": [
      "[[2. 1. 0. 0. 0. 0. 0.]\n",
      " [1. 2. 1. 0. 0. 0. 0.]\n",
      " [0. 1. 2. 1. 0. 0. 0.]\n",
      " [0. 0. 1. 2. 1. 0. 0.]\n",
      " [0. 0. 0. 1. 2. 1. 0.]\n",
      " [0. 0. 0. 0. 1. 2. 1.]\n",
      " [0. 0. 0. 0. 0. 1. 2.]]\n"
     ]
    }
   ],
   "source": [
    "# just to show marices to be decomposed\n",
    "def band_matrix(diag_broadcast,n):\n",
    "    length = len(diag_broadcast)\n",
    "    assert len(diag_broadcast)%2 == 1\n",
    "    diagonals = [int(i-(length-1)/2) for i in range(length)]\n",
    "    A = diags(diag_broadcast,diagonals,shape=(n,n)).toarray()\n",
    "    return A\n",
    "\n",
    "n=7\n",
    "diag_broadcast = [1,2,1]\n",
    "D = band_matrix(diag_broadcast,n)\n",
    "print(D)"
   ]
  },
  {
   "cell_type": "code",
   "execution_count": 21,
   "metadata": {},
   "outputs": [
    {
     "name": "stderr",
     "output_type": "stream",
     "text": [
      "100%|██████████| 16/16 [04:18<00:00, 16.16s/it]\n"
     ]
    }
   ],
   "source": [
    "from tqdm import tqdm\n",
    "import scipy\n",
    "\n",
    "dim_range = np.linspace(100, 1000, num=16, dtype=int)\n",
    "\n",
    "# broadcast options\n",
    "diag_broadcast_LU = [1, 2, 1]\n",
    "\n",
    "# data storage\n",
    "LU = {'My':[],'Scipy':[]}\n",
    "\n",
    "for n in tqdm(dim_range):\n",
    "    D = band_matrix(diag_broadcast,n)\n",
    "    t_my = %timeit -o -q -n 3 LUP_decompose(D)\n",
    "    t_scipy = %timeit -o -q -n 3 scipy.linalg.lu(D)\n",
    "    LU['My'].append(t_my)\n",
    "    LU['Scipy'].append(t_scipy)"
   ]
  },
  {
   "cell_type": "code",
   "execution_count": 22,
   "metadata": {},
   "outputs": [
    {
     "data": {
      "image/png": "[encoded data removed]",
      "text/plain": [
       "<Figure size 1008x432 with 1 Axes>"
      ]
     },
     "metadata": {
      "needs_background": "light"
     },
     "output_type": "display_data"
    }
   ],
   "source": [
    "import matplotlib.pyplot as plt\n",
    "\n",
    "LABELS = ['','','','']\n",
    "plt.figure(figsize=(14,6))\n",
    "plt.title('Calculation time vs. n-dimention',fontsize=16)\n",
    "My,Scipy = [],[]\n",
    "for i in range(len(dim_range)):\n",
    "    My.append(LU['My'][i].average)\n",
    "    Scipy.append(LU['Scipy'][i].average)\n",
    "    \n",
    "plt.plot(dim_range,My,label='Implemented function')\n",
    "plt.plot(dim_range,Scipy,label='Scipy function')\n",
    "plt.xlabel('Size of n',fontsize=16)\n",
    "plt.ylabel('Time',fontsize=16)\n",
    "plt.legend(fontsize=16)\n",
    "plt.yscale(\"log\")\n",
    "plt.grid()"
   ]
  },
  {
   "cell_type": "code",
   "execution_count": 23,
   "metadata": {},
   "outputs": [
    {
     "data": {
      "text/plain": [
       "216.83015475828313"
      ]
     },
     "execution_count": 23,
     "metadata": {},
     "output_type": "execute_result"
    }
   ],
   "source": [
    "np.mean(np.array(My)/np.array(Scipy)) "
   ]
  },
  {
   "cell_type": "markdown",
   "metadata": {},
   "source": [
    "### **Consider 3 examples where LU fails: A matrix from the assignment, band matrix from the 1st task and matrix from task 1.2.2**"
   ]
  },
  {
   "cell_type": "code",
   "execution_count": 24,
   "metadata": {},
   "outputs": [
    {
     "name": "stdout",
     "output_type": "stream",
     "text": [
      "Matrix\n",
      " [[0 0 1 1]\n",
      " [0 1 2 1]\n",
      " [1 2 1 0]\n",
      " [1 1 0 0]] \n",
      "\n",
      "Naive LU fails\n"
     ]
    },
    {
     "data": {
      "text/plain": [
       "array([[ True,  True,  True,  True],\n",
       "       [ True,  True,  True,  True],\n",
       "       [ True,  True,  True,  True],\n",
       "       [ True,  True,  True,  True]])"
      ]
     },
     "execution_count": 24,
     "metadata": {},
     "output_type": "execute_result"
    }
   ],
   "source": [
    "A = np.array([[0,0,1,1],\n",
    "              [0,1,2,1],\n",
    "              [1,2,1,0],\n",
    "              [1,1,0,0]])\n",
    "\n",
    "print('Matrix\\n',A,'\\n')\n",
    "try:\n",
    "    P,L,U = naive_LU(A)\n",
    "except:\n",
    "    print('Naive LU fails')\n",
    "\n",
    "P,L,U = LUP_decompose(np.copy(A))\n",
    "np.isclose(P @ L @ U,A)"
   ]
  },
  {
   "cell_type": "code",
   "execution_count": 25,
   "metadata": {},
   "outputs": [
    {
     "name": "stdout",
     "output_type": "stream",
     "text": [
      "Matrix\n",
      " [[1. 1. 1. 0. 0. 0. 0.]\n",
      " [1. 2. 1. 1. 0. 0. 0.]\n",
      " [1. 1. 2. 1. 1. 0. 0.]\n",
      " [0. 1. 1. 2. 1. 1. 0.]\n",
      " [0. 0. 1. 1. 2. 1. 1.]\n",
      " [0. 0. 0. 1. 1. 2. 1.]\n",
      " [0. 0. 0. 0. 1. 1. 2.]] \n",
      "\n",
      "Naive LU fails\n",
      "\n"
     ]
    },
    {
     "data": {
      "text/plain": [
       "array([[ True,  True,  True,  True,  True,  True,  True],\n",
       "       [ True,  True,  True,  True,  True,  True,  True],\n",
       "       [ True,  True,  True,  True,  True,  True,  True],\n",
       "       [ True,  True,  True,  True,  True,  True,  True],\n",
       "       [ True,  True,  True,  True,  True,  True,  True],\n",
       "       [ True,  True,  True,  True,  True,  True,  True],\n",
       "       [ True,  True,  True,  True,  True,  True,  True]])"
      ]
     },
     "execution_count": 25,
     "metadata": {},
     "output_type": "execute_result"
    }
   ],
   "source": [
    "# just to show marices to be decomposed\n",
    "def gen_matrix(diag_broadcast,n):\n",
    "    opt_1 = [-1,0,1]\n",
    "    opt_2 = [-2,-1,0,1,2]\n",
    "    opt = opt_1 if len(diag_broadcast) == 3 else opt_2\n",
    "    A = diags(diag_broadcast,opt, shape=(n,n)).toarray()\n",
    "    A[0,0] = 1 # this element is equal to zero (always)\n",
    "    return A\n",
    "\n",
    "diag_broadcast, n = [1, 1, 2, 1, 1], 7\n",
    "A = gen_matrix(diag_broadcast,n)\n",
    "\n",
    "print('Matrix\\n',A,'\\n')\n",
    "try:\n",
    "    P,L,U = naive_LU(A)\n",
    "except:\n",
    "    print('Naive LU fails\\n')\n",
    "\n",
    "P,L,U = LUP_decompose(np.copy(A))\n",
    "np.isclose(P @ L @ U,A)"
   ]
  },
  {
   "cell_type": "code",
   "execution_count": 26,
   "metadata": {},
   "outputs": [
    {
     "name": "stdout",
     "output_type": "stream",
     "text": [
      "Matrix\n",
      " [[1. 2. 0.]\n",
      " [2. 4. 1.]\n",
      " [3. 5. 1.]] \n",
      "\n",
      "Naive LU fails\n",
      "\n"
     ]
    },
    {
     "data": {
      "text/plain": [
       "array([[ True,  True,  True],\n",
       "       [ True,  True,  True],\n",
       "       [ True,  True,  True]])"
      ]
     },
     "execution_count": 26,
     "metadata": {},
     "output_type": "execute_result"
    }
   ],
   "source": [
    "c = 2\n",
    "A = np.array([[1,c,0],\n",
    "            [2,4,1],\n",
    "            [3,5,1]],dtype=np.float64)\n",
    "\n",
    "print('Matrix\\n',A,'\\n')\n",
    "try:\n",
    "    P,L,U = naive_LU(A)\n",
    "except:\n",
    "    print('Naive LU fails\\n')\n",
    "\n",
    "P,L,U = LUP_decompose(np.copy(A))\n",
    "np.isclose(P @ L @ U,A)"
   ]
  },
  {
   "cell_type": "markdown",
   "metadata": {},
   "source": [
    "## **Task 1.3.3**\n",
    "**(3 pts) Discuss the obtained results and explain how is it possible to accelerate computing the PLU factorization.**\n",
    "\n",
    "## In this task I used `numpy` library. It can be seen that implemented function works much sower than `scipy` function: built-in function `scipy.linalg.lu` outperforms 200 times in average. To increase performance we can use JIT compiler or try to find more efficient algorithm. (I have already test it: JITted function operates 20-30 times slower than scipy realization)."
   ]
  },
  {
   "cell_type": "markdown",
   "metadata": {
    "id": "EQwdRJSIOGIg"
   },
   "source": [
    "### 4. Block LU (10 pts)\n",
    "\n",
    "Let $A = \\begin{bmatrix} A_{11} & A_{12} \\\\ A_{21} & A_{22} \\end{bmatrix}$ be a block matrix. The goal is to solve the linear system\n",
    "\n",
    "$$\n",
    "     \\begin{bmatrix} A_{11} & A_{12} \\\\ A_{21} & A_{22} \\end{bmatrix} \\begin{bmatrix} u_1 \\\\ u_2 \\end{bmatrix} = \\begin{bmatrix} f_1 \\\\ f_2 \\end{bmatrix}.\n",
    "$$\n",
    "\n",
    "* (2 pts) Using block elimination find matrix $S$ and right-hand side $\\hat{f_2}$ so that $u_2$ can be found from $S u_2 = \\hat{f_2}$. Note that the matrix $S$ is called <span style=\"color:red\">Schur complement</span> of the block $A_{11}$.\n",
    "* (4 pts) Using Schur complement properties prove that \n",
    "\n",
    "$$\\det(X+AB) = \\det(X)\\det(I+BX^{-1}A), $$\n",
    "\n",
    "\n",
    "where $X$ - nonsingular square matrix.\n",
    "* (4 pts) Let matrix $F \\in \\mathbb{R}^{m \\times n}$ and $G \\in \\mathbb{R}^{n \\times m}$. Prove that \n",
    "\n",
    "$$\\det(I_m - FG) = \\det(I_n - GF).$$"
   ]
  },
  {
   "cell_type": "code",
   "execution_count": 27,
   "metadata": {
    "id": "4RBDYAWUOGIj"
   },
   "outputs": [],
   "source": [
    "# Your solution is here"
   ]
  },
  {
   "cell_type": "markdown",
   "metadata": {},
   "source": [
    "## **Task 1.4.1**\n",
    "\n",
    "**(2 pts) Using block elimination find matrix $S$ and right-hand side $\\hat{f_2}$ so that $u_2$ can be found from $S u_2 = \\hat{f_2}$. Note that the matrix $S$ is called <span style=\"color:red\">Schur complement</span> of the block $A_{11}$.**\n",
    "\n",
    "Consider Schur complement: $S = A_{22} - A_{21}A_{11}^{-1}A_{12}$ and rewrite the system of equations in the following form:\n",
    "\n",
    "$$\\begin{equation*}\n",
    " \\begin{cases}\n",
    "   A_{11} u_1 + A_{12} u_2 = f_1 | \\text{multiply by} A_{21}A_{11}^{-1}\\\\\n",
    "   A_{21} u_1 + A_{22} u_2 = f_2\\\\\n",
    " \\end{cases}\n",
    "\\Rightarrow\n",
    " \\begin{cases}\n",
    "   A_{21}A_{11}^{-1} A_{11} u_1 + A_{21}A_{11}^{-1} A_{12} u_2 = f_1A_{21}A_{11}^{-1}\\\\\n",
    "   A_{21} u_1 + A_{22} u_2 = f_2\\\\\n",
    " \\end{cases}\n",
    "\\Rightarrow\n",
    " \\begin{cases}\n",
    "   A_{21} u_1 + A_{21}A_{11}^{-1} A_{12} u_2 = A_{21}A_{11}^{-1} f_1 \\\\\n",
    "   A_{21} u_1 + A_{22} u_2 = f_2 \\\\\n",
    " \\end{cases}\n",
    "\\end{equation*}$$\n",
    "\n",
    "Subtracting the first equation from the second equation, we observe: $ (A_{22} - A_{21}A_{11}^{-1} A_{12})u_2 = f_2 - A_{21}A_{11}^{-1} f_1 \\Rightarrow S u_2 = \\hat{f_2}$"
   ]
  },
  {
   "cell_type": "markdown",
   "metadata": {},
   "source": [
    "## **Task 1.4.2**\n",
    "\n",
    "**(4 pts) Using Schur complement properties prove that $\\det(X+AB) = \\det(X)\\det(I+BX^{-1}A), $ where $X$ - nonsingular square matrix.**\n",
    "\n",
    "Consider Schur complement determinant property for the following matrix:\n",
    "\n",
    "Let $ M = \\begin{bmatrix} A & B \\\\ C & D \\end{bmatrix} $\n",
    "\n",
    "There are 2 equalities: $$\\det(M) = \\det(A) \\det(D - CA^{-1}B) = \\det(D) \\det(A - BD^{-1}C)$$\n",
    "\n",
    "Now we can rewrite right-hand side: $$\\det(X)\\det(I+BX^{-1}A) = \\det(I)\\det(X+AI^{-1}B) = \\det(X+AB)$$ \n",
    "\n",
    "Here we used identity matrix property.\n",
    "\n",
    "**Q.E.D.**"
   ]
  },
  {
   "cell_type": "markdown",
   "metadata": {},
   "source": [
    "## **Task 1.4.3**\n",
    "\n",
    "**(4 pts) Let matrix $F \\in \\mathbb{R}^{m \\times n}$ and $G \\in \\mathbb{R}^{n \\times m}$. Prove that $\\det(I_m - FG) = \\det(I_n - GF).$**\n",
    "\n",
    "Consider $\\det(I_m - FG)$ and make several transformations. Its obvious that $\\det(I_m - FG) = \\det{(I_n)}\\det(I_m - FI_n^{-1}G)$ since\n",
    "\n",
    "* $\\det{(I_n)} = 1$\n",
    "* $FI_n^{-1}G = FG$\n",
    "\n",
    "We will use Schur complement property: Let $ M = \\begin{bmatrix} A & B \\\\ C & D \\end{bmatrix} $\n",
    "\n",
    "There are 2 equalities: $$\\det(M) = \\det(A) \\det(D - CA^{-1}B) = \\det(D) \\det(A - BD^{-1}C)$$\n",
    "\n",
    "From this property its obvious that: $\\det{(I_n)}\\det(I_m - FI_n^{-1}G) = \\det{(I_m)}\\det(I_n - GI_m^{-1}F) = \\det(I_n - GF)$ since\n",
    "\n",
    "* $\\det{(I_m)} = 1$\n",
    "* $GI_m^{-1}F = GF$\n",
    "\n",
    "Therefore: $$\\det(I_m - FG) = \\det(I_n - GF).$$\n",
    "\n",
    "**Important: $I_m$ and $I_n$ are non-singular square matrices.**\n",
    "\n",
    "**Q.E.D.**"
   ]
  },
  {
   "cell_type": "markdown",
   "metadata": {},
   "source": [
    "## Problem 2 (eigenvalues)  (50 pts)\n",
    "\n",
    "### 1. Theoretical tasks (15 pts)\n",
    "\n",
    "* (2 pts) Prove that eigenvectors that correspond to distinct eigenvalues are linearly independent.\n",
    "\n",
    "* (3 pts) $A$ is a matrix such that $a_{i,j} \\ge 0$ and $\\sum_{j}a_{i,j} = 1$ (sum of the elements in each row is 1). Prove that $A$ has an eigenvalue $\\lambda=1$ and that any eigenvalue $\\lambda_i$: $|\\lambda_i| \\le 1$.\n",
    "\n",
    "* (5 pts) Prove that normal matrix is Hermitian iff its eigenvalues are real. Prove that normal matrix is unitary iff its eigenvalues satisfy $|\\lambda| = 1$. \n",
    "\n",
    "* (5 pts) The following problem illustrates instability of the Jordan form. Find theoretically the eigenvalues of the perturbed Jordan block (there is only one $\\varepsilon$ - in the left lower corner):\n",
    "\n",
    "$$\n",
    "    J(\\varepsilon) = \n",
    "    \\begin{bmatrix} \n",
    "     \\lambda & 1 & & & 0 \\\\ \n",
    "     0 & \\lambda & 1 & & \\\\ \n",
    "     & 0 & \\ddots & \\ddots & \\\\ \n",
    "     & & 0 & \\lambda & 1 \\\\ \n",
    "     \\varepsilon & & & 0 & \\lambda  \\\\ \n",
    "    \\end{bmatrix}_{n\\times n}\n",
    "$$\n",
    "\n",
    "   Comment how eigenvalues of $J(0)$ are perturbed for large $n$."
   ]
  },
  {
   "cell_type": "code",
   "execution_count": 28,
   "metadata": {},
   "outputs": [],
   "source": [
    "# Your solution is here"
   ]
  },
  {
   "cell_type": "markdown",
   "metadata": {},
   "source": [
    "## **Task 2.1.1**\n",
    "\n",
    "**(2 pts) Prove that eigenvectors that correspond to distinct eigenvalues are linearly independent.**\n",
    "\n",
    "A sequence of vectors $ \\mathbf {v} _{1},\\mathbf {v} _{2},\\dots ,\\mathbf {v} _{k}$ from a vector space $V$ is said to be **linearly dependent**, if there exist scalars $ a_{1},a_{2},\\dots ,a_{k} $ not all zero, such that $ a_{1}\\mathbf {v} _{1}+a_{2}\\mathbf {v} _{2}+\\cdots +a_{k}\\mathbf {v} _{k}=\\mathbf {0} $, where $\\mathbf {0}$  denotes the zero vector. So, if this equality is true only for all zero $a_i$, then vectors are **linearly independent**.\n",
    "\n",
    "Assume that we have different eigenvalues $\\lambda_i$ and corresponding eigenvectors $e_i$, $i \\in [1...k+1]$.\n",
    "\n",
    "**Assume that eigenvectors are linearly dependent**. Therefore:\n",
    "$$ a_{1}\\mathbf{e}_{1}+a_{2}\\mathbf{e}_{2}+\\cdots + a_{k+1}\\mathbf{e}_{k+1}=\\mathbf {0} , a_i \\neq 0, \\forall{i}: i \\in [1...k+1] \\qquad [1]$$\n",
    "\n",
    "We can rewrite it (after operator action: $Ae_i = \\lambda_i e_i$):\n",
    "$$ a_{1}\\lambda_1\\mathbf{e}_{1} + a_{2}\\lambda_2\\mathbf{e}_{2} + \\cdots + a_{k+1}\\lambda_{k+1}\\mathbf {e}_{k+1}=\\mathbf {0} \\qquad \\qquad  [2]$$\n",
    "\n",
    "Multiply [1] by $\\lambda_{k+1}$:\n",
    "\n",
    "$$ a_{1}\\lambda_{k+1}\\mathbf{e}_{1} + a_{2}\\lambda_{k+1}\\mathbf{e}_{2} + \\cdots + a_{k+1}\\lambda_{k+1}\\mathbf{e}_{k+1}=\\mathbf {0} \\qquad \\qquad  [3]$$\n",
    "\n",
    "Subtract [3] from [2]:\n",
    "$$ a_{1}(\\lambda_1 - \\lambda_{k+1})\\mathbf{e}_{1} + a_{2}(\\lambda_2 - \\lambda_{k+1})\\mathbf{e}_{2} + \\cdots + a_{k}(\\lambda_{k}-\\lambda_{k+1})\\mathbf {e}_{k}=\\mathbf {0}   $$\n",
    "\n",
    "All lambdas are different, therefore $a_i = 0, \\forall i \\in [1...k]$. Therefore from [1] we observe:\n",
    "\n",
    "$$ a_{k+1}\\mathbf {e}_{k+1}=\\mathbf {0} $$\n",
    "\n",
    "$\\mathbf {e}_{k+1}$ is non-zero eigenvector, therefore this is true for $a_{k+1} = 0$.\n",
    "\n",
    "**Our assumption was wrong** and now we can conclude that eigenvectors corresponding different eigenvalues are linearly independent, because $a_i = 0, \\forall i \\in [1...k+1]$."
   ]
  },
  {
   "cell_type": "markdown",
   "metadata": {},
   "source": [
    "## **Task 2.1.2**\n",
    "\n",
    "**(3 pts) $A$ is a matrix such that $a_{i,j} \\ge 0$ and $\\sum_{j}a_{i,j} = 1$ (sum of the elements in each row is 1). Prove that $A$ has an eigenvalue $\\lambda=1$ and that any eigenvalue $\\lambda_i$: $|\\lambda_i| \\le 1$.**"
   ]
  },
  {
   "cell_type": "markdown",
   "metadata": {},
   "source": [
    "Gershgorin theorem states that all eigenvalues $\\lambda_i,  i = 1, \\ldots, n$ are located inside the union of **Gershgorin circles** $C_i$,  where $C_i$ is a disk on the complex plane with center $a_{ii}$ and radius  $r_i = \\sum_{j \\ne i} |a_{ij}|$. So $|\\lambda_i| \\leq r_i$\n",
    "\n",
    "Since $a_{i,j} \\ge 0$, following equalities are equal to each other: $\\sum_{j}|a_{i,j}| = \\sum_{j}a_{i,j} = 1$\n",
    "\n",
    "Therefore: $|\\lambda_i| \\leq r_i = \\sum_{j \\ne i} |a_{ij}| \\leq \\sum_{j} |a_{ij}| = \\sum_{j} a_{ij} = 1 \\Rightarrow |\\lambda_i| \\leq 1$\n",
    "\n",
    "Let's show that there is at leas one eigenvalue equals to 1.\n",
    "\n",
    "Let's use Perron-Frobenius theorem statement about maximum eigenvalue:$ \\min _{i}\\sum _{j}a_{ij}\\leqslant \\lambda_{m} \\leqslant \\max _{i}\\sum _{j}a_{ij}$. \n",
    "\n",
    "In our cas it is the same as $1 \\leqslant \\lambda_{m} \\leqslant 1$. So, we can conclude that $\\lambda_{m} = 1$"
   ]
  },
  {
   "cell_type": "markdown",
   "metadata": {},
   "source": [
    "## **Task 2.1.3**\n",
    "**(5 pts) Prove that normal matrix is Hermitian iff its eigenvalues are real. Prove that normal matrix is unitary iff its eigenvalues satisfy $|\\lambda| = 1$.**\n",
    "\n",
    "**By definition:** Сomplex square matrix $\\mathbf{A}$ is **normal** if it commutes with its conjugate transpose $\\mathbf{A}^*$, i.e: $ \\mathbf{A}_{normal} \\iff \\mathbf{A}\\mathbf{A}^* = \\mathbf{A}^*\\mathbf{A} $.\n",
    "\n",
    "**Prove that normal matrix is Hermitian iff its eigenvalues are real**\n",
    "\n",
    "**By definition:** A **Hermitian** matrix is a complex square matrix that is equal to its own conjugate transpose: $ \\mathbf{A}_{hermitian} \\iff  \\mathbf{A} = \\mathbf{A}^* $.\n",
    "\n",
    "(forward order) Let's consider eigendecomposition of the normal matrix $\\mathbf{A}$: $\\mathbf{A} = \\mathbf{U}\\mathbf{\\Lambda}\\mathbf{U}^*$ and normal $\\mathbf{A}^* = (\\mathbf{U}\\mathbf{\\Lambda}\\mathbf{U}^*)^*$, where $\\mathbf{\\Lambda}$ is diagonal, $\\mathbf{U}$ is unitary.\n",
    "\n",
    "It can be seen that $\\mathbf{U}\\mathbf{\\Lambda}\\mathbf{U}^* = \\mathbf{U}\\mathbf{\\Lambda}^*\\mathbf{U}^*$.\n",
    "Therefore $\\mathbf{\\Lambda} = \\mathbf{\\Lambda}^*$. It means that each eigenvalue is equal to its complex conjugate. It can be true only for real numbers.\n",
    "\n",
    "(inverse order) Eigenvalues are real and $\\mathbf{\\Lambda}$ is diagonal. Therefore $\\mathbf{\\Lambda} = \\mathbf{\\Lambda}^*$ Consider eigendecomposition of $\\mathbf{A} \\text{ or } \\mathbf{A}^*$:\n",
    "\n",
    "Let's consider eigendecomposition of the matrix $\\mathbf{A}$: $\\mathbf{A} = \\mathbf{U}\\mathbf{\\Lambda}\\mathbf{U}^*$ and $\\mathbf{A}^* = (\\mathbf{U}\\mathbf{\\Lambda}\\mathbf{U}^*)^* = \\mathbf{U}\\mathbf{\\Lambda}^*\\mathbf{U}^*$. Its obvious that in this case $\\mathbf{A}$ is Hermitian: $ \\mathbf{A} = \\mathbf{A}^* $.\n",
    "\n",
    "**Q.E.D.**\n",
    "\n",
    "**Prove that normal matrix is unitary iff its eigenvalues satisfy $|\\lambda| = 1$.**\n",
    "\n",
    "**By definition:** A complex square matrix $\\mathbf{A}$ is **unitary** if its conjugate transpose is also its inverse ( $\\mathbf{A}^* = \\mathbf{A}^{-1}$): $\\mathbf{A}\\mathbf{A}^* = \\mathbf{A}^*\\mathbf{A} = \\mathbf{I}$, where $\\mathbf{I}$ is the identity matrix.\n",
    "\n",
    "(forward order) Let's consider eigendecomposition of the normal matrix $\\mathbf{A}$: $\\mathbf{A} = \\mathbf{U}\\mathbf{\\Lambda}\\mathbf{U}^*$ and normal $\\mathbf{A}^* = (\\mathbf{U}\\mathbf{\\Lambda}\\mathbf{U}^*)^* = \\mathbf{U}\\mathbf{\\Lambda}^*\\mathbf{U}^*$, where $\\mathbf{\\Lambda}$ is diagonal, $\\mathbf{U}$ is unitary.\n",
    "\n",
    "$\\mathbf{A}\\mathbf{A}^* \\stackrel{\\mathrm{1}}{=} \\mathbf{A}^*\\mathbf{A} = \\mathbf{U}\\mathbf{\\Lambda}\\mathbf{U}^* \\mathbf{U}\\mathbf{\\Lambda}^*\\mathbf{U}^* = \\mathbf{U}\\mathbf{\\Lambda}^*\\mathbf{U}^* \\mathbf{U}\\mathbf{\\Lambda}\\mathbf{U}^* = \\mathbf{U}\\mathbf{\\Lambda}\\mathbf{\\Lambda}^*\\mathbf{U}^* = \\mathbf{U}\\mathbf{\\Lambda}^*\\mathbf{\\Lambda}\\mathbf{U}^* = \\mathbf{U}\\mathbf{\\Lambda}^2\\mathbf{U}^* \\stackrel{\\mathrm{2}}{=} \\mathbf{I} $\n",
    "$$\\Rightarrow \\mathbf{U}^*\\mathbf{U}\\mathbf{\\Lambda}^2\\mathbf{U}^*\\mathbf{U}^* = \\mathbf{U}^*\\mathbf{I}\\mathbf{U} = \\mathbf{I} \\stackrel{\\mathrm{3,4}}{\\Rightarrow} \\mathbf{\\Lambda}^2 = \\mathbf{I}$$\n",
    "\n",
    "1. Since $\\mathbf{A} $ is normal.\n",
    "2. Since $\\mathbf{A} $ is unitary.\n",
    "3. Unitary matrix property: $\\mathbf{U}^*\\mathbf{U} = \\mathbf{U}\\mathbf{U}^*= \\mathbf{I}$\n",
    "4. Identity matrix property: $\\mathbf{U}\\mathbf{I} = \\mathbf{U}$\n",
    "\n",
    "Therefore $|\\lambda| = 1$.\n",
    "\n",
    "(inverse order) Let's consider eigendecomposition of the normal matrix $\\mathbf{A}$: $\\mathbf{A} = \\mathbf{U}\\mathbf{\\Lambda}\\mathbf{U}^*$ and normal $\\mathbf{A}^* = (\\mathbf{U}\\mathbf{\\Lambda}\\mathbf{U}^*)^* = \\mathbf{U}\\mathbf{\\Lambda}^*\\mathbf{U}^*$, where $\\mathbf{\\Lambda}$ is diagonal, $\\mathbf{U}$ is unitary.\n",
    "\n",
    "$\\mathbf{A}\\mathbf{A}^* \\stackrel{\\mathrm{1}}{=} \\mathbf{A}^*\\mathbf{A} = \\mathbf{U}\\mathbf{\\Lambda}\\mathbf{U}^* \\mathbf{U}\\mathbf{\\Lambda}^*\\mathbf{U}^* = \\mathbf{U}\\mathbf{\\Lambda}^*\\mathbf{U}^* \\mathbf{U}\\mathbf{\\Lambda}\\mathbf{U}^* = \\mathbf{U}\\mathbf{\\Lambda}\\mathbf{\\Lambda}^*\\mathbf{U}^* = \\mathbf{U}\\mathbf{\\Lambda}^*\\mathbf{\\Lambda}\\mathbf{U}^* = \\mathbf{U}\\mathbf{\\Lambda}^2\\mathbf{U}^*$\n",
    "\n",
    "1. Since $\\mathbf{A} $ is normal.\n",
    "\n",
    "We know that $|\\lambda| = 1$, therefore $\\mathbf{\\Lambda}^2 = \\mathbf{I}$. Using unitary and identity matrix property we immediatly get: $\\mathbf{U}\\mathbf{\\Lambda}^2\\mathbf{U}^* = \\mathbf{U}\\mathbf{I}\\mathbf{U}^* = \\mathbf{U}\\mathbf{U}^* = \\mathbf{I}$\n",
    "\n",
    "Therefore: $\\mathbf{A}\\mathbf{A}^* = \\mathbf{A}^*\\mathbf{A} = \\mathbf{I}$, i.e unitary."
   ]
  },
  {
   "cell_type": "markdown",
   "metadata": {},
   "source": [
    "## **Task 2.1.4**\n",
    "**(5 pts) The following problem illustrates instability of the Jordan form. Find theoretically the eigenvalues of the perturbed Jordan block (there is only one $\\varepsilon$ - in the left lower corner):\n",
    "$$\n",
    "    J(\\varepsilon) = \n",
    "    \\begin{bmatrix} \n",
    "     \\lambda & 1 & & & 0 \\\\ \n",
    "     0 & \\lambda & 1 & & \\\\ \n",
    "     & 0 & \\ddots & \\ddots & \\\\ \n",
    "     & & 0 & \\lambda & 1 \\\\ \n",
    "     \\varepsilon & & & 0 & \\lambda  \\\\ \n",
    "    \\end{bmatrix}_{n\\times n}\n",
    "$$\n",
    "Comment how eigenvalues of $J(0)$ are perturbed for large $n$.**\n",
    "\n",
    "$\n",
    "\\begin{vmatrix}\n",
    "\\lambda - \\lambda_0 & 1 \\\\\n",
    "\\varepsilon & \\lambda - \\lambda_0 \\\\\n",
    "\\end{vmatrix}\n",
    "= \n",
    "(\\lambda - \\lambda_0)^2 - \\varepsilon\n",
    "$\n",
    "\n",
    "$\n",
    "\\begin{vmatrix}\n",
    "\\lambda - \\lambda_0 & 1 & 0 \\\\\n",
    "0 & \\lambda - \\lambda_0 & 1 \\\\\n",
    "\\varepsilon & 0 & \\lambda - \\lambda_0 &\\\\\n",
    "\\end{vmatrix}\n",
    "= \n",
    "(\\lambda - \\lambda_0)\n",
    "\\begin{vmatrix}\n",
    "\\lambda - \\lambda_0 & 1 \\\\\n",
    "0 & \\lambda - \\lambda_0 \\\\\n",
    "\\end{vmatrix}\n",
    "-\n",
    "\\begin{vmatrix}\n",
    "0 & 1 \\\\\n",
    "\\varepsilon & \\lambda - \\lambda_0 \\\\\n",
    "\\end{vmatrix}\n",
    "= \n",
    "(\\lambda - \\lambda_0)^3 + \\varepsilon\n",
    "$\n",
    "\n",
    "$\n",
    "\\begin{vmatrix}\n",
    "\\lambda - \\lambda_0 & 1 & 0 & 0\\\\\n",
    "0 & \\lambda - \\lambda_0 & 1 & 0\\\\\n",
    "0 & 0 & \\lambda - \\lambda_0 & 1\\\\\n",
    "\\varepsilon & 0 & 0 & \\lambda - \\lambda_0\\\\\n",
    "\\end{vmatrix}\n",
    "= \n",
    "(\\lambda - \\lambda_0)\n",
    "\\begin{vmatrix}\n",
    "\\lambda - \\lambda_0 & 1 & 0 \\\\\n",
    "0 & \\lambda - \\lambda_0 & 1 \\\\\n",
    "0 & 0 & \\lambda - \\lambda_0 &\\\\\n",
    "\\end{vmatrix}\n",
    "-\n",
    "\\begin{vmatrix}\n",
    "0 & 1 & 0 \\\\\n",
    "0 & \\lambda - \\lambda_0 & 1 \\\\\n",
    "\\varepsilon & 0 & \\lambda - \\lambda_0 \\\\\n",
    "\\end{vmatrix}\n",
    "= \n",
    "(\\lambda - \\lambda_0)^4 - \\varepsilon\n",
    "$"
   ]
  },
  {
   "cell_type": "markdown",
   "metadata": {},
   "source": [
    "Let's create characteristic equation and find eigenvalues $\\lambda_0$: $\\det(\\mathbf{J(\\varepsilon) - \\lambda_0 I}) = (\\lambda - \\lambda_0)^n + \\varepsilon (-1)^{n + 1} = 0$\n",
    "\n",
    "It is equal to: $(\\lambda - \\lambda_0)^n = \\varepsilon (-1)^{n}$\n",
    "\n",
    "There are 2 cases ($k$ eigenvalues for each of them):\n",
    "\n",
    "1. If $n$ is even: $(\\lambda - \\lambda_0)^n = \\varepsilon \\Rightarrow \\lambda - \\lambda_0 = \\sqrt[n]{\\varepsilon}\\sqrt[n]{1} \\Rightarrow \\lambda_{0k} = \\lambda - \\sqrt[n]{\\varepsilon}\\sqrt[n]{1} = \\lambda  - \\sqrt[n]{\\varepsilon}  \\exp{\\Big(\\frac{2\\pi k}{n}}i\\Big), k \\in [0,n-1]$\n",
    "\n",
    "2. If $n$ is odd: $(\\lambda - \\lambda_0)^{n} = -\\varepsilon \\Rightarrow \\lambda - \\lambda_0 = \\sqrt[n]{\\varepsilon}\\sqrt[n]{-1} \\Rightarrow \\lambda_{0k} = \\lambda - \\sqrt[n]{\\varepsilon}\\sqrt[n]{-1} = \\lambda - \\sqrt[n]{\\varepsilon}  \\exp{\\Big(\\frac{\\pi+2\\pi k}{n}}i\\Big), k \\in [0,n-1]$\n",
    "\n",
    "It can be seen that $\\forall \\varepsilon: \\varepsilon \\neq 0$ $\\lim_{n\\to\\infty} \\sqrt[n]{\\varepsilon} = 1$ and $\\lim_{n\\to\\infty} \\frac{\\pi}{n}= 0$\n",
    "\n",
    "So, for large $n$ eigenvalues are:\n",
    "$\\lambda_{0k} = \\lambda - \\exp{\\Big(\\frac{2\\pi k}{n}}i\\Big), k \\in [0,n-1], \\forall n$"
   ]
  },
  {
   "cell_type": "code",
   "execution_count": 29,
   "metadata": {},
   "outputs": [
    {
     "name": "stdout",
     "output_type": "stream",
     "text": [
      "True\n",
      "True\n"
     ]
    }
   ],
   "source": [
    "from scipy.sparse import diags\n",
    "\n",
    "def J_theor_eigvals(n,lmbd,eps):\n",
    "    k = np.arange(0,n)\n",
    "    if n%2 == 1:\n",
    "        eigvals_theor = lmbd - np.exp(1j*(np.pi+2*np.pi*k)/n)*eps**(1/n)\n",
    "    else:\n",
    "        eigvals_theor = lmbd - np.exp(1j*(2*np.pi*k)/n)*eps**(1/n)\n",
    "    return np.sort_complex(eigvals_theor)\n",
    "\n",
    "def J_numerical_eigvals(n,lmbd,eps):\n",
    "    J = diags([lmbd,1],[0,1], shape=(n,n)).toarray()\n",
    "    J[-1,0] = eps\n",
    "    eigvals_numerical = np.linalg.eigvals(J)\n",
    "    return np.sort_complex(eigvals_numerical)\n",
    "    \n",
    "n,lmbd,eps = 6,5,0.1\n",
    "print(np.isclose(J_theor_eigvals(n,lmbd,eps),J_numerical_eigvals(n,lmbd,eps)).all())\n",
    "n,lmbd,eps = 7,5,0.1\n",
    "print(np.isclose(J_theor_eigvals(n,lmbd,eps),J_numerical_eigvals(n,lmbd,eps)).all())"
   ]
  },
  {
   "cell_type": "code",
   "execution_count": 30,
   "metadata": {},
   "outputs": [
    {
     "name": "stdout",
     "output_type": "stream",
     "text": [
      "Small n: [4.438+0.j    5.   -0.562j 5.   +0.562j 5.562-0.j   ]\n",
      "Small n: [4.49 -0.371j 4.49 +0.371j 5.195-0.6j   5.195+0.6j   5.631-0.j   ]\n",
      "Big n:   [4.+0.e+00j 4.-1.e-05j 4.+1.e-05j ... 6.-1.e-05j 6.+1.e-05j 6.-0.e+00j]\n",
      "Big n:   [4.-0.e+00j 4.+0.e+00j 4.-1.e-05j ... 6.-1.e-05j 6.+1.e-05j 6.-0.e+00j]\n"
     ]
    }
   ],
   "source": [
    "n,lmbd,eps = 4,5,0.1\n",
    "print('Small n:',np.round(J_theor_eigvals(n,lmbd,eps),3))\n",
    "n,lmbd,eps = 5,5,0.1\n",
    "print('Small n:',np.round(J_theor_eigvals(n,lmbd,eps),3))\n",
    "\n",
    "d = 1000000\n",
    "n,lmbd,eps = 4+d,5,0.1\n",
    "print('Big n:  ',np.round(J_theor_eigvals(n,lmbd,eps),5))\n",
    "n,lmbd,eps = 5+d,5,0.1\n",
    "print('Big n:  ',np.round(J_theor_eigvals(n,lmbd,eps),5))"
   ]
  },
  {
   "cell_type": "markdown",
   "metadata": {
    "id": "xWcyqKyrOGIp"
   },
   "source": [
    "### 2. PageRank (35 pts)\n",
    "\n",
    "\n",
    "#### Damping factor importance\n",
    "\n",
    "* (5 pts) Write the function ```pagerank_matrix(G)``` that takes an adjacency matrix $G$ (in both sparse and dense formats) as an input and outputs the corresponding PageRank matrix $A$."
   ]
  },
  {
   "cell_type": "markdown",
   "metadata": {},
   "source": [
    "## **Task 2.2.1**"
   ]
  },
  {
   "cell_type": "code",
   "execution_count": 31,
   "metadata": {
    "id": "2jktwIc8OGIp"
   },
   "outputs": [],
   "source": [
    "import numpy as np\n",
    "import scipy\n",
    "from scipy.sparse import issparse\n",
    "\n",
    "# INPUT:  G - np.ndarray or sparse matrix\n",
    "# OUTPUT: A - np.ndarray (of size G.shape) or sparse matrix\n",
    "def pagerank_matrix(G):\n",
    "    # enter your code here\n",
    "    col_norm = G.sum(axis = 0) # calculate sum over columns\n",
    "    col_norm[col_norm == 0] = 1 #  find zero sums and replace 0 -> 1 (empty column)\n",
    "    \n",
    "    # sparce matmul\n",
    "    if issparse(G):\n",
    "        res = G.multiply(1/col_norm) \n",
    "    else:\n",
    "        res = G*(1/col_norm)\n",
    "    # regular matmul\n",
    "    return  res"
   ]
  },
  {
   "cell_type": "markdown",
   "metadata": {
    "id": "BtVmgGnYOGIs"
   },
   "source": [
    "* (3 pts) Find PageRank matrix $A$ that corresponds to the following graph: <img src=\"graph.png\" width='250'>\n",
    "What is its largest eigenvalue? What multiplicity does it have?\n",
    "\n",
    "\n",
    "* (5 pts) Implement the power method for a given matrix $A$, an initial guess $x_0$ and a number of iterations ```num_iter```. It should be organized as a function ```power_method(A, x0, num_iter)``` that outputs approximation to eigenvector $x$, eigenvalue $\\lambda$ and history of residuals $\\{\\|Ax_k - \\lambda_k x_k\\|_2\\}$. Make sure that the method converges to the correct solution on a matrix $\\begin{bmatrix} 2 & -1 \\\\ -1 & 2 \\end{bmatrix}$ which is known to have the largest eigenvalue equal to $3$."
   ]
  },
  {
   "cell_type": "markdown",
   "metadata": {},
   "source": [
    "## **Task 2.2.2**\n",
    "\n",
    "**(3 pts) Find PageRank matrix $A$ that corresponds to the following graph: <img src=\"graph.png\" width='250'>What is its largest eigenvalue? What multiplicity does it have?**"
   ]
  },
  {
   "cell_type": "code",
   "execution_count": 32,
   "metadata": {},
   "outputs": [
    {
     "name": "stdout",
     "output_type": "stream",
     "text": [
      "Eigenvalues: \n",
      " [-0.5+0.5j -0.5-0.5j  1. +0.j   1. +0.j  -1. +0.j ] \n",
      "\n",
      "Max eigenvalue: (1.0000000000000004+0j) \n",
      "\n",
      "Multiplicity: 2\n"
     ]
    }
   ],
   "source": [
    "# graph corresponding to the picture\n",
    "G = np.array([[0, 1, 0, 0, 0],\n",
    "              [0, 0, 1, 0, 0],\n",
    "              [1, 1, 0, 0, 0],\n",
    "              [0, 0, 0, 0, 1],\n",
    "              [0, 0, 0, 1, 0]])\n",
    "# find pagerank matrix\n",
    "P = pagerank_matrix(G)\n",
    "\n",
    "# find eigenvalues\n",
    "ev = np.linalg.eigvals(P)\n",
    "\n",
    "# find max eigenvalue\n",
    "max_ev = max(ev)\n",
    "\n",
    "print(\"Eigenvalues: \\n\", ev,'\\n')\n",
    "print(\"Max eigenvalue:\",max_ev,'\\n')\n",
    "print(\"Multiplicity:\",sum(np.isclose(ev, max_ev)))"
   ]
  },
  {
   "cell_type": "markdown",
   "metadata": {},
   "source": [
    "## **Task 2.2.3**\n",
    "\n",
    "**(5 pts) Implement the power method for a given matrix $A$, an initial guess $x_0$ and a number of iterations ```num_iter```. It should be organized as a function ```power_method(A, x0, num_iter)``` that outputs approximation to eigenvector $x$, eigenvalue $\\lambda$ and history of residuals $\\{\\|Ax_k - \\lambda_k x_k\\|_2\\}$. Make sure that the method converges to the correct solution on a matrix $\\begin{bmatrix} 2 & -1 \\\\ -1 & 2 \\end{bmatrix}$ which is known to have the largest eigenvalue equal to $3$.**"
   ]
  },
  {
   "cell_type": "code",
   "execution_count": 33,
   "metadata": {
    "id": "uLo7A--rOGIs"
   },
   "outputs": [
    {
     "name": "stdout",
     "output_type": "stream",
     "text": [
      "The largest eigenvalue (close to 3):  2.9999999998271116\n"
     ]
    }
   ],
   "source": [
    "# INPUT:  A - np.ndarray (2D), x0 - np.ndarray (1D), num_iter - integer (positive)\n",
    "# OUTPUT: x - np.ndarray (of size x0), l - float, res - np.ndarray (of size num_iter + 1 [include initial guess])\n",
    "\n",
    "def power_method(A, x0, num_iter): # 5 pts\n",
    "    # enter your code here\n",
    "    # take initial x\n",
    "    x = x0\n",
    "    # residuals\n",
    "    res = np.zeros(num_iter + 1)\n",
    "    \n",
    "    for i in range(num_iter + 1):\n",
    "        # multiply matrix A by vector x \n",
    "        Ax = A @ x  \n",
    "        # calculate current eigenvalue\n",
    "        l = x.T @ Ax\n",
    "        # calculate the residual\n",
    "        res[i] = np.linalg.norm(Ax - l*x,2)\n",
    "        # calculate norm of the vector\n",
    "        norm = np.linalg.norm(Ax,2)\n",
    "        # normalize\n",
    "        x = Ax / norm\n",
    "    return x, l, res\n",
    "\n",
    "# Making sure that everything works\n",
    "M = np.array([[2, -1],\n",
    "              [-1, 2]])\n",
    "\n",
    "# zero approximation\n",
    "eve = np.random.randn(2)\n",
    "# power method\n",
    "eve, eva, res = power_method(M, eve, 10)\n",
    "print('The largest eigenvalue (close to 3): ',eva)"
   ]
  },
  {
   "cell_type": "markdown",
   "metadata": {
    "id": "9hAowO6zOGIu"
   },
   "source": [
    "* (2 pts) Run the power method for the graph presented above and plot residuals $\\|Ax_k - \\lambda_k x_k\\|_2$ as a function of $k$ for ```num_iter=100``` and random initial guess ```x0```.  Explain the absence of convergence. \n",
    "\n",
    "\n",
    "* (2 pts) Consider the same graph, but with additional self loop at node 4 (self loop is an edge that connects a vertex with itself). Plot residuals as in the previous task and discuss the convergence. Now, run the power method with ```num_iter=100``` for 10 different initial guesses and print/plot the resulting approximated eigenvectors. Why do they depend on the initial guess?\n",
    "\n",
    "\n",
    "In order to avoid this problem Larry Page and Sergey Brin [proposed](http://ilpubs.stanford.edu:8090/422/1/1999-66.pdf) to use the following regularization technique:\n",
    "\n",
    "$$\n",
    "A_d = dA + \\frac{1-d}{N} \\begin{pmatrix} 1 & \\dots & 1 \\\\ \\vdots & & \\vdots \\\\ 1 & \\dots & 1 \\end{pmatrix},\n",
    "$$\n",
    "\n",
    "where $d$ is a small parameter in $[0,1]$ (typically $d=0.85$), which is called **damping factor**, $A$ is of size $N\\times N$. Now $A_d$ is the matrix with multiplicity of the largest eigenvalue equal to 1. \n",
    "Recall that computing the eigenvector of the PageRank matrix, which corresponds to the largest eigenvalue, has the following interpretation. Consider a person who stays in a random node of a graph (i.e. opens a random web page); at each step s/he follows one of the outcoming edges uniformly at random (i.e. opens one of the links). So the person randomly walks through the graph and the eigenvector we are looking for is exactly his/her stationary distribution â€” for each node it tells you the probability of visiting this particular node. Therefore, if the person has started from a part of the graph which is not connected with the other part, he will never get there.  In the regularized model, the person at each step follows one of the outcoming links with probability $d$ OR teleports to a random node from the whole graph with probability $(1-d)$.\n",
    "\n",
    "* (2 pts) Now, run the power method with $A_d$ and plot residuals $\\|A_d x_k - \\lambda_k x_k\\|_2$ as a function of $k$ for $d=0.97$, ```num_iter=100``` and a random initial guess ```x0```.\n",
    "\n",
    "* (5 pts) Find the second largest in the absolute value eigenvalue of the obtained matrix $A_d$. How and why is it connected to the damping factor $d$? What is the convergence rate of the PageRank algorithm when using damping factor?\n",
    "\n",
    "Usually, graphs that arise in various areas are sparse (social, web, road networks, etc.) and, thus, computation of a matrix-vector product for corresponding PageRank matrix $A$ is much cheaper than $\\mathcal{O}(N^2)$. However, if $A_d$ is calculated directly, it becomes dense and, therefore, $\\mathcal{O}(N^2)$ cost grows prohibitively large for  big $N$.\n",
    "\n",
    "\n",
    "* (2 pts) Implement fast matrix-vector product for $A_d$ as a function ```pagerank_matvec(A, d, x)```, which takes a PageRank matrix $A$ (in sparse format, e.g., ```csr_matrix```), damping factor $d$ and a vector $x$ as an input and returns $A_dx$ as an output. \n",
    "\n",
    "* (1 pts) Generate a random adjacency matrix of size $10000 \\times 10000$ with only 100 non-zero elements and compare ```pagerank_matvec``` performance with direct evaluation of $A_dx$."
   ]
  },
  {
   "cell_type": "markdown",
   "metadata": {},
   "source": [
    "## **Task 2.2.4**\n",
    "\n",
    "**(2 pts) Run the power method for the graph presented above and plot residuals $\\|Ax_k - \\lambda_k x_k\\|_2$ as a function of $k$ for ```num_iter=100``` and random initial guess ```x0```.  Explain the absence of convergence.**"
   ]
  },
  {
   "cell_type": "code",
   "execution_count": 34,
   "metadata": {},
   "outputs": [
    {
     "data": {
      "image/png": "[encoded data removed]",
      "text/plain": [
       "<Figure size 864x432 with 1 Axes>"
      ]
     },
     "metadata": {
      "needs_background": "light"
     },
     "output_type": "display_data"
    }
   ],
   "source": [
    "import matplotlib.pyplot as plt\n",
    "\n",
    "eve = np.random.random(P.shape[0])\n",
    "iters = 100\n",
    "eve, eva, res = power_method(P, eve, iters)\n",
    "\n",
    "plt.figure(figsize=(12,6))\n",
    "plt.semilogy(res, '.-')\n",
    "plt.title('Residual vs iteration number (log scale)', fontsize = 16)\n",
    "plt.ylabel('Residuals', fontsize = 16)\n",
    "plt.xlabel('Iterations', fontsize = 16)\n",
    "plt.xticks(fontsize=14)\n",
    "plt.yticks(fontsize=14)\n",
    "plt.grid()"
   ]
  },
  {
   "cell_type": "markdown",
   "metadata": {},
   "source": [
    "Let us decompose $x_0$ into a sum of eigenvectors $v_i$ with coefficients $c_i$:\n",
    "\n",
    "$$ x_0 = c_1 v_1 + \\dots + c_5 v_5. $$\n",
    "\n",
    "Since $v_i$ are eigenvectors, we have\n",
    "\n",
    "$$\n",
    "\\begin{split}\n",
    "x_1 &= \\frac{Ax_0}{\\|Ax_0\\|} = \\frac{c_1 \\lambda_1 v_1 + \\dots + c_5 \\lambda_5 v_5}{\\|c_1 \\lambda_1 v_1 + \\dots + c_5 \\lambda_5 v_5 \\|}  \\\\\n",
    "&\\vdots\\\\\n",
    "x_k &= \\frac{Ax_{k-1}}{\\|Ax_{k-1}\\|} = \\frac{c_1 \\lambda_1^k v_1 + \\dots + c_5 \\lambda_5^k v_5}{\\|c_1 \\lambda_1^k v_1 + \\dots + c_5 \\lambda_5^k v_5 \\|}\n",
    "\\end{split}, k \\rightarrow \\infty\n",
    "$$\n",
    "\n",
    "Now we can see, that \n",
    "\n",
    "$$\n",
    "x_k = \\frac{c_1}{|c_1|}\\left(\\frac{\\lambda_1}{|\\lambda_1|}\\right)^k\\frac{ v_1 + \\frac{c_2}{c_1}(\\frac{\\lambda_2}{\\lambda_1})^k v_2 + \\dots + \\frac{c_5}{c_1}(\\frac{\\lambda_5}{\\lambda_1})^k v_5}{\\left\\|v_1 + \\frac{c_2}{c_1}(\\frac{\\lambda_2}{\\lambda_1})^k v_2 + \\dots + \\frac{c_5}{c_1}(\\frac{\\lambda_5}{\\lambda_1})^k v_5\\right\\|}, k \\rightarrow \\infty\n",
    "$$\n",
    "\n",
    "$\\left| \\frac{c_1}{|c_1|}\\left(\\frac{\\lambda_1}{|\\lambda_1|}\\right)^k\\right| = 1 = \\text{const} $, $\\left(\\frac{\\lambda_2}{\\lambda_1}\\right)^k = 1 = \\text{const}$, and $\\left(\\frac{\\lambda_3}{\\lambda_1}\\right)^k = (-1)^k$ - just changes its sign. $\\left(\\frac{\\lambda_4}{\\lambda_1}\\right)^k \\to 0$, $\\left(\\frac{\\lambda_5}{\\lambda_1}\\right)^k \\to 0$ \n",
    "\n",
    "For $x_k$ we see several terms: 2 constants, one which changes a sign only and 2 going to zero. That's why we do not observe convergence to zero and to partiqular value."
   ]
  },
  {
   "cell_type": "markdown",
   "metadata": {},
   "source": [
    "## **Task 2.2.5**\n",
    "\n",
    "**(2 pts) Consider the same graph, but with additional self loop at node 4 (self loop is an edge that connects a vertex with itself). Plot residuals as in the previous task and discuss the convergence. Now, run the power method with ```num_iter=100``` for 10 different initial guesses and print/plot the resulting approximated eigenvectors. Why do they depend on the initial guess?**"
   ]
  },
  {
   "cell_type": "code",
   "execution_count": 35,
   "metadata": {},
   "outputs": [
    {
     "name": "stdout",
     "output_type": "stream",
     "text": [
      "[[0 1 0 0 0]\n",
      " [0 0 1 0 0]\n",
      " [1 1 0 0 0]\n",
      " [0 0 0 0 1]\n",
      " [0 0 0 1 1]]\n"
     ]
    }
   ],
   "source": [
    "G[4,4] = 1\n",
    "print(G)"
   ]
  },
  {
   "cell_type": "code",
   "execution_count": 36,
   "metadata": {},
   "outputs": [
    {
     "data": {
      "text/plain": [
       "array([-0.5+0.5j, -0.5-0.5j,  1. +0.j , -0.5+0.j ,  1. +0.j ])"
      ]
     },
     "execution_count": 36,
     "metadata": {},
     "output_type": "execute_result"
    }
   ],
   "source": [
    "np.linalg.eigvals(pagerank_matrix(G))"
   ]
  },
  {
   "cell_type": "code",
   "execution_count": 37,
   "metadata": {},
   "outputs": [
    {
     "data": {
      "image/png": "[encoded data removed]",
      "text/plain": [
       "<Figure size 864x432 with 1 Axes>"
      ]
     },
     "metadata": {
      "needs_background": "light"
     },
     "output_type": "display_data"
    }
   ],
   "source": [
    "P = pagerank_matrix(G)\n",
    "\n",
    "plt.figure(figsize=(12,6))\n",
    "\n",
    "for i in range(10):\n",
    "    eig_vec = np.random.random(P.shape[0])\n",
    "    eig_vec, eig_val, res = power_method(P, eig_vec, 100)\n",
    "    plt.semilogy(res,label='run '+str(i))\n",
    "\n",
    "plt.title('Residual vs iteration number (log scale)', fontsize = 16)\n",
    "plt.ylabel('Residuals', fontsize = 16)\n",
    "plt.xlabel('Iterations', fontsize = 16)\n",
    "plt.legend(fontsize=14)\n",
    "plt.xticks(fontsize=14)\n",
    "plt.yticks(fontsize=14)\n",
    "plt.grid()"
   ]
  },
  {
   "cell_type": "markdown",
   "metadata": {},
   "source": [
    "From the previous task:\n",
    "\n",
    "$$\n",
    "x_k = \\frac{c_1}{|c_1|}\\left(\\frac{\\lambda_1}{|\\lambda_1|}\\right)^k\\frac{ v_1 + \\frac{c_2}{c_1}(\\frac{\\lambda_2}{\\lambda_1})^k v_2 + \\dots + \\frac{c_5}{c_1}(\\frac{\\lambda_5}{\\lambda_1})^k v_5}{\\left\\|v_1 + \\frac{c_2}{c_1}(\\frac{\\lambda_2}{\\lambda_1})^k v_2 + \\dots + \\frac{c_5}{c_1}(\\frac{\\lambda_5}{\\lambda_1})^k v_5\\right\\|}, k \\rightarrow \\infty\n",
    "$$\n",
    "\n",
    "$\\left| \\frac{c_1}{|c_1|}\\left(\\frac{\\lambda_1}{|\\lambda_1|}\\right)^k\\right| = 1 = \\text{const} $, $\\left(\\frac{\\lambda_2}{\\lambda_1}\\right)^k = 1 = \\text{const}$, and $\\left(\\frac{\\lambda_3}{\\lambda_1}\\right)^k \\to 0$, $\\left(\\frac{\\lambda_4}{\\lambda_1}\\right)^k \\to 0$, $\\left(\\frac{\\lambda_5}{\\lambda_1}\\right)^k \\to 0$ \n",
    "\n",
    "So, we have:\n",
    "\n",
    "$$\n",
    "x_k = \\frac{v_1 + \\frac{c2}{c1}v_2 }{\\|v_1 + \\frac{c2}{c1}v_2\\|}, k \\rightarrow \\infty\n",
    "$$\n",
    "Using self loop at node 4 we elimainated eigenvalue which was -1, but there are 2 eigenvalues equals to +1.\n",
    "\n",
    "Resulting vector $x_k$ is linear combination of 1st and 2nd eigenvectors.\n",
    "It depends on the initial vector $x_0$ because for different trials we have different $\\frac{c2}{c1}$ multiplier."
   ]
  },
  {
   "cell_type": "markdown",
   "metadata": {},
   "source": [
    "## **Task 2.2.6**\n",
    "\n",
    "**(2 pts) Now, run the power method with $A_d$ and plot residuals $\\|A_d x_k - \\lambda_k x_k\\|_2$ as a function of $k$ for $d=0.97$, ```num_iter=100``` and a random initial guess ```x0```.**"
   ]
  },
  {
   "cell_type": "code",
   "execution_count": 38,
   "metadata": {},
   "outputs": [
    {
     "data": {
      "image/png": "[encoded data removed]",
      "text/plain": [
       "<Figure size 864x432 with 1 Axes>"
      ]
     },
     "metadata": {
      "needs_background": "light"
     },
     "output_type": "display_data"
    }
   ],
   "source": [
    "def add_damping(A, dampling_factor = 0.85):\n",
    "    Ad = dampling_factor*A + (1 - dampling_factor) * np.ones(A.shape) / A.shape[0]\n",
    "    return Ad\n",
    "\n",
    "# add damping factor\n",
    "Pd = add_damping(P, 0.97)\n",
    "\n",
    "iters = 100 \n",
    "eve = np.random.random(Pd.shape[0])\n",
    "eve, eva, res = power_method(Pd, eve,iters)\n",
    "\n",
    "plt.figure(figsize=(12,6))\n",
    "plt.semilogy(res, '.-')\n",
    "plt.title('Residual vs iteration number (log scale)', fontsize = 16)\n",
    "plt.ylabel('Residuals', fontsize = 16)\n",
    "plt.xlabel('Iterations', fontsize = 16)\n",
    "plt.xticks(fontsize=14)\n",
    "plt.yticks(fontsize=14)\n",
    "plt.grid()"
   ]
  },
  {
   "cell_type": "markdown",
   "metadata": {},
   "source": [
    "## **Task 2.2.7**\n",
    "\n",
    "**(5 pts) Find the second largest in the absolute value eigenvalue of the obtained matrix $A_d$. How and why is it connected to the damping factor $d$? What is the convergence rate of the PageRank algorithm when using damping factor?**"
   ]
  },
  {
   "cell_type": "code",
   "execution_count": 39,
   "metadata": {},
   "outputs": [
    {
     "name": "stdout",
     "output_type": "stream",
     "text": [
      "Eigenvalues without damping:\n",
      "[ 1. +0.j   1. +0.j  -0.5+0.5j -0.5+0.j  -0.5-0.5j] \n",
      "\n",
      "Eigenvalues with damping:\n",
      "[ 1.   +0.j     0.97 +0.j    -0.485+0.j    -0.485+0.485j -0.485-0.485j] \n",
      "\n",
      "The second largest in the absolute value eigenvalue is  0.97\n"
     ]
    }
   ],
   "source": [
    "eig_vals, eig_vecs = np.linalg.eig(P)\n",
    "eig_vals_d, eig_vecs_d = np.linalg.eig(Pd)\n",
    "\n",
    "print('Eigenvalues without damping:')\n",
    "print(eig_vals[np.argsort(eig_vals)[::-1]],'\\n')\n",
    "print('Eigenvalues with damping:')\n",
    "print(eig_vals_d[np.argsort(eig_vals_d)[::-1]],'\\n')\n",
    "print('The second largest in the absolute value eigenvalue is ',0.97)"
   ]
  },
  {
   "cell_type": "markdown",
   "metadata": {},
   "source": [
    "The first (main) eigenvalue is the same. But all the other eigenvalues are proportional to damping factor $d$. \n",
    "\n",
    "Multiplication of the original matrix to dampling factor leads to multiplication for all the eigenvalues of the original matrix, but term $\\frac{1-d}{N} \\begin{pmatrix} 1 & \\dots & 1 \\\\ \\vdots & & \\vdots \\\\ 1 & \\dots & 1 \\end{pmatrix}$ results in recovering the main eigenvalue to the initial value.\n",
    "\n",
    "Convergence rate in this case in case of damping factor usage is $q^k$, where $q = \\left|\\frac{d\\lambda_{2}}{\\lambda_{1}}\\right| < 1$ and $\\lambda_1>\\lambda_2\\geq\\dots\\geq \\lambda_n$.\n",
    "\n",
    "---"
   ]
  },
  {
   "cell_type": "markdown",
   "metadata": {},
   "source": [
    "## **Task 2.2.8**\n",
    "\n",
    "**(2 pts) Implement fast matrix-vector product for $A_d$ as a function ```pagerank_matvec(A, d, x)```, which takes a PageRank matrix $A$ (in sparse format, e.g., ```csr_matrix```), damping factor $d$ and a vector $x$ as an input and returns $A_dx$ as an output.**"
   ]
  },
  {
   "cell_type": "code",
   "execution_count": 40,
   "metadata": {},
   "outputs": [],
   "source": [
    "# INPUT:  A - np.ndarray (2D), d - float (from 0.0 to 1.0), x - np.ndarray (1D, size of A.shape[0/1])\n",
    "# OUTPUT: y - np.ndarray (1D, size of x)\n",
    "def pagerank_matvec(A, d, x): # 2 pts\n",
    "    # enter your code here\n",
    "    ones = np.ones(x.shape[0])\n",
    "    y = d*A @ x + (1 - d) * ones * np.sum(x) / A.shape[0]\n",
    "    return y"
   ]
  },
  {
   "cell_type": "markdown",
   "metadata": {},
   "source": [
    "## **Task 2.2.9**\n",
    "\n",
    "**(1 pts) Generate a random adjacency matrix of size $10000 \\times 10000$ with only 100 non-zero elements and compare ```pagerank_matvec``` performance with direct evaluation of $A_dx$.**"
   ]
  },
  {
   "cell_type": "code",
   "execution_count": 41,
   "metadata": {},
   "outputs": [
    {
     "name": "stdout",
     "output_type": "stream",
     "text": [
      "98.4 µs ± 20.4 µs per loop (mean ± std. dev. of 7 runs, 3 loops each) \n",
      "\n",
      "376 ms ± 4.36 ms per loop (mean ± std. dev. of 7 runs, 3 loops each) \n",
      "\n",
      "Speedup:  4145.839455533207  times\n"
     ]
    }
   ],
   "source": [
    "# matrix size\n",
    "n = 10000\n",
    "\n",
    "# elements density\n",
    "density = 100/(10000**2)\n",
    "\n",
    "# generate sparse matrix\n",
    "A = scipy.sparse.random(n, n, density=density)\n",
    "\n",
    "# take random vector\n",
    "x = np.random.random(n)\n",
    "\n",
    "t1 = %timeit -n 3 -o -q pagerank_matvec(A,0.97, x)\n",
    "t2 = %timeit -n 3 -o -q add_damping(A,0.97) @ x\n",
    "\n",
    "print(t1,'\\n')\n",
    "print(t2,'\\n')\n",
    "print('Speedup: ',t2.best/t1.best, ' times')"
   ]
  },
  {
   "cell_type": "markdown",
   "metadata": {
    "id": "ru70NGUlOGIy"
   },
   "source": [
    "#### DBLP: computer science bibliography\n",
    "\n",
    "Download the dataset from [here](https://goo.gl/oZVxEa), unzip it and put `dblp_authors.npz`  and `dblp_graph.npz` in the same folder with this notebook. Each value (author name) from `dblp_authors.npz` corresponds to the row/column of the matrix from `dblp_graph.npz`. Value at row `i` and column `j` of the matrix from `dblp_graph.npz` corresponds to the number of times author `i` cited papers of the author `j`. Let us now find the most significant scientists according to PageRank model over DBLP data.\n",
    "\n",
    "* (4 pts) Load the weighted adjacency matrix and the authors list into Python using ```load_dblp(...)``` function. Print its density (fraction of nonzero elements). Find top-10 most cited authors from the weighted adjacency matrix. Now, make all the weights of the adjacency matrix equal to 1 for simplicity (consider only existence of connection between authors, not its weight). Obtain the PageRank matrix $A$ from the adjacency matrix and verify that it is stochastic.\n",
    " \n",
    " \n",
    "* (1 pts) In order to provide ```pagerank_matvec``` to your ```power_method``` (without rewriting it) for fast calculation of $A_dx$, you can create a ```LinearOperator```: \n",
    "```python\n",
    "L = scipy.sparse.linalg.LinearOperator(A.shape, matvec=lambda x, A=A, d=d: pagerank_matvec(A, d, x))\n",
    "```\n",
    "Calling ```L@x``` or ```L.dot(x)``` will result in calculation of ```pagerank_matvec(A, d, x)``` and, thus, you can plug $L$ instead of the matrix $A$ in the ```power_method``` directly. **Note:** though in the previous subtask graph was very small (so you could disparage fast matvec implementation), here it is very large (but sparse), so that direct evaluation of $A_dx$ will require $\\sim 10^{12}$ matrix elements to store - good luck with that (^_<).\n",
    "\n",
    "\n",
    "* (2 pts) Run the power method starting from the vector of all ones and plot residuals $\\|A_dx_k - \\lambda_k x_k\\|_2$  as a function of $k$ for $d=0.85$.\n",
    "\n",
    "\n",
    "* (1 pts) Print names of the top-10 authors according to PageRank over DBLP when $d=0.85$. Comment on your findings."
   ]
  },
  {
   "cell_type": "markdown",
   "metadata": {},
   "source": [
    "## **Task 2.2.10**\n",
    "\n",
    "**(4 pts) Load the weighted adjacency matrix and the authors list into Python using ```load_dblp(...)``` function. Print its density (fraction of nonzero elements). Find top-10 most cited authors from the weighted adjacency matrix. Now, make all the weights of the adjacency matrix equal to 1 for simplicity (consider only existence of connection between authors, not its weight). Obtain the PageRank matrix $A$ from the adjacency matrix and verify that it is stochastic.**"
   ]
  },
  {
   "cell_type": "code",
   "execution_count": 42,
   "metadata": {},
   "outputs": [],
   "source": [
    "# # downloading\n",
    "# !gdown --id 1a77VOi_XAOXQLGEsVauBHU5WpnzyS57-\n",
    "# !unzip dblp.zip"
   ]
  },
  {
   "cell_type": "code",
   "execution_count": 43,
   "metadata": {
    "id": "L5ZnW7m-OGIz"
   },
   "outputs": [],
   "source": [
    "from scipy.sparse import load_npz\n",
    "import numpy as np\n",
    "\n",
    "def load_dblp(path_auth, path_graph):\n",
    "    G = load_npz(path_graph).astype(float)\n",
    "    with np.load(path_auth) as data: authors = data['authors']\n",
    "    return G, authors\n",
    "\n",
    "G, authors = load_dblp('dblp_authors.npz', 'dblp_graph.npz')"
   ]
  },
  {
   "cell_type": "code",
   "execution_count": 44,
   "metadata": {},
   "outputs": [
    {
     "name": "stdout",
     "output_type": "stream",
     "text": [
      "N_nonzero       140388901\n",
      "N_All_elements  3120688303209\n",
      "Density         4.498651815230578e-05\n"
     ]
    }
   ],
   "source": [
    "print(\"N_nonzero      \", G.getnnz())\n",
    "print(\"N_All_elements \",G.shape[0]*G.shape[1])\n",
    "print(\"Density        \",(G.getnnz()/G.shape[0]/G.shape[1]))"
   ]
  },
  {
   "cell_type": "code",
   "execution_count": 45,
   "metadata": {},
   "outputs": [
    {
     "name": "stdout",
     "output_type": "stream",
     "text": [
      "Name:  Scott Shenker ;Citations: 119853\n",
      "Name:  Andrew Zisserman ;Citations: 118558\n",
      "Name:  Hari Balakrishnan ;Citations: 117253\n",
      "Name:  Jiawei Han ;Citations: 116708\n",
      "Name:  Anil K. Jain ;Citations: 113874\n",
      "Name:  Cordelia Schmid ;Citations: 102996\n",
      "Name:  Jitendra Malik ;Citations: 101657\n",
      "Name:  Ion Stoica ;Citations: 98017\n",
      "Name:  David E. Culler ;Citations: 95762\n",
      "Name:  David G. Lowe ;Citations: 93678\n"
     ]
    }
   ],
   "source": [
    "all_cited = np.asarray(np.sum(G,axis=0)).flatten()\n",
    "\n",
    "most_cited = all_cited.argsort()[-10:][::-1]\n",
    "\n",
    "for index in most_cited:\n",
    "  print('Name: ',authors[index],';Citations:', int(all_cited[index]))"
   ]
  },
  {
   "cell_type": "code",
   "execution_count": 46,
   "metadata": {},
   "outputs": [
    {
     "name": "stdout",
     "output_type": "stream",
     "text": [
      "Matrix is stochastic:  True\n"
     ]
    }
   ],
   "source": [
    "P = pagerank_matrix(G)\n",
    "\n",
    "A = np.squeeze(np.asarray(P.sum(0)))\n",
    "\n",
    "# we also have to check sum equal to 0 to consider dangling node problem\n",
    "print('Matrix is stochastic: ', (np.isclose(A,1)+np.isclose(A,0)).all())"
   ]
  },
  {
   "cell_type": "markdown",
   "metadata": {},
   "source": [
    "## **Task 2.2.11**\n",
    "\n",
    "**(1 pts) In order to provide ```pagerank_matvec``` to your ```power_method``` (without rewriting it) for fast calculation of $A_dx$, you can create a ```LinearOperator```:```python L = scipy.sparse.linalg.LinearOperator(A.shape, matvec=lambda x, A=A, d=d: pagerank_matvec(A, d, x))\n",
    "```Calling ```L@x``` or ```L.dot(x)``` will result in calculation of ```pagerank_matvec(A, d, x)``` and, thus, you can plug $L$ instead of the matrix $A$ in the ```power_method``` directly. Note: though in the previous subtask graph was very small (so you could disparage fast matvec implementation), here it is very large (but sparse), so that direct evaluation of $A_dx$ will require $\\sim 10^{12}$ matrix elements to store - good luck with that (^_<).**"
   ]
  },
  {
   "cell_type": "code",
   "execution_count": 47,
   "metadata": {},
   "outputs": [],
   "source": [
    "import scipy.sparse.linalg\n",
    "\n",
    "L = scipy.sparse.linalg.LinearOperator(P.shape, matvec=lambda x, A=P, d=0.85: pagerank_matvec(A, d, x))"
   ]
  },
  {
   "cell_type": "markdown",
   "metadata": {},
   "source": [
    "## **Task 2.2.12**\n",
    "\n",
    "**(2 pts) Run the power method starting from the vector of all ones and plot residuals $\\|A_dx_k - \\lambda_k x_k\\|_2$  as a function of $k$ for $d=0.85$.**"
   ]
  },
  {
   "cell_type": "code",
   "execution_count": 48,
   "metadata": {},
   "outputs": [],
   "source": [
    "num_iter = 100\n",
    "vector_ones = np.ones(P.shape[0])\n",
    "\n",
    "x, l, res = power_method(L, vector_ones, num_iter)"
   ]
  },
  {
   "cell_type": "code",
   "execution_count": 49,
   "metadata": {},
   "outputs": [
    {
     "data": {
      "image/png": "[encoded data removed]",
      "text/plain": [
       "<Figure size 864x432 with 1 Axes>"
      ]
     },
     "metadata": {
      "needs_background": "light"
     },
     "output_type": "display_data"
    }
   ],
   "source": [
    "plt.figure(figsize=(12,6))\n",
    "plt.semilogy(res, '.-')\n",
    "plt.title('Residual vs iteration number (log scale)', fontsize = 16)\n",
    "plt.ylabel('Residuals', fontsize = 16)\n",
    "plt.xlabel('Iterations', fontsize = 16)\n",
    "plt.xticks(fontsize=14)\n",
    "plt.yticks(fontsize=14)\n",
    "plt.grid()"
   ]
  },
  {
   "cell_type": "markdown",
   "metadata": {},
   "source": [
    "## **Task 2.2.13**\n",
    "\n",
    "**(1 pts) Print names of the top-10 authors according to PageRank over DBLP when $d=0.85$. Comment on your findings.**"
   ]
  },
  {
   "cell_type": "code",
   "execution_count": 50,
   "metadata": {
    "id": "QynfixvjOGI1"
   },
   "outputs": [
    {
     "name": "stdout",
     "output_type": "stream",
     "text": [
      "Name:  Wei Wang\n",
      "Name:  Yang Liu\n",
      "Name:  Wei Zhang\n",
      "Name:  Lajos Hanzo\n",
      "Name:  Leonard Barolli\n",
      "Name:  Lei Zhang\n",
      "Name:  Jun Zhang\n",
      "Name:  Wei Li\n",
      "Name:  Jun Wang\n",
      "Name:  Lei Wang\n"
     ]
    }
   ],
   "source": [
    "# Your code is here\n",
    "most_cited_dblp = x.argsort()[-10:][::-1]\n",
    "\n",
    "for index in most_cited_dblp:\n",
    "    print('Name: ',authors[index])"
   ]
  },
  {
   "cell_type": "markdown",
   "metadata": {},
   "source": [
    "**In accordance with this info https://dblp.org/statistics/prolific1.html I can conclude that this approach works good since most of names are in the list from the link.**"
   ]
  },
  {
   "cell_type": "markdown",
   "metadata": {
    "id": "hQ2vaIyMOGI3"
   },
   "source": [
    "## Problem 3. QR algorithm (33 pts)\n",
    "\n",
    "* Implement QR-algorithm without shifts. Prototype of the function is given below"
   ]
  },
  {
   "cell_type": "code",
   "execution_count": 51,
   "metadata": {},
   "outputs": [],
   "source": [
    "import numpy as np \n",
    "import scipy\n",
    "from scipy import linalg\n",
    "import matplotlib.pyplot as plt\n",
    "from scipy.sparse import diags \n",
    "from tqdm import tqdm"
   ]
  },
  {
   "cell_type": "code",
   "execution_count": 52,
   "metadata": {
    "id": "rMHBZLojOGI3"
   },
   "outputs": [],
   "source": [
    "# INPUT: \n",
    "# A_init - square matrix, \n",
    "# num_iter - number of iterations for QR algorithm\n",
    "# OUTPUT: \n",
    "# Ak - transformed matrix A_init given by QR algorithm, \n",
    "# convergence - numpy array of shape (num_iter, ), \n",
    "# where we store the maximal number from the Chebyshev norm \n",
    "# of triangular part of the Ak for every iteration\n",
    "def qr_algorithm(A_init, num_iter): # 3 pts\n",
    "    # enter your code here\n",
    "    # set inital matrix\n",
    "    Ak = A_init\n",
    "    # convergence list\n",
    "    convergence = []                \n",
    "    for _ in range(num_iter):\n",
    "        # QR\n",
    "        Q,R = scipy.linalg.qr(Ak)\n",
    "        # Chebyshev norm from lower subdiagonal matrix\n",
    "        convergence.append(np.amax(np.abs(np.tril(Ak, k=-1))))\n",
    "        # inverse order multiplication\n",
    "        Ak = R @ Q\n",
    "    return Ak, convergence"
   ]
  },
  {
   "cell_type": "markdown",
   "metadata": {
    "id": "UNrCBNRUOGI6"
   },
   "source": [
    "#### Symmetric case (3 pts)\n",
    "- Create symmetric tridiagonal $11 \\times 11$ matrix with elements $-1, 2, -1$ on sub-, main- and upper diagonal respectively without using loops.\n",
    "- Run $400$ iterations of the QR algorithm for this matrix.\n",
    "- Plot the output matrix with function ```plt.spy(Ak, precision=1e-7)```.\n",
    "- Plot convergence of QR-algorithm."
   ]
  },
  {
   "cell_type": "code",
   "execution_count": 53,
   "metadata": {
    "id": "NuKwQGXbOGI6"
   },
   "outputs": [
    {
     "data": {
      "image/png": "[encoded data removed]",
      "text/plain": [
       "<Figure size 576x576 with 1 Axes>"
      ]
     },
     "metadata": {
      "needs_background": "light"
     },
     "output_type": "display_data"
    },
    {
     "data": {
      "image/png": "[encoded data removed]",
      "text/plain": [
       "<Figure size 864x360 with 1 Axes>"
      ]
     },
     "metadata": {
      "needs_background": "light"
     },
     "output_type": "display_data"
    }
   ],
   "source": [
    "# Your solution is here\n",
    "n = 11\n",
    "n_iter = 400\n",
    "\n",
    "# create 3-diag symmetric matrix \n",
    "A = diags([-1, 2, -1], [-1, 0, 1], shape=(n, n)).toarray()\n",
    "\n",
    "# run QR algorithm\n",
    "Ak, convergence = qr_algorithm(A,n_iter)\n",
    "\n",
    "# plot output matrix\n",
    "plt.figure(figsize = (8,8))\n",
    "plt.title('Sparcity pattern for A', fontsize = 16)\n",
    "plt.spy(Ak, precision=1e-7)\n",
    "\n",
    "# plot convergence\n",
    "plt.figure(figsize = (12,5))\n",
    "plt.title('Convergence of QR-algorthm (Symmetric case)', fontsize = 16)\n",
    "plt.plot(convergence)\n",
    "plt.yscale('log')\n",
    "plt.xlabel('Iteration number', fontsize = 15)\n",
    "plt.ylabel('Chebyshev norm of subdiag matrix', fontsize = 15)\n",
    "plt.xticks(fontsize=14)\n",
    "plt.yticks(fontsize=14)\n",
    "plt.grid()"
   ]
  },
  {
   "cell_type": "markdown",
   "metadata": {
    "id": "-lomV2K-OGI8"
   },
   "source": [
    "#### Nonsymmetric case (5 pts)\n",
    "\n",
    "- Create nonsymmetric tridiagonal $11 \\times 11$ matrix with elements $5, 3, -2$ on sub-, main- and upper diagonal respectively without using loops.\n",
    "- Run $250$ iterations of the QR algorithm for this matrix.\n",
    "- Plot the result matrix with function ```plt.spy(Ak, precision=1e-7)```. Is this matrix lower triangular? How does this correspond to the claim about convergence of the QR algorithm?"
   ]
  },
  {
   "cell_type": "code",
   "execution_count": 54,
   "metadata": {
    "id": "C2lGBHjaOGI9"
   },
   "outputs": [
    {
     "data": {
      "image/png": "[encoded data removed]",
      "text/plain": [
       "<Figure size 576x576 with 1 Axes>"
      ]
     },
     "metadata": {
      "needs_background": "light"
     },
     "output_type": "display_data"
    },
    {
     "data": {
      "image/png": "[encoded data removed]",
      "text/plain": [
       "<Figure size 864x360 with 1 Axes>"
      ]
     },
     "metadata": {
      "needs_background": "light"
     },
     "output_type": "display_data"
    }
   ],
   "source": [
    "# Your solution is here\n",
    "n = 11\n",
    "n_iter = 250\n",
    "\n",
    "# create 3-diag symmetric matrix \n",
    "A = diags([5, 3, -2], [-1, 0, 1], shape=(n, n)).toarray()\n",
    "\n",
    "# run QR algorithm\n",
    "Ak, convergence = qr_algorithm(A,n_iter)\n",
    "\n",
    "# plot output matrix\n",
    "plt.figure(figsize = (8,8))\n",
    "plt.title('Sparcity pattern for A', fontsize = 16)\n",
    "plt.spy(Ak, precision=1e-7)\n",
    "\n",
    "# plot convergence\n",
    "plt.figure(figsize = (12,5))\n",
    "plt.title('Convergence of QR-algorthm (Non-symmetric case)', fontsize = 16)\n",
    "plt.plot(convergence)\n",
    "plt.yscale('log')\n",
    "plt.xlabel('Iteration number', fontsize = 15)\n",
    "plt.ylabel('Chebyshev norm of subdiag matrix', fontsize = 15)\n",
    "plt.xticks(fontsize=14)\n",
    "plt.yticks(fontsize=14)\n",
    "plt.grid()"
   ]
  },
  {
   "cell_type": "markdown",
   "metadata": {},
   "source": [
    "### In this case the matrix is not triangular matrix, because it is nonsymmetric. This matrix has complex eigenvalues."
   ]
  },
  {
   "cell_type": "markdown",
   "metadata": {},
   "source": [
    "### QR algorithms with Rayleigh Quotient shift (10 pts)\n",
    "\n",
    "In the lectures the Rayleigh Quotient shift was introduced to speed up convergence of power method. Here we ask you to generalize this approach to construct the shifts in QR algorithm.\n",
    "\n",
    "- How to compute the Rayleigh Quotient shift in QR algorithm fast? Provide formulas and explanations how they can be simplified.\n",
    "- Implement explicit QR algorithm with Rayleigh Quotient shift. Please do not worry about implicit orthogonalization, we want to compare convergence only in terms of iterations.\n",
    "- Test your implementation in the symmetric case. Plot the convergence of QR algorithm with and without shift. Choose the dimension $n \\sim 100 $ for more representative results. \n",
    "- How the convergence of the shifted algorithm compares to the simple QR? Why? "
   ]
  },
  {
   "cell_type": "markdown",
   "metadata": {},
   "source": [
    "Rayleigh shift for QR-algorithm can be calculated as follows:\n",
    "$$\n",
    "\\mu^{(k)} \\stackrel{\\mathrm{1}}{=} \\frac{(q_m^{(k)})^TAq_m^{(k)}}{(q_m^{(k)})^Tq_m^{(k)}} \\stackrel{\\mathrm{2}}{=} (q_m^{(k)})^TAq_m^{(k)} \\stackrel{\\mathrm{3}}{=} e^T_m(Q^{k})^TAQ^{(k)}e_m \\stackrel{\\mathrm{4}}{=} e^T_mA^{(k)}e_m=A_{mm}^{(k)}\n",
    ", \\text{where}$$\n",
    "$q_m^{(k)}$ is the last column of $Q^{(k)} $ matrix\n",
    "\n",
    "1. Definition.\n",
    "2. $Q^{(k)}$ is orthogonal: $(q_m^{(k)})^Tq_m^{(k)} = 1$\n",
    "3. $ (Q^{k})^TAQ^{(k)} = A^{(k)}, e_m$ - vector-column with 1 in the last position.\n",
    "4. $ (Q^{k})^TAQ^{(k)} = A^{(k)}$\n",
    "\n",
    "Rayleigh shift in QR-algorithm can be chosen as the right bottom element of the matrix $A$."
   ]
  },
  {
   "cell_type": "code",
   "execution_count": 55,
   "metadata": {},
   "outputs": [],
   "source": [
    "def qr_algorithm_reileigh(A_init, num_iter):\n",
    "    # enter your code here\n",
    "    # set inital matrix\n",
    "    Ak = A_init\n",
    "    # convergence list\n",
    "    convergence = []\n",
    "    # shift\n",
    "    mu = 0\n",
    "    I = np.eye(Ak.shape[0])\n",
    "    for _ in range(num_iter):\n",
    "        # shited QR\n",
    "        Q,R = scipy.linalg.qr(Ak - mu*I)\n",
    "        # Chebyshev norm\n",
    "        convergence.append(np.amax(np.abs(np.tril(Ak, k=-1))))\n",
    "        # inverse order multiplication and shift\n",
    "        Ak = R @ Q + mu*I\n",
    "        # set shift as the bottom right element \n",
    "        mu = Ak[-1,-1]\n",
    "    return Ak, convergence"
   ]
  },
  {
   "cell_type": "code",
   "execution_count": 56,
   "metadata": {},
   "outputs": [
    {
     "data": {
      "image/png": "[encoded data removed]",
      "text/plain": [
       "<Figure size 864x360 with 1 Axes>"
      ]
     },
     "metadata": {
      "needs_background": "light"
     },
     "output_type": "display_data"
    }
   ],
   "source": [
    "n = 100\n",
    "n_iter = 100\n",
    "# Create symmetric matrix\n",
    "A = diags([-1, 2, -1], [-1, 0, 1], shape=(n, n)).toarray()\n",
    "\n",
    "# QR algorithm\n",
    "Ak, conv = qr_algorithm(A,n_iter)\n",
    "# Raleigh shifted QR algorithm\n",
    "Ak_shifted, conv_shifted = qr_algorithm_reileigh(A,n_iter)\n",
    "\n",
    "plt.figure(figsize = (12,5))\n",
    "plt.title('Convergence of QR-algorthm (Symmetric case)', fontsize = 16)\n",
    "plt.plot(conv, label = 'Without shift')\n",
    "plt.plot(conv_shifted, label = 'Reileigh shift')\n",
    "plt.yscale('log')\n",
    "plt.xlabel('Iteration', fontsize = 15)\n",
    "plt.ylabel('Chebyshev norm of subdiag matrix', fontsize = 15)\n",
    "plt.xticks(fontsize=14)\n",
    "plt.yticks(fontsize=14)\n",
    "plt.legend(fontsize=14)\n",
    "plt.grid()"
   ]
  },
  {
   "cell_type": "markdown",
   "metadata": {},
   "source": [
    "### Shifted algorithm converges better because it increases the gap between eigenvalues."
   ]
  },
  {
   "cell_type": "markdown",
   "metadata": {},
   "source": [
    "- Try QR with Rayleigh Quotient shift for a simple matrix $A = \\begin{bmatrix}\n",
    "0 & 1 \\\\\n",
    "1 & 0\n",
    "\\end{bmatrix}$. Does anything change from iteration to iteration? Does shift affect convergence here? Why?"
   ]
  },
  {
   "cell_type": "code",
   "execution_count": 57,
   "metadata": {},
   "outputs": [
    {
     "data": {
      "image/png": "[encoded data removed]",
      "text/plain": [
       "<Figure size 864x360 with 1 Axes>"
      ]
     },
     "metadata": {
      "needs_background": "light"
     },
     "output_type": "display_data"
    }
   ],
   "source": [
    "# Your solution is here\n",
    "A = np.array([[0,1],\n",
    "              [1,0]])\n",
    "n_iter = 100\n",
    "\n",
    "Ak_shifted, conv_shifted = qr_algorithm_reileigh(A,n_iter)\n",
    "\n",
    "plt.figure(figsize = (12,5))\n",
    "plt.title('Convergence of QR-algorthm ', fontsize = 16)\n",
    "plt.plot(conv_shifted, label = 'Reileigh shift')\n",
    "plt.yscale('log')\n",
    "plt.xlabel('Iteration number', fontsize = 15)\n",
    "plt.ylabel('Chebyshev norm of subdiagonal matrix', fontsize = 15)\n",
    "plt.xticks(fontsize=14)\n",
    "plt.yticks(fontsize=14)\n",
    "plt.legend(fontsize=14)\n",
    "plt.grid()"
   ]
  },
  {
   "cell_type": "markdown",
   "metadata": {},
   "source": [
    "### In this matrix $A = QR = RQ$. It does not change after several iterations of QR algorithm. And the Rayleigh shift help in this case because $A_{mm} = 0$ for all iterations of the algorithm. That's why it does not work.  "
   ]
  },
  {
   "cell_type": "markdown",
   "metadata": {},
   "source": [
    "### QR with Wilkinson shift  (15 pts)\n",
    "\n",
    "To solve the problem that appears in the last example, we can use the Wilkinson shift:\n",
    "\n",
    "$$\\mu = a_m - \\frac {sign(\\delta) b^2_{m-1}} {(|\\delta| + \\sqrt{\\delta^2 + b^2_{m-1}} )},$$\n",
    "\n",
    "where $\\delta = \\frac{(a_{m-1} - a_m)}{2}$. If $\\delta = 0$, then instead of $sign(\\delta)$ you have to choose $1$ or $-1$ arbitrary.\n",
    "The numbers $a_m, b_{m-1}, a_{m-1}$ are taken from matrix $B$:\n",
    "\n",
    "$$\n",
    "    B = \n",
    "    \\begin{bmatrix} \n",
    "     a_{m-1} & b_{m-1} \\\\ \n",
    "     b_{m-1} & a_m \\\\ \n",
    "    \\end{bmatrix},\n",
    "$$  \n",
    "which is a lower right bottom submatrix of $A^{(k)}$. Here $k$ is an iteration counter in QR algorithm.\n",
    "\n",
    "- Compare convergence in the symmetric cases: \n",
    "    - distinctive eigenvalues\n",
    "    - two coincident eigenvalues\n",
    "    - maximum and minimum eigenvalues with the same absolute value\n",
    "Choose the dimension $n \\sim 100 $ for more representative results.\n",
    "What do you observe? "
   ]
  },
  {
   "cell_type": "code",
   "execution_count": 58,
   "metadata": {},
   "outputs": [],
   "source": [
    "def qr_algorithm_wilkinson(A_init, num_iter):\n",
    "    # enter your code here\n",
    "    def wilkinson_shift(B):\n",
    "        delta = (B[0,0] - B[1,1])/2   \n",
    "        # if delta is close to zero, then choose random sign\n",
    "        if np.isclose(delta, 0, atol=1e-12):\n",
    "            delta = np.random.choice([-1,1])\n",
    "        return B[1,1] - (np.sign(delta)*B[0,1]**2)/(np.abs(delta) + np.sqrt(delta**2+B[0,1]**2))\n",
    "     \n",
    "    # set inital matrix\n",
    "    Ak = A_init\n",
    "    # convergence list\n",
    "    convergence = []\n",
    "    n = Ak.shape[1]\n",
    "    I = np.eye(n)\n",
    "    for _ in range(num_iter):\n",
    "        # calculate shift value\n",
    "        mu = wilkinson_shift(Ak[-2:, -2:])\n",
    "        # QR and shift\n",
    "        Q,R = scipy.linalg.qr(Ak - mu*I)\n",
    "        # Chebyshev norm\n",
    "        convergence.append(np.amax(np.abs(np.tril(Ak, k=-1))))\n",
    "        # inverse order multiplication and shift\n",
    "        Ak = R@Q + mu*I\n",
    "    return Ak, convergence"
   ]
  },
  {
   "cell_type": "code",
   "execution_count": 59,
   "metadata": {},
   "outputs": [
    {
     "name": "stdout",
     "output_type": "stream",
     "text": [
      "[0.6687403  0.70710678 0.75983569 0.84089642 1.        ]\n",
      "[0.70710678 0.75983569 0.84089642 1.         1.        ]\n",
      "[-1.          1.          0.70710678  0.75983569  0.84089642]\n"
     ]
    }
   ],
   "source": [
    "def gen_matrix(size,option):\n",
    "    M = np.random.rand(size,size)\n",
    "    U,_,_ = np.linalg.svd(M)\n",
    "    if option == 'distinctive_eigenvalues':\n",
    "        eigvals = 1/np.arange(1,size+1)**0.25\n",
    "    elif option == 'coincides_eigenvalues':\n",
    "        eigvals = 1/np.concatenate((np.array([1]), np.arange(1, size)**0.25))\n",
    "    elif option == 'opposite_sign_eigenvalues':\n",
    "        eigvals = 1/np.concatenate((np.arange(1,size)**0.25, -np.array([1])))\n",
    "    A = np.diag(eigvals)\n",
    "    return U @ A @ U.T\n",
    "\n",
    "M = gen_matrix(5,option='distinctive_eigenvalues')\n",
    "print(np.linalg.eigvalsh(M))\n",
    "M = gen_matrix(5,option='coincides_eigenvalues')\n",
    "print(np.linalg.eigvalsh(M))\n",
    "M = gen_matrix(5,option='opposite_sign_eigenvalues')\n",
    "print(np.linalg.eigvals(M))"
   ]
  },
  {
   "cell_type": "code",
   "execution_count": 60,
   "metadata": {},
   "outputs": [],
   "source": [
    "def calculate_convergence(n,n_iter,ATTEMPTS,case):\n",
    "    convergence_qr_s = np.zeros((ATTEMPTS, n_iter))\n",
    "    convergence_qr_rs = np.zeros((ATTEMPTS, n_iter))\n",
    "    convergence_qr_ws = np.zeros((ATTEMPTS, n_iter))\n",
    "\n",
    "    # repeat ATTEMPTS times\n",
    "    for attempt in tqdm(range(ATTEMPTS)):\n",
    "        # create matrix with distinctive eigenvalues\n",
    "        # distinctive | coincides | dif_abs\n",
    "        A = gen_matrix(size=n,option=case)\n",
    "\n",
    "        # пуе it Hessinberg form аor better convergence and faster calculation\n",
    "        A = scipy.linalg.hessenberg(A)\n",
    "        # regular QR algorithm\n",
    "        Ak_s, convergence_s = qr_algorithm(A,n_iter)\n",
    "        # QR algorithm + Reileigh shift\n",
    "        Ak_rs, convergence_rs = qr_algorithm_reileigh(A,n_iter)\n",
    "        # QR algorithm + Wilkinson shift\n",
    "        Ak_ws, convergence_ws = qr_algorithm_wilkinson(A,n_iter)\n",
    "\n",
    "        # save current values\n",
    "        convergence_qr_s[attempt,:] = convergence_s\n",
    "        convergence_qr_rs[attempt,:] = convergence_rs\n",
    "        convergence_qr_ws[attempt,:] = convergence_ws\n",
    "\n",
    "    # Plot meaned over all experiments graphs\n",
    "    plt.figure(figsize = (16,6))\n",
    "    plt.title('QR-algorthms convergence: '+case, fontsize=16)\n",
    "    plt.plot(np.mean(convergence_qr_s,axis = 0), label='Without shift')\n",
    "    plt.plot(np.mean(convergence_qr_rs,axis = 0), label='Reileigh shift')\n",
    "    plt.plot(np.mean(convergence_qr_ws,axis = 0), label='Wilkinson shift')\n",
    "    plt.xlabel('Iteration number', fontsize= 16)\n",
    "    plt.ylabel('Chebyshev norm of subdiagonal matrix', fontsize=16)\n",
    "    plt.xticks(fontsize=14)\n",
    "    plt.yticks(fontsize=14)\n",
    "    plt.yscale('log')\n",
    "    plt.legend(fontsize=14)\n",
    "    plt.grid()\n",
    "\n",
    "n = 100\n",
    "n_iter = 200    \n",
    "ATTEMPTS = 100"
   ]
  },
  {
   "cell_type": "code",
   "execution_count": 61,
   "metadata": {},
   "outputs": [
    {
     "name": "stderr",
     "output_type": "stream",
     "text": [
      "100%|██████████| 100/100 [00:41<00:00,  2.40it/s]\n"
     ]
    },
    {
     "data": {
      "image/png": "[encoded data removed]",
      "text/plain": [
       "<Figure size 1152x432 with 1 Axes>"
      ]
     },
     "metadata": {
      "needs_background": "light"
     },
     "output_type": "display_data"
    }
   ],
   "source": [
    "case = 'distinctive_eigenvalues'\n",
    "calculate_convergence(n,n_iter,ATTEMPTS,case)"
   ]
  },
  {
   "cell_type": "markdown",
   "metadata": {},
   "source": [
    "### It can be seen that shifted algorithms converges a bit faster."
   ]
  },
  {
   "cell_type": "code",
   "execution_count": 62,
   "metadata": {},
   "outputs": [
    {
     "name": "stderr",
     "output_type": "stream",
     "text": [
      "100%|██████████| 100/100 [00:45<00:00,  2.21it/s]\n"
     ]
    },
    {
     "data": {
      "image/png": "[encoded data removed]",
      "text/plain": [
       "<Figure size 1152x432 with 1 Axes>"
      ]
     },
     "metadata": {
      "needs_background": "light"
     },
     "output_type": "display_data"
    }
   ],
   "source": [
    "case = 'coincides_eigenvalues'\n",
    "calculate_convergence(n,n_iter,ATTEMPTS,case)"
   ]
  },
  {
   "cell_type": "markdown",
   "metadata": {},
   "source": [
    "### If we have 2 eigenvalues coincides then algorithms converges with oscilations."
   ]
  },
  {
   "cell_type": "code",
   "execution_count": 63,
   "metadata": {},
   "outputs": [
    {
     "name": "stderr",
     "output_type": "stream",
     "text": [
      "100%|██████████| 100/100 [00:44<00:00,  2.22it/s]\n"
     ]
    },
    {
     "data": {
      "image/png": "[encoded data removed]",
      "text/plain": [
       "<Figure size 1152x432 with 1 Axes>"
      ]
     },
     "metadata": {
      "needs_background": "light"
     },
     "output_type": "display_data"
    }
   ],
   "source": [
    "case = 'opposite_sign_eigenvalues'\n",
    "calculate_convergence(n,n_iter,ATTEMPTS,case)"
   ]
  },
  {
   "cell_type": "markdown",
   "metadata": {},
   "source": [
    "### But with 2 opposit sign eigenvalues converence is worse in general (in comparison with 2 previous cases). Moreover, algorithm without shifts does not converge."
   ]
  },
  {
   "cell_type": "markdown",
   "metadata": {
    "id": "c_8OYe7wOGI-"
   },
   "source": [
    "## Problem 4. (Movie Recommender system) 15 pts\n",
    "\n",
    "Imagine the world without NLA where you have free evenings and you can watch movies!  \n",
    "But it is always hard to choose a movie to watch. \n",
    "In this problem we suggest you to build your own movie recommender system based on SVD decomposition, so you can combine two perfect things: Numerical Linear Algebra and cinematography!"
   ]
  },
  {
   "cell_type": "markdown",
   "metadata": {
    "id": "W2duSA-Su7CI"
   },
   "source": [
    "In order to build recommender system you need data. \n",
    "Here you are https://grouplens.org/datasets/movielens/1m/\n",
    "\n",
    "Usually all recommender systems may be devided into two groups\n",
    "\n",
    "#### Collaborative filtering. \n",
    "\n",
    "This approach is based on user-item interaction.\n",
    "It has one important assumption: user who has liked an item in the past will also likes the same in the future. Suppose the user A likes the films about vampires. \n",
    "He is Twilight saga fan and he has watched the film \"What we do in the shadows\" and liked it or unliked it, in other words he evaluated it somehow. And suppose another user B, who has the similair behavior to the first user (he is also Twilight saga fan). And the chance, that he will estimate \"What we do in the shadows\" in the same way that user A did, is huge. So, the purpose of the collaborative filtering is to predict a user's behavior based on behavior of the simular users.\n",
    "\n",
    "#### Content based filtering.\n",
    "\n",
    "Collaborative filtering has some essential flaws. The main one is called \"cold start\". \"Cold start\" happens when the new user comes and he has not react anyhow to the items. So we do not know his past behavior and we do not know what to advise. Here content based filtering helps. Often resources gather some extra info about users and items before a user comes down to utilising the resource. So, for example we would know that user likes horror movies before he watched anything on the resource."
   ]
  },
  {
   "cell_type": "markdown",
   "metadata": {
    "id": "mMvQV1zSu7Cg"
   },
   "source": [
    "\n",
    "- In this task you will implement Collaborative filtering based on SVD (we will use the function from the proper package and check if the result recommender system advices the similar movies)"
   ]
  },
  {
   "cell_type": "markdown",
   "metadata": {
    "id": "tMN7EK6gu7Ch"
   },
   "source": [
    "1) (1 pts)  Explore the data. Construct the interaction matrix $M$ of size $m \\times n$ which contains the information of how a certain user rated a certain film. \n",
    "\n",
    "2) (5 pts)  Compute SVD of this matrix. Remeber that matrix $M$ is sparse (one user can hardly watch all the movies) so the good choice would be to use method from ```scipy.sparse.linalg``` package\n",
    "\n",
    "$$ M = USV^{\\top}, $$\n",
    "\n",
    "where $U$ is a $m \\times r $ orthogonal matrix with left singular vectors, which represents the relationship between users and latent factors, $S$ is a $r \\times r $ diagonal matrix, which describes the strength of each latent factor and $V^\\top$ is a $r \\times n$ matrix with right singular vectors, which represent the embeddings of  items (movies in our case) in latent space.\n",
    "Describe any simple heuristic to choose appropriate value for $r$ and explain why do you expect that it will work.\n"
   ]
  },
  {
   "cell_type": "markdown",
   "metadata": {},
   "source": [
    "## **Task 4.1**\n",
    "\n",
    "**1) (1 pts)  Explore the data. Construct the interaction matrix $M$ of size $m \\times n$ which contains the information of how a certain user rated a certain film.**"
   ]
  },
  {
   "cell_type": "code",
   "execution_count": 64,
   "metadata": {
    "id": "qxYtnm7au7Ci"
   },
   "outputs": [
    {
     "name": "stderr",
     "output_type": "stream",
     "text": [
      "/home/stas/anaconda3/lib/python3.8/site-packages/pandas/io/parsers.py:765: ParserWarning: Falling back to the 'python' engine because the 'c' engine does not support regex separators (separators > 1 char and different from '\\s+' are interpreted as regex); you can avoid this warning by specifying engine='python'.\n",
      "  return read_csv(**locals())\n"
     ]
    },
    {
     "name": "stdout",
     "output_type": "stream",
     "text": [
      "The number of movies:   3883\n",
      "The number of ratings:  1000209\n",
      "The number of users:    6040\n",
      "              Density:  0.043\n"
     ]
    }
   ],
   "source": [
    "# Importing Libraries\n",
    "import numpy as np\n",
    "import pandas as pd\n",
    "\n",
    "# Read the dataset\n",
    "movies = pd.read_table(\"movies.dat\",names=['MovieID','Title','Genres'],encoding='latin-1',delimiter='::')\n",
    "ratings = pd.read_table(\"ratings.dat\",names=['UserID','MovieID','Rating','Timestamp'],encoding='latin-1',delimiter='::')\n",
    "users = pd.read_table(\"users.dat\",names=['UserID','Gender','Age','Occupation','Zip-code'],encoding='latin-1',delimiter='::')\n",
    "\n",
    "# Create the interaction matrix\n",
    "m = len(users)\n",
    "n = len(movies)\n",
    "l = len(ratings)\n",
    "print('The number of movies:  ',n)\n",
    "print('The number of ratings: ',l)\n",
    "print('The number of users:   ',m)\n",
    "print('              Density: ',np.round(l/(m*n),3))\n",
    "\n",
    "# create empty matrix\n",
    "M = np.zeros((m,n))\n",
    "\n",
    "# extract IDs for movies\n",
    "mov_ids = np.array(movies['MovieID'])\n",
    "# extract IDs for users\n",
    "ue_ids = np.array(users['UserID'])\n",
    "for i in range(l):\n",
    "    # get current user id and Movie ID\n",
    "    ue_id,mov_id = ratings['UserID'][i],ratings['MovieID'][i]\n",
    "    # convert ID to index\n",
    "    ue_idx = np.argmax(ue_ids == ue_id)\n",
    "    mov_idx = np.argmax(mov_ids == mov_id)\n",
    "    # insert corresponding rating into M\n",
    "    M[ue_idx,mov_idx] = ratings['Rating'][i]\n",
    "\n",
    "# # Normalize the matrix\n",
    "\n",
    "# # normalize along movie axis\n",
    "# sum_along_movies = M.sum(axis=1)\n",
    "# print('Zero sums:',np.sum(sum_along_movies == 0))\n",
    "# # normalize\n",
    "# M_norm_m = M / sum_along_movies.reshape(m,1)\n",
    "# # print(M_norm_m.sum(axis=1),np.sum(M_norm_m.sum(axis=1) == 0))\n",
    "\n",
    "# # normalize along user axis\n",
    "# sum_along_users = M.sum(axis=0)\n",
    "# print('Zero sums:',np.sum(sum_along_users == 0))\n",
    "# # replace 0 sums with 1 to avoid zero division error\n",
    "# sum_along_users[sum_along_users == 0] = 1\n",
    "# # normalize\n",
    "# M_norm_n = M / sum_along_users.reshape(1,n)\n",
    "# # print(M_norm_n.sum(axis=0),np.sum(M_norm_n.sum(axis=0) == 0))\n",
    "\n",
    "M_norm = M # M_norm_m\n",
    "\n",
    "# additional functions: \n",
    "# find movie using its index in movies data frame\n",
    "def movie_by_index(idx):\n",
    "    title, genre = movies['Title'][idx],movies['Genres'][idx]\n",
    "    return title,genre\n",
    "# find movie using its id in movies data frame\n",
    "def movie_by_id(id_,mov_ids):\n",
    "    idx = np.argmax(mov_ids == id_)\n",
    "    title, genre = movies['Title'][idx],movies['Genres'][idx]\n",
    "    return title,genre"
   ]
  },
  {
   "cell_type": "code",
   "execution_count": 65,
   "metadata": {},
   "outputs": [
    {
     "data": {
      "text/html": [
       "<div>\n",
       "<style scoped>\n",
       "    .dataframe tbody tr th:only-of-type {\n",
       "        vertical-align: middle;\n",
       "    }\n",
       "\n",
       "    .dataframe tbody tr th {\n",
       "        vertical-align: top;\n",
       "    }\n",
       "\n",
       "    .dataframe thead th {\n",
       "        text-align: right;\n",
       "    }\n",
       "</style>\n",
       "<table border=\"1\" class=\"dataframe\">\n",
       "  <thead>\n",
       "    <tr style=\"text-align: right;\">\n",
       "      <th></th>\n",
       "      <th>MovieID</th>\n",
       "      <th>Title</th>\n",
       "      <th>Genres</th>\n",
       "      <th>UserID</th>\n",
       "      <th>MovieID</th>\n",
       "      <th>Rating</th>\n",
       "      <th>Timestamp</th>\n",
       "      <th>UserID</th>\n",
       "      <th>Gender</th>\n",
       "      <th>Age</th>\n",
       "      <th>Occupation</th>\n",
       "      <th>Zip-code</th>\n",
       "    </tr>\n",
       "  </thead>\n",
       "  <tbody>\n",
       "    <tr>\n",
       "      <th>0</th>\n",
       "      <td>1</td>\n",
       "      <td>Toy Story (1995)</td>\n",
       "      <td>Animation|Children's|Comedy</td>\n",
       "      <td>1</td>\n",
       "      <td>1193</td>\n",
       "      <td>5</td>\n",
       "      <td>978300760</td>\n",
       "      <td>1</td>\n",
       "      <td>F</td>\n",
       "      <td>1</td>\n",
       "      <td>10</td>\n",
       "      <td>48067</td>\n",
       "    </tr>\n",
       "    <tr>\n",
       "      <th>1</th>\n",
       "      <td>2</td>\n",
       "      <td>Jumanji (1995)</td>\n",
       "      <td>Adventure|Children's|Fantasy</td>\n",
       "      <td>1</td>\n",
       "      <td>661</td>\n",
       "      <td>3</td>\n",
       "      <td>978302109</td>\n",
       "      <td>2</td>\n",
       "      <td>M</td>\n",
       "      <td>56</td>\n",
       "      <td>16</td>\n",
       "      <td>70072</td>\n",
       "    </tr>\n",
       "    <tr>\n",
       "      <th>2</th>\n",
       "      <td>3</td>\n",
       "      <td>Grumpier Old Men (1995)</td>\n",
       "      <td>Comedy|Romance</td>\n",
       "      <td>1</td>\n",
       "      <td>914</td>\n",
       "      <td>3</td>\n",
       "      <td>978301968</td>\n",
       "      <td>3</td>\n",
       "      <td>M</td>\n",
       "      <td>25</td>\n",
       "      <td>15</td>\n",
       "      <td>55117</td>\n",
       "    </tr>\n",
       "    <tr>\n",
       "      <th>3</th>\n",
       "      <td>4</td>\n",
       "      <td>Waiting to Exhale (1995)</td>\n",
       "      <td>Comedy|Drama</td>\n",
       "      <td>1</td>\n",
       "      <td>3408</td>\n",
       "      <td>4</td>\n",
       "      <td>978300275</td>\n",
       "      <td>4</td>\n",
       "      <td>M</td>\n",
       "      <td>45</td>\n",
       "      <td>7</td>\n",
       "      <td>02460</td>\n",
       "    </tr>\n",
       "    <tr>\n",
       "      <th>4</th>\n",
       "      <td>5</td>\n",
       "      <td>Father of the Bride Part II (1995)</td>\n",
       "      <td>Comedy</td>\n",
       "      <td>1</td>\n",
       "      <td>2355</td>\n",
       "      <td>5</td>\n",
       "      <td>978824291</td>\n",
       "      <td>5</td>\n",
       "      <td>M</td>\n",
       "      <td>25</td>\n",
       "      <td>20</td>\n",
       "      <td>55455</td>\n",
       "    </tr>\n",
       "    <tr>\n",
       "      <th>5</th>\n",
       "      <td>6</td>\n",
       "      <td>Heat (1995)</td>\n",
       "      <td>Action|Crime|Thriller</td>\n",
       "      <td>1</td>\n",
       "      <td>1197</td>\n",
       "      <td>3</td>\n",
       "      <td>978302268</td>\n",
       "      <td>6</td>\n",
       "      <td>F</td>\n",
       "      <td>50</td>\n",
       "      <td>9</td>\n",
       "      <td>55117</td>\n",
       "    </tr>\n",
       "    <tr>\n",
       "      <th>6</th>\n",
       "      <td>7</td>\n",
       "      <td>Sabrina (1995)</td>\n",
       "      <td>Comedy|Romance</td>\n",
       "      <td>1</td>\n",
       "      <td>1287</td>\n",
       "      <td>5</td>\n",
       "      <td>978302039</td>\n",
       "      <td>7</td>\n",
       "      <td>M</td>\n",
       "      <td>35</td>\n",
       "      <td>1</td>\n",
       "      <td>06810</td>\n",
       "    </tr>\n",
       "    <tr>\n",
       "      <th>7</th>\n",
       "      <td>8</td>\n",
       "      <td>Tom and Huck (1995)</td>\n",
       "      <td>Adventure|Children's</td>\n",
       "      <td>1</td>\n",
       "      <td>2804</td>\n",
       "      <td>5</td>\n",
       "      <td>978300719</td>\n",
       "      <td>8</td>\n",
       "      <td>M</td>\n",
       "      <td>25</td>\n",
       "      <td>12</td>\n",
       "      <td>11413</td>\n",
       "    </tr>\n",
       "    <tr>\n",
       "      <th>8</th>\n",
       "      <td>9</td>\n",
       "      <td>Sudden Death (1995)</td>\n",
       "      <td>Action</td>\n",
       "      <td>1</td>\n",
       "      <td>594</td>\n",
       "      <td>4</td>\n",
       "      <td>978302268</td>\n",
       "      <td>9</td>\n",
       "      <td>M</td>\n",
       "      <td>25</td>\n",
       "      <td>17</td>\n",
       "      <td>61614</td>\n",
       "    </tr>\n",
       "    <tr>\n",
       "      <th>9</th>\n",
       "      <td>10</td>\n",
       "      <td>GoldenEye (1995)</td>\n",
       "      <td>Action|Adventure|Thriller</td>\n",
       "      <td>1</td>\n",
       "      <td>919</td>\n",
       "      <td>4</td>\n",
       "      <td>978301368</td>\n",
       "      <td>10</td>\n",
       "      <td>F</td>\n",
       "      <td>35</td>\n",
       "      <td>1</td>\n",
       "      <td>95370</td>\n",
       "    </tr>\n",
       "  </tbody>\n",
       "</table>\n",
       "</div>"
      ],
      "text/plain": [
       "   MovieID                               Title                        Genres  \\\n",
       "0        1                    Toy Story (1995)   Animation|Children's|Comedy   \n",
       "1        2                      Jumanji (1995)  Adventure|Children's|Fantasy   \n",
       "2        3             Grumpier Old Men (1995)                Comedy|Romance   \n",
       "3        4            Waiting to Exhale (1995)                  Comedy|Drama   \n",
       "4        5  Father of the Bride Part II (1995)                        Comedy   \n",
       "5        6                         Heat (1995)         Action|Crime|Thriller   \n",
       "6        7                      Sabrina (1995)                Comedy|Romance   \n",
       "7        8                 Tom and Huck (1995)          Adventure|Children's   \n",
       "8        9                 Sudden Death (1995)                        Action   \n",
       "9       10                    GoldenEye (1995)     Action|Adventure|Thriller   \n",
       "\n",
       "   UserID  MovieID  Rating  Timestamp  UserID Gender  Age  Occupation Zip-code  \n",
       "0       1     1193       5  978300760       1      F    1          10    48067  \n",
       "1       1      661       3  978302109       2      M   56          16    70072  \n",
       "2       1      914       3  978301968       3      M   25          15    55117  \n",
       "3       1     3408       4  978300275       4      M   45           7    02460  \n",
       "4       1     2355       5  978824291       5      M   25          20    55455  \n",
       "5       1     1197       3  978302268       6      F   50           9    55117  \n",
       "6       1     1287       5  978302039       7      M   35           1    06810  \n",
       "7       1     2804       5  978300719       8      M   25          12    11413  \n",
       "8       1      594       4  978302268       9      M   25          17    61614  \n",
       "9       1      919       4  978301368      10      F   35           1    95370  "
      ]
     },
     "execution_count": 65,
     "metadata": {},
     "output_type": "execute_result"
    }
   ],
   "source": [
    "k=10\n",
    "pd.concat((movies.head(k),ratings.head(k),users.head(k)),axis=1)"
   ]
  },
  {
   "cell_type": "code",
   "execution_count": 66,
   "metadata": {},
   "outputs": [
    {
     "data": {
      "text/plain": [
       "(('Grumpier Old Men (1995)', 'Comedy|Romance'),\n",
       " ('Toy Story (1995)', \"Animation|Children's|Comedy\"))"
      ]
     },
     "execution_count": 66,
     "metadata": {},
     "output_type": "execute_result"
    }
   ],
   "source": [
    "movie_by_index(2),movie_by_id(1,mov_ids)"
   ]
  },
  {
   "cell_type": "markdown",
   "metadata": {},
   "source": [
    "### To select $r$ we can make regular SVD for the whole matrix and then to find singular values responsible for 90% of information in the latent space. To do it faster, we can find this $r$ for smaller random submatrix of $M$ and then multiply in by coefficient of proportionality."
   ]
  },
  {
   "cell_type": "code",
   "execution_count": 67,
   "metadata": {},
   "outputs": [
    {
     "name": "stdout",
     "output_type": "stream",
     "text": [
      "1110\n"
     ]
    }
   ],
   "source": [
    "# select a random submatrix of size m//p,n//p\n",
    "p = 10\n",
    "u = np.random.choice(np.arange(m),m // p)\n",
    "f = np.random.choice(np.arange(n),n // p)\n",
    "\n",
    "# calculate SVD\n",
    "_,s,_ = np.linalg.svd(M_norm[u][:,f])\n",
    "\n",
    "# find the most important singular values\n",
    "singular_sum = np.sum(s)\n",
    "r = 0  # approximation rank (the most imortant latent factors)\n",
    "summa = 0\n",
    "# stop if we have achieved 75% approximation\n",
    "while np.abs(summa - singular_sum)/singular_sum > 0.25:\n",
    "    summa = np.sum(np.sum(s[0:r]))\n",
    "    r += 1\n",
    "r = r*p\n",
    "print(r)"
   ]
  },
  {
   "cell_type": "markdown",
   "metadata": {},
   "source": [
    "## **Task 4.2**\n",
    "\n",
    "**2) (5 pts)  Compute SVD of this matrix. Remeber that matrix $M$ is sparse (one user can hardly watch all the movies) so the good choice would be to use method from ```scipy.sparse.linalg``` package**"
   ]
  },
  {
   "cell_type": "code",
   "execution_count": 68,
   "metadata": {
    "id": "3zUd9OvBu7Cj"
   },
   "outputs": [],
   "source": [
    "# Compute Singular Value Decomposition of interaction matrix. You can use built-in functions\n",
    "\n",
    "# U,S,V = svd(M) # Update this line, it is just example\n",
    "from scipy.sparse import csc_matrix\n",
    "from scipy.sparse.linalg import svds\n",
    "\n",
    "# create sparse matrix\n",
    "M_sparse = csc_matrix(M_norm, dtype=float)\n",
    "# compute its SVD\n",
    "U,S,Vt = svds(M_sparse,k=r)"
   ]
  },
  {
   "cell_type": "markdown",
   "metadata": {},
   "source": [
    "## **Task 4.3**"
   ]
  },
  {
   "cell_type": "markdown",
   "metadata": {
    "id": "SMXnKF5Tu7Cj"
   },
   "source": [
    "3) (2 pts) In order to get weighted item-latent factors, we can multiply $S$ and $V^{T}$. Please, remember that $S$ is diagonal and multiply them efficiently."
   ]
  },
  {
   "cell_type": "code",
   "execution_count": 69,
   "metadata": {},
   "outputs": [
    {
     "name": "stdout",
     "output_type": "stream",
     "text": [
      "All results are equal to each other: True\n"
     ]
    }
   ],
   "source": [
    "# Your solutuion is here\n",
    "S = S[::-1]\n",
    "Vt = Vt[::-1,:]\n",
    "# calculate approximation (element-wise)\n",
    "# inefficient multiplication:\n",
    "svt = np.diag(S[0:r]) @ Vt[0:r,:]\n",
    "# efficient multiplication:\n",
    "SVt = S.reshape(-1,1)[0:r,:] * Vt[0:r,:]\n",
    "\n",
    "# compare results:\n",
    "print('All results are equal to each other:',(svt == SVt).all())"
   ]
  },
  {
   "cell_type": "markdown",
   "metadata": {},
   "source": [
    "## **Task 4.4**"
   ]
  },
  {
   "cell_type": "markdown",
   "metadata": {
    "id": "eEMDQkkqu7Ck"
   },
   "source": [
    "Now we have vectors that represent our item space. In other words we have $N$ movies and $N$ vectors which describe each movie, a.k.a. embeddings. \n",
    "In order to know if two movies are similar or not we need just to check if the corresponding vectors are similair or not. How we can do this?\n",
    "\n",
    "4) (2 pts)  Implement the cosine metric. If the cosine metric between two vectors equals to $1$ both vectors are collinear, if $0$ vectors are orthogonal, as a result corresponding movies are completely different.\n",
    "\n",
    "$$\n",
    "cosine(u,v) = \\frac{u^{\\top}v}{\\|u\\|_2\\|v\\|_2}\n",
    "$$"
   ]
  },
  {
   "cell_type": "code",
   "execution_count": 70,
   "metadata": {
    "id": "lAR4dXMOOGI_"
   },
   "outputs": [
    {
     "name": "stdout",
     "output_type": "stream",
     "text": [
      "-1.0000000000000002\n",
      "0.0\n",
      "1.0000000000000002\n",
      "0.984731927834662\n"
     ]
    },
    {
     "data": {
      "text/plain": [
       "0.3976506643351239"
      ]
     },
     "execution_count": 70,
     "metadata": {},
     "output_type": "execute_result"
    }
   ],
   "source": [
    "# Your solutuion is here\n",
    "# cosine similarity function\n",
    "def cossim(u,v):\n",
    "    cossim = (u.T @ v)/np.linalg.norm(u,2)/np.linalg.norm(v,2)\n",
    "    return cossim\n",
    "\n",
    "# test it for different vectors\n",
    "print(cossim(np.array([1,2,1]),np.array([-1,-2,-1])))\n",
    "print(cossim(np.array([1,2,1]),np.array([-1,1,-1])))\n",
    "print(cossim(np.array([1,2,1]),np.array([1,2,1])))\n",
    "print(cossim(np.array([1,2,1]),np.array([1,3,1])))\n",
    "cossim(SVt[:,0],SVt[:,1])"
   ]
  },
  {
   "cell_type": "markdown",
   "metadata": {},
   "source": [
    "## **Task 4.5**"
   ]
  },
  {
   "cell_type": "markdown",
   "metadata": {
    "id": "6wRZh8ALu7C1"
   },
   "source": [
    "5) (5 pts) Check your result. Implement the fuction, which finds and prints $k$ similar movies to the one you have chosen"
   ]
  },
  {
   "cell_type": "code",
   "execution_count": 71,
   "metadata": {},
   "outputs": [],
   "source": [
    "# Your solutuion is here\n",
    "def select_films(selected_film_idx,SVt,k=10):\n",
    "    # k - the number of films to be selected\n",
    "    \n",
    "    # dict for selected films and its scores\n",
    "    selected_idxs = {}\n",
    "    # total number of films\n",
    "    films_number = SVt.shape[1]\n",
    "    scores = []\n",
    "    # while have not chosen k films\n",
    "    for idx in range(films_number):\n",
    "        sim = cossim(SVt[:,selected_film_idx],SVt[:,idx])\n",
    "        scores.append(sim)\n",
    "    # sort s cores and rearrange in descending order\n",
    "    scores_s = sorted(scores)[-k-1:-1][::-1]\n",
    "    for item in scores_s:\n",
    "        # find film index\n",
    "        idx  = np.argmax(scores == item)\n",
    "        # add data to the dictionary\n",
    "        selected_idxs[idx] = item\n",
    "\n",
    "    # show data about chosen film\n",
    "    chosen_film,genre = movie_by_index(selected_film_idx)\n",
    "    print('\\nThere are',k,'films similar to',chosen_film,'. Its genre is',genre,'\\n')\n",
    "    # for output results\n",
    "    data = {'Film name': [],'Film index': [], 'Genre': [], 'Similarity': []}\n",
    "    for idx,sim_score in zip(selected_idxs.keys(),selected_idxs.values()):\n",
    "        film_name,genre = movie_by_index(idx)\n",
    "        # fill table\n",
    "        data['Film name'].append(film_name)\n",
    "        data['Film index'].append(idx)\n",
    "        data['Genre'].append(genre)\n",
    "        data['Similarity'].append(np.round(sim_score,3))\n",
    "    df = pd.DataFrame(data)\n",
    "    df = df.style.set_properties(**{'text-align': 'left'})\n",
    "    return df"
   ]
  },
  {
   "cell_type": "code",
   "execution_count": 72,
   "metadata": {},
   "outputs": [
    {
     "name": "stdout",
     "output_type": "stream",
     "text": [
      "\n",
      "There are 10 films similar to Toy Story (1995) . Its genre is Animation|Children's|Comedy \n",
      "\n"
     ]
    },
    {
     "data": {
      "text/html": [
       "<style  type=\"text/css\" >\n",
       "#T_bf07cfc2_51f8_11ec_a6c4_7d26c50d18a6row0_col0,#T_bf07cfc2_51f8_11ec_a6c4_7d26c50d18a6row0_col1,#T_bf07cfc2_51f8_11ec_a6c4_7d26c50d18a6row0_col2,#T_bf07cfc2_51f8_11ec_a6c4_7d26c50d18a6row0_col3,#T_bf07cfc2_51f8_11ec_a6c4_7d26c50d18a6row1_col0,#T_bf07cfc2_51f8_11ec_a6c4_7d26c50d18a6row1_col1,#T_bf07cfc2_51f8_11ec_a6c4_7d26c50d18a6row1_col2,#T_bf07cfc2_51f8_11ec_a6c4_7d26c50d18a6row1_col3,#T_bf07cfc2_51f8_11ec_a6c4_7d26c50d18a6row2_col0,#T_bf07cfc2_51f8_11ec_a6c4_7d26c50d18a6row2_col1,#T_bf07cfc2_51f8_11ec_a6c4_7d26c50d18a6row2_col2,#T_bf07cfc2_51f8_11ec_a6c4_7d26c50d18a6row2_col3,#T_bf07cfc2_51f8_11ec_a6c4_7d26c50d18a6row3_col0,#T_bf07cfc2_51f8_11ec_a6c4_7d26c50d18a6row3_col1,#T_bf07cfc2_51f8_11ec_a6c4_7d26c50d18a6row3_col2,#T_bf07cfc2_51f8_11ec_a6c4_7d26c50d18a6row3_col3,#T_bf07cfc2_51f8_11ec_a6c4_7d26c50d18a6row4_col0,#T_bf07cfc2_51f8_11ec_a6c4_7d26c50d18a6row4_col1,#T_bf07cfc2_51f8_11ec_a6c4_7d26c50d18a6row4_col2,#T_bf07cfc2_51f8_11ec_a6c4_7d26c50d18a6row4_col3,#T_bf07cfc2_51f8_11ec_a6c4_7d26c50d18a6row5_col0,#T_bf07cfc2_51f8_11ec_a6c4_7d26c50d18a6row5_col1,#T_bf07cfc2_51f8_11ec_a6c4_7d26c50d18a6row5_col2,#T_bf07cfc2_51f8_11ec_a6c4_7d26c50d18a6row5_col3,#T_bf07cfc2_51f8_11ec_a6c4_7d26c50d18a6row6_col0,#T_bf07cfc2_51f8_11ec_a6c4_7d26c50d18a6row6_col1,#T_bf07cfc2_51f8_11ec_a6c4_7d26c50d18a6row6_col2,#T_bf07cfc2_51f8_11ec_a6c4_7d26c50d18a6row6_col3,#T_bf07cfc2_51f8_11ec_a6c4_7d26c50d18a6row7_col0,#T_bf07cfc2_51f8_11ec_a6c4_7d26c50d18a6row7_col1,#T_bf07cfc2_51f8_11ec_a6c4_7d26c50d18a6row7_col2,#T_bf07cfc2_51f8_11ec_a6c4_7d26c50d18a6row7_col3,#T_bf07cfc2_51f8_11ec_a6c4_7d26c50d18a6row8_col0,#T_bf07cfc2_51f8_11ec_a6c4_7d26c50d18a6row8_col1,#T_bf07cfc2_51f8_11ec_a6c4_7d26c50d18a6row8_col2,#T_bf07cfc2_51f8_11ec_a6c4_7d26c50d18a6row8_col3,#T_bf07cfc2_51f8_11ec_a6c4_7d26c50d18a6row9_col0,#T_bf07cfc2_51f8_11ec_a6c4_7d26c50d18a6row9_col1,#T_bf07cfc2_51f8_11ec_a6c4_7d26c50d18a6row9_col2,#T_bf07cfc2_51f8_11ec_a6c4_7d26c50d18a6row9_col3{\n",
       "            text-align:  left;\n",
       "        }</style><table id=\"T_bf07cfc2_51f8_11ec_a6c4_7d26c50d18a6\" ><thead>    <tr>        <th class=\"blank level0\" ></th>        <th class=\"col_heading level0 col0\" >Film name</th>        <th class=\"col_heading level0 col1\" >Film index</th>        <th class=\"col_heading level0 col2\" >Genre</th>        <th class=\"col_heading level0 col3\" >Similarity</th>    </tr></thead><tbody>\n",
       "                <tr>\n",
       "                        <th id=\"T_bf07cfc2_51f8_11ec_a6c4_7d26c50d18a6level0_row0\" class=\"row_heading level0 row0\" >0</th>\n",
       "                        <td id=\"T_bf07cfc2_51f8_11ec_a6c4_7d26c50d18a6row0_col0\" class=\"data row0 col0\" >Toy Story 2 (1999)</td>\n",
       "                        <td id=\"T_bf07cfc2_51f8_11ec_a6c4_7d26c50d18a6row0_col1\" class=\"data row0 col1\" >3045</td>\n",
       "                        <td id=\"T_bf07cfc2_51f8_11ec_a6c4_7d26c50d18a6row0_col2\" class=\"data row0 col2\" >Animation|Children's|Comedy</td>\n",
       "                        <td id=\"T_bf07cfc2_51f8_11ec_a6c4_7d26c50d18a6row0_col3\" class=\"data row0 col3\" >0.634000</td>\n",
       "            </tr>\n",
       "            <tr>\n",
       "                        <th id=\"T_bf07cfc2_51f8_11ec_a6c4_7d26c50d18a6level0_row1\" class=\"row_heading level0 row1\" >1</th>\n",
       "                        <td id=\"T_bf07cfc2_51f8_11ec_a6c4_7d26c50d18a6row1_col0\" class=\"data row1 col0\" >Groundhog Day (1993)</td>\n",
       "                        <td id=\"T_bf07cfc2_51f8_11ec_a6c4_7d26c50d18a6row1_col1\" class=\"data row1 col1\" >1245</td>\n",
       "                        <td id=\"T_bf07cfc2_51f8_11ec_a6c4_7d26c50d18a6row1_col2\" class=\"data row1 col2\" >Comedy|Romance</td>\n",
       "                        <td id=\"T_bf07cfc2_51f8_11ec_a6c4_7d26c50d18a6row1_col3\" class=\"data row1 col3\" >0.611000</td>\n",
       "            </tr>\n",
       "            <tr>\n",
       "                        <th id=\"T_bf07cfc2_51f8_11ec_a6c4_7d26c50d18a6level0_row2\" class=\"row_heading level0 row2\" >2</th>\n",
       "                        <td id=\"T_bf07cfc2_51f8_11ec_a6c4_7d26c50d18a6row2_col0\" class=\"data row2 col0\" >Aladdin (1992)</td>\n",
       "                        <td id=\"T_bf07cfc2_51f8_11ec_a6c4_7d26c50d18a6row2_col1\" class=\"data row2 col1\" >584</td>\n",
       "                        <td id=\"T_bf07cfc2_51f8_11ec_a6c4_7d26c50d18a6row2_col2\" class=\"data row2 col2\" >Animation|Children's|Comedy|Musical</td>\n",
       "                        <td id=\"T_bf07cfc2_51f8_11ec_a6c4_7d26c50d18a6row2_col3\" class=\"data row2 col3\" >0.607000</td>\n",
       "            </tr>\n",
       "            <tr>\n",
       "                        <th id=\"T_bf07cfc2_51f8_11ec_a6c4_7d26c50d18a6level0_row3\" class=\"row_heading level0 row3\" >3</th>\n",
       "                        <td id=\"T_bf07cfc2_51f8_11ec_a6c4_7d26c50d18a6row3_col0\" class=\"data row3 col0\" >Bug's Life, A (1998)</td>\n",
       "                        <td id=\"T_bf07cfc2_51f8_11ec_a6c4_7d26c50d18a6row3_col1\" class=\"data row3 col1\" >2286</td>\n",
       "                        <td id=\"T_bf07cfc2_51f8_11ec_a6c4_7d26c50d18a6row3_col2\" class=\"data row3 col2\" >Animation|Children's|Comedy</td>\n",
       "                        <td id=\"T_bf07cfc2_51f8_11ec_a6c4_7d26c50d18a6row3_col3\" class=\"data row3 col3\" >0.580000</td>\n",
       "            </tr>\n",
       "            <tr>\n",
       "                        <th id=\"T_bf07cfc2_51f8_11ec_a6c4_7d26c50d18a6level0_row4\" class=\"row_heading level0 row4\" >4</th>\n",
       "                        <td id=\"T_bf07cfc2_51f8_11ec_a6c4_7d26c50d18a6row4_col0\" class=\"data row4 col0\" >Back to the Future (1985)</td>\n",
       "                        <td id=\"T_bf07cfc2_51f8_11ec_a6c4_7d26c50d18a6row4_col1\" class=\"data row4 col1\" >1250</td>\n",
       "                        <td id=\"T_bf07cfc2_51f8_11ec_a6c4_7d26c50d18a6row4_col2\" class=\"data row4 col2\" >Comedy|Sci-Fi</td>\n",
       "                        <td id=\"T_bf07cfc2_51f8_11ec_a6c4_7d26c50d18a6row4_col3\" class=\"data row4 col3\" >0.571000</td>\n",
       "            </tr>\n",
       "            <tr>\n",
       "                        <th id=\"T_bf07cfc2_51f8_11ec_a6c4_7d26c50d18a6level0_row5\" class=\"row_heading level0 row5\" >5</th>\n",
       "                        <td id=\"T_bf07cfc2_51f8_11ec_a6c4_7d26c50d18a6row5_col0\" class=\"data row5 col0\" >Babe (1995)</td>\n",
       "                        <td id=\"T_bf07cfc2_51f8_11ec_a6c4_7d26c50d18a6row5_col1\" class=\"data row5 col1\" >33</td>\n",
       "                        <td id=\"T_bf07cfc2_51f8_11ec_a6c4_7d26c50d18a6row5_col2\" class=\"data row5 col2\" >Children's|Comedy|Drama</td>\n",
       "                        <td id=\"T_bf07cfc2_51f8_11ec_a6c4_7d26c50d18a6row5_col3\" class=\"data row5 col3\" >0.564000</td>\n",
       "            </tr>\n",
       "            <tr>\n",
       "                        <th id=\"T_bf07cfc2_51f8_11ec_a6c4_7d26c50d18a6level0_row6\" class=\"row_heading level0 row6\" >6</th>\n",
       "                        <td id=\"T_bf07cfc2_51f8_11ec_a6c4_7d26c50d18a6row6_col0\" class=\"data row6 col0\" >Star Wars: Episode V - The Empire Strikes Back (1980)</td>\n",
       "                        <td id=\"T_bf07cfc2_51f8_11ec_a6c4_7d26c50d18a6row6_col1\" class=\"data row6 col1\" >1178</td>\n",
       "                        <td id=\"T_bf07cfc2_51f8_11ec_a6c4_7d26c50d18a6row6_col2\" class=\"data row6 col2\" >Action|Adventure|Drama|Sci-Fi|War</td>\n",
       "                        <td id=\"T_bf07cfc2_51f8_11ec_a6c4_7d26c50d18a6row6_col3\" class=\"data row6 col3\" >0.553000</td>\n",
       "            </tr>\n",
       "            <tr>\n",
       "                        <th id=\"T_bf07cfc2_51f8_11ec_a6c4_7d26c50d18a6level0_row7\" class=\"row_heading level0 row7\" >7</th>\n",
       "                        <td id=\"T_bf07cfc2_51f8_11ec_a6c4_7d26c50d18a6row7_col0\" class=\"data row7 col0\" >Men in Black (1997)</td>\n",
       "                        <td id=\"T_bf07cfc2_51f8_11ec_a6c4_7d26c50d18a6row7_col1\" class=\"data row7 col1\" >1539</td>\n",
       "                        <td id=\"T_bf07cfc2_51f8_11ec_a6c4_7d26c50d18a6row7_col2\" class=\"data row7 col2\" >Action|Adventure|Comedy|Sci-Fi</td>\n",
       "                        <td id=\"T_bf07cfc2_51f8_11ec_a6c4_7d26c50d18a6row7_col3\" class=\"data row7 col3\" >0.553000</td>\n",
       "            </tr>\n",
       "            <tr>\n",
       "                        <th id=\"T_bf07cfc2_51f8_11ec_a6c4_7d26c50d18a6level0_row8\" class=\"row_heading level0 row8\" >8</th>\n",
       "                        <td id=\"T_bf07cfc2_51f8_11ec_a6c4_7d26c50d18a6row8_col0\" class=\"data row8 col0\" >Forrest Gump (1994)</td>\n",
       "                        <td id=\"T_bf07cfc2_51f8_11ec_a6c4_7d26c50d18a6row8_col1\" class=\"data row8 col1\" >352</td>\n",
       "                        <td id=\"T_bf07cfc2_51f8_11ec_a6c4_7d26c50d18a6row8_col2\" class=\"data row8 col2\" >Comedy|Romance|War</td>\n",
       "                        <td id=\"T_bf07cfc2_51f8_11ec_a6c4_7d26c50d18a6row8_col3\" class=\"data row8 col3\" >0.551000</td>\n",
       "            </tr>\n",
       "            <tr>\n",
       "                        <th id=\"T_bf07cfc2_51f8_11ec_a6c4_7d26c50d18a6level0_row9\" class=\"row_heading level0 row9\" >9</th>\n",
       "                        <td id=\"T_bf07cfc2_51f8_11ec_a6c4_7d26c50d18a6row9_col0\" class=\"data row9 col0\" >Matrix, The (1999)</td>\n",
       "                        <td id=\"T_bf07cfc2_51f8_11ec_a6c4_7d26c50d18a6row9_col1\" class=\"data row9 col1\" >2502</td>\n",
       "                        <td id=\"T_bf07cfc2_51f8_11ec_a6c4_7d26c50d18a6row9_col2\" class=\"data row9 col2\" >Action|Sci-Fi|Thriller</td>\n",
       "                        <td id=\"T_bf07cfc2_51f8_11ec_a6c4_7d26c50d18a6row9_col3\" class=\"data row9 col3\" >0.551000</td>\n",
       "            </tr>\n",
       "    </tbody></table>"
      ],
      "text/plain": [
       "<pandas.io.formats.style.Styler at 0x7f5bafe707c0>"
      ]
     },
     "execution_count": 72,
     "metadata": {},
     "output_type": "execute_result"
    }
   ],
   "source": [
    "k = 10\n",
    "selected_film_idx = 0\n",
    "select_films(selected_film_idx=selected_film_idx,SVt=SVt,k=k)"
   ]
  },
  {
   "cell_type": "code",
   "execution_count": 73,
   "metadata": {},
   "outputs": [
    {
     "name": "stdout",
     "output_type": "stream",
     "text": [
      "\n",
      "There are 10 films similar to Teenage Mutant Ninja Turtles (1990) . Its genre is Action|Children's|Fantasy \n",
      "\n"
     ]
    },
    {
     "data": {
      "text/html": [
       "<style  type=\"text/css\" >\n",
       "#T_bf1ab31c_51f8_11ec_a6c4_7d26c50d18a6row0_col0,#T_bf1ab31c_51f8_11ec_a6c4_7d26c50d18a6row0_col1,#T_bf1ab31c_51f8_11ec_a6c4_7d26c50d18a6row0_col2,#T_bf1ab31c_51f8_11ec_a6c4_7d26c50d18a6row0_col3,#T_bf1ab31c_51f8_11ec_a6c4_7d26c50d18a6row1_col0,#T_bf1ab31c_51f8_11ec_a6c4_7d26c50d18a6row1_col1,#T_bf1ab31c_51f8_11ec_a6c4_7d26c50d18a6row1_col2,#T_bf1ab31c_51f8_11ec_a6c4_7d26c50d18a6row1_col3,#T_bf1ab31c_51f8_11ec_a6c4_7d26c50d18a6row2_col0,#T_bf1ab31c_51f8_11ec_a6c4_7d26c50d18a6row2_col1,#T_bf1ab31c_51f8_11ec_a6c4_7d26c50d18a6row2_col2,#T_bf1ab31c_51f8_11ec_a6c4_7d26c50d18a6row2_col3,#T_bf1ab31c_51f8_11ec_a6c4_7d26c50d18a6row3_col0,#T_bf1ab31c_51f8_11ec_a6c4_7d26c50d18a6row3_col1,#T_bf1ab31c_51f8_11ec_a6c4_7d26c50d18a6row3_col2,#T_bf1ab31c_51f8_11ec_a6c4_7d26c50d18a6row3_col3,#T_bf1ab31c_51f8_11ec_a6c4_7d26c50d18a6row4_col0,#T_bf1ab31c_51f8_11ec_a6c4_7d26c50d18a6row4_col1,#T_bf1ab31c_51f8_11ec_a6c4_7d26c50d18a6row4_col2,#T_bf1ab31c_51f8_11ec_a6c4_7d26c50d18a6row4_col3,#T_bf1ab31c_51f8_11ec_a6c4_7d26c50d18a6row5_col0,#T_bf1ab31c_51f8_11ec_a6c4_7d26c50d18a6row5_col1,#T_bf1ab31c_51f8_11ec_a6c4_7d26c50d18a6row5_col2,#T_bf1ab31c_51f8_11ec_a6c4_7d26c50d18a6row5_col3,#T_bf1ab31c_51f8_11ec_a6c4_7d26c50d18a6row6_col0,#T_bf1ab31c_51f8_11ec_a6c4_7d26c50d18a6row6_col1,#T_bf1ab31c_51f8_11ec_a6c4_7d26c50d18a6row6_col2,#T_bf1ab31c_51f8_11ec_a6c4_7d26c50d18a6row6_col3,#T_bf1ab31c_51f8_11ec_a6c4_7d26c50d18a6row7_col0,#T_bf1ab31c_51f8_11ec_a6c4_7d26c50d18a6row7_col1,#T_bf1ab31c_51f8_11ec_a6c4_7d26c50d18a6row7_col2,#T_bf1ab31c_51f8_11ec_a6c4_7d26c50d18a6row7_col3,#T_bf1ab31c_51f8_11ec_a6c4_7d26c50d18a6row8_col0,#T_bf1ab31c_51f8_11ec_a6c4_7d26c50d18a6row8_col1,#T_bf1ab31c_51f8_11ec_a6c4_7d26c50d18a6row8_col2,#T_bf1ab31c_51f8_11ec_a6c4_7d26c50d18a6row8_col3,#T_bf1ab31c_51f8_11ec_a6c4_7d26c50d18a6row9_col0,#T_bf1ab31c_51f8_11ec_a6c4_7d26c50d18a6row9_col1,#T_bf1ab31c_51f8_11ec_a6c4_7d26c50d18a6row9_col2,#T_bf1ab31c_51f8_11ec_a6c4_7d26c50d18a6row9_col3{\n",
       "            text-align:  left;\n",
       "        }</style><table id=\"T_bf1ab31c_51f8_11ec_a6c4_7d26c50d18a6\" ><thead>    <tr>        <th class=\"blank level0\" ></th>        <th class=\"col_heading level0 col0\" >Film name</th>        <th class=\"col_heading level0 col1\" >Film index</th>        <th class=\"col_heading level0 col2\" >Genre</th>        <th class=\"col_heading level0 col3\" >Similarity</th>    </tr></thead><tbody>\n",
       "                <tr>\n",
       "                        <th id=\"T_bf1ab31c_51f8_11ec_a6c4_7d26c50d18a6level0_row0\" class=\"row_heading level0 row0\" >0</th>\n",
       "                        <td id=\"T_bf1ab31c_51f8_11ec_a6c4_7d26c50d18a6row0_col0\" class=\"data row0 col0\" >Teenage Mutant Ninja Turtles II: The Secret of the Ooze (1991)</td>\n",
       "                        <td id=\"T_bf1ab31c_51f8_11ec_a6c4_7d26c50d18a6row0_col1\" class=\"data row0 col1\" >3370</td>\n",
       "                        <td id=\"T_bf1ab31c_51f8_11ec_a6c4_7d26c50d18a6row0_col2\" class=\"data row0 col2\" >Action|Children's|Fantasy</td>\n",
       "                        <td id=\"T_bf1ab31c_51f8_11ec_a6c4_7d26c50d18a6row0_col3\" class=\"data row0 col3\" >0.742000</td>\n",
       "            </tr>\n",
       "            <tr>\n",
       "                        <th id=\"T_bf1ab31c_51f8_11ec_a6c4_7d26c50d18a6level0_row1\" class=\"row_heading level0 row1\" >1</th>\n",
       "                        <td id=\"T_bf1ab31c_51f8_11ec_a6c4_7d26c50d18a6row1_col0\" class=\"data row1 col0\" >Teenage Mutant Ninja Turtles III (1993)</td>\n",
       "                        <td id=\"T_bf1ab31c_51f8_11ec_a6c4_7d26c50d18a6row1_col1\" class=\"data row1 col1\" >3371</td>\n",
       "                        <td id=\"T_bf1ab31c_51f8_11ec_a6c4_7d26c50d18a6row1_col2\" class=\"data row1 col2\" >Action|Children's|Fantasy</td>\n",
       "                        <td id=\"T_bf1ab31c_51f8_11ec_a6c4_7d26c50d18a6row1_col3\" class=\"data row1 col3\" >0.663000</td>\n",
       "            </tr>\n",
       "            <tr>\n",
       "                        <th id=\"T_bf1ab31c_51f8_11ec_a6c4_7d26c50d18a6level0_row2\" class=\"row_heading level0 row2\" >2</th>\n",
       "                        <td id=\"T_bf1ab31c_51f8_11ec_a6c4_7d26c50d18a6row2_col0\" class=\"data row2 col0\" >Mortal Kombat (1995)</td>\n",
       "                        <td id=\"T_bf1ab31c_51f8_11ec_a6c4_7d26c50d18a6row2_col1\" class=\"data row2 col1\" >43</td>\n",
       "                        <td id=\"T_bf1ab31c_51f8_11ec_a6c4_7d26c50d18a6row2_col2\" class=\"data row2 col2\" >Action|Adventure</td>\n",
       "                        <td id=\"T_bf1ab31c_51f8_11ec_a6c4_7d26c50d18a6row2_col3\" class=\"data row2 col3\" >0.519000</td>\n",
       "            </tr>\n",
       "            <tr>\n",
       "                        <th id=\"T_bf1ab31c_51f8_11ec_a6c4_7d26c50d18a6level0_row3\" class=\"row_heading level0 row3\" >3</th>\n",
       "                        <td id=\"T_bf1ab31c_51f8_11ec_a6c4_7d26c50d18a6row3_col0\" class=\"data row3 col0\" >Hook (1991)</td>\n",
       "                        <td id=\"T_bf1ab31c_51f8_11ec_a6c4_7d26c50d18a6row3_col1\" class=\"data row3 col1\" >3420</td>\n",
       "                        <td id=\"T_bf1ab31c_51f8_11ec_a6c4_7d26c50d18a6row3_col2\" class=\"data row3 col2\" >Adventure|Fantasy</td>\n",
       "                        <td id=\"T_bf1ab31c_51f8_11ec_a6c4_7d26c50d18a6row3_col3\" class=\"data row3 col3\" >0.506000</td>\n",
       "            </tr>\n",
       "            <tr>\n",
       "                        <th id=\"T_bf1ab31c_51f8_11ec_a6c4_7d26c50d18a6level0_row4\" class=\"row_heading level0 row4\" >4</th>\n",
       "                        <td id=\"T_bf1ab31c_51f8_11ec_a6c4_7d26c50d18a6row4_col0\" class=\"data row4 col0\" >Willow (1988)</td>\n",
       "                        <td id=\"T_bf1ab31c_51f8_11ec_a6c4_7d26c50d18a6row4_col1\" class=\"data row4 col1\" >2124</td>\n",
       "                        <td id=\"T_bf1ab31c_51f8_11ec_a6c4_7d26c50d18a6row4_col2\" class=\"data row4 col2\" >Action|Adventure|Fantasy</td>\n",
       "                        <td id=\"T_bf1ab31c_51f8_11ec_a6c4_7d26c50d18a6row4_col3\" class=\"data row4 col3\" >0.497000</td>\n",
       "            </tr>\n",
       "            <tr>\n",
       "                        <th id=\"T_bf1ab31c_51f8_11ec_a6c4_7d26c50d18a6level0_row5\" class=\"row_heading level0 row5\" >5</th>\n",
       "                        <td id=\"T_bf1ab31c_51f8_11ec_a6c4_7d26c50d18a6row5_col0\" class=\"data row5 col0\" >Jumanji (1995)</td>\n",
       "                        <td id=\"T_bf1ab31c_51f8_11ec_a6c4_7d26c50d18a6row5_col1\" class=\"data row5 col1\" >1</td>\n",
       "                        <td id=\"T_bf1ab31c_51f8_11ec_a6c4_7d26c50d18a6row5_col2\" class=\"data row5 col2\" >Adventure|Children's|Fantasy</td>\n",
       "                        <td id=\"T_bf1ab31c_51f8_11ec_a6c4_7d26c50d18a6row5_col3\" class=\"data row5 col3\" >0.481000</td>\n",
       "            </tr>\n",
       "            <tr>\n",
       "                        <th id=\"T_bf1ab31c_51f8_11ec_a6c4_7d26c50d18a6level0_row6\" class=\"row_heading level0 row6\" >6</th>\n",
       "                        <td id=\"T_bf1ab31c_51f8_11ec_a6c4_7d26c50d18a6row6_col0\" class=\"data row6 col0\" >Judge Dredd (1995)</td>\n",
       "                        <td id=\"T_bf1ab31c_51f8_11ec_a6c4_7d26c50d18a6row6_col1\" class=\"data row6 col1\" >171</td>\n",
       "                        <td id=\"T_bf1ab31c_51f8_11ec_a6c4_7d26c50d18a6row6_col2\" class=\"data row6 col2\" >Action|Adventure|Sci-Fi</td>\n",
       "                        <td id=\"T_bf1ab31c_51f8_11ec_a6c4_7d26c50d18a6row6_col3\" class=\"data row6 col3\" >0.464000</td>\n",
       "            </tr>\n",
       "            <tr>\n",
       "                        <th id=\"T_bf1ab31c_51f8_11ec_a6c4_7d26c50d18a6level0_row7\" class=\"row_heading level0 row7\" >7</th>\n",
       "                        <td id=\"T_bf1ab31c_51f8_11ec_a6c4_7d26c50d18a6row7_col0\" class=\"data row7 col0\" >Honey, I Shrunk the Kids (1989)</td>\n",
       "                        <td id=\"T_bf1ab31c_51f8_11ec_a6c4_7d26c50d18a6row7_col1\" class=\"data row7 col1\" >1985</td>\n",
       "                        <td id=\"T_bf1ab31c_51f8_11ec_a6c4_7d26c50d18a6row7_col2\" class=\"data row7 col2\" >Adventure|Children's|Comedy|Fantasy|Sci-Fi</td>\n",
       "                        <td id=\"T_bf1ab31c_51f8_11ec_a6c4_7d26c50d18a6row7_col3\" class=\"data row7 col3\" >0.460000</td>\n",
       "            </tr>\n",
       "            <tr>\n",
       "                        <th id=\"T_bf1ab31c_51f8_11ec_a6c4_7d26c50d18a6level0_row8\" class=\"row_heading level0 row8\" >8</th>\n",
       "                        <td id=\"T_bf1ab31c_51f8_11ec_a6c4_7d26c50d18a6row8_col0\" class=\"data row8 col0\" >Batman Returns (1992)</td>\n",
       "                        <td id=\"T_bf1ab31c_51f8_11ec_a6c4_7d26c50d18a6row8_col1\" class=\"data row8 col1\" >1356</td>\n",
       "                        <td id=\"T_bf1ab31c_51f8_11ec_a6c4_7d26c50d18a6row8_col2\" class=\"data row8 col2\" >Action|Adventure|Comedy|Crime</td>\n",
       "                        <td id=\"T_bf1ab31c_51f8_11ec_a6c4_7d26c50d18a6row8_col3\" class=\"data row8 col3\" >0.460000</td>\n",
       "            </tr>\n",
       "            <tr>\n",
       "                        <th id=\"T_bf1ab31c_51f8_11ec_a6c4_7d26c50d18a6level0_row9\" class=\"row_heading level0 row9\" >9</th>\n",
       "                        <td id=\"T_bf1ab31c_51f8_11ec_a6c4_7d26c50d18a6row9_col0\" class=\"data row9 col0\" >Super Mario Bros. (1993)</td>\n",
       "                        <td id=\"T_bf1ab31c_51f8_11ec_a6c4_7d26c50d18a6row9_col1\" class=\"data row9 col1\" >542</td>\n",
       "                        <td id=\"T_bf1ab31c_51f8_11ec_a6c4_7d26c50d18a6row9_col2\" class=\"data row9 col2\" >Action|Adventure|Children's|Sci-Fi</td>\n",
       "                        <td id=\"T_bf1ab31c_51f8_11ec_a6c4_7d26c50d18a6row9_col3\" class=\"data row9 col3\" >0.460000</td>\n",
       "            </tr>\n",
       "    </tbody></table>"
      ],
      "text/plain": [
       "<pandas.io.formats.style.Styler at 0x7f5bb3bd2bb0>"
      ]
     },
     "execution_count": 73,
     "metadata": {},
     "output_type": "execute_result"
    }
   ],
   "source": [
    "selected_film_idx = 3369\n",
    "select_films(selected_film_idx=selected_film_idx,SVt=SVt,k=k)"
   ]
  },
  {
   "cell_type": "code",
   "execution_count": 74,
   "metadata": {},
   "outputs": [
    {
     "name": "stdout",
     "output_type": "stream",
     "text": [
      "\n",
      "There are 10 films similar to 101 Dalmatians (1961) . Its genre is Animation|Children's \n",
      "\n"
     ]
    },
    {
     "data": {
      "text/html": [
       "<style  type=\"text/css\" >\n",
       "#T_bf2cf8d8_51f8_11ec_a6c4_7d26c50d18a6row0_col0,#T_bf2cf8d8_51f8_11ec_a6c4_7d26c50d18a6row0_col1,#T_bf2cf8d8_51f8_11ec_a6c4_7d26c50d18a6row0_col2,#T_bf2cf8d8_51f8_11ec_a6c4_7d26c50d18a6row0_col3,#T_bf2cf8d8_51f8_11ec_a6c4_7d26c50d18a6row1_col0,#T_bf2cf8d8_51f8_11ec_a6c4_7d26c50d18a6row1_col1,#T_bf2cf8d8_51f8_11ec_a6c4_7d26c50d18a6row1_col2,#T_bf2cf8d8_51f8_11ec_a6c4_7d26c50d18a6row1_col3,#T_bf2cf8d8_51f8_11ec_a6c4_7d26c50d18a6row2_col0,#T_bf2cf8d8_51f8_11ec_a6c4_7d26c50d18a6row2_col1,#T_bf2cf8d8_51f8_11ec_a6c4_7d26c50d18a6row2_col2,#T_bf2cf8d8_51f8_11ec_a6c4_7d26c50d18a6row2_col3,#T_bf2cf8d8_51f8_11ec_a6c4_7d26c50d18a6row3_col0,#T_bf2cf8d8_51f8_11ec_a6c4_7d26c50d18a6row3_col1,#T_bf2cf8d8_51f8_11ec_a6c4_7d26c50d18a6row3_col2,#T_bf2cf8d8_51f8_11ec_a6c4_7d26c50d18a6row3_col3,#T_bf2cf8d8_51f8_11ec_a6c4_7d26c50d18a6row4_col0,#T_bf2cf8d8_51f8_11ec_a6c4_7d26c50d18a6row4_col1,#T_bf2cf8d8_51f8_11ec_a6c4_7d26c50d18a6row4_col2,#T_bf2cf8d8_51f8_11ec_a6c4_7d26c50d18a6row4_col3,#T_bf2cf8d8_51f8_11ec_a6c4_7d26c50d18a6row5_col0,#T_bf2cf8d8_51f8_11ec_a6c4_7d26c50d18a6row5_col1,#T_bf2cf8d8_51f8_11ec_a6c4_7d26c50d18a6row5_col2,#T_bf2cf8d8_51f8_11ec_a6c4_7d26c50d18a6row5_col3,#T_bf2cf8d8_51f8_11ec_a6c4_7d26c50d18a6row6_col0,#T_bf2cf8d8_51f8_11ec_a6c4_7d26c50d18a6row6_col1,#T_bf2cf8d8_51f8_11ec_a6c4_7d26c50d18a6row6_col2,#T_bf2cf8d8_51f8_11ec_a6c4_7d26c50d18a6row6_col3,#T_bf2cf8d8_51f8_11ec_a6c4_7d26c50d18a6row7_col0,#T_bf2cf8d8_51f8_11ec_a6c4_7d26c50d18a6row7_col1,#T_bf2cf8d8_51f8_11ec_a6c4_7d26c50d18a6row7_col2,#T_bf2cf8d8_51f8_11ec_a6c4_7d26c50d18a6row7_col3,#T_bf2cf8d8_51f8_11ec_a6c4_7d26c50d18a6row8_col0,#T_bf2cf8d8_51f8_11ec_a6c4_7d26c50d18a6row8_col1,#T_bf2cf8d8_51f8_11ec_a6c4_7d26c50d18a6row8_col2,#T_bf2cf8d8_51f8_11ec_a6c4_7d26c50d18a6row8_col3,#T_bf2cf8d8_51f8_11ec_a6c4_7d26c50d18a6row9_col0,#T_bf2cf8d8_51f8_11ec_a6c4_7d26c50d18a6row9_col1,#T_bf2cf8d8_51f8_11ec_a6c4_7d26c50d18a6row9_col2,#T_bf2cf8d8_51f8_11ec_a6c4_7d26c50d18a6row9_col3{\n",
       "            text-align:  left;\n",
       "        }</style><table id=\"T_bf2cf8d8_51f8_11ec_a6c4_7d26c50d18a6\" ><thead>    <tr>        <th class=\"blank level0\" ></th>        <th class=\"col_heading level0 col0\" >Film name</th>        <th class=\"col_heading level0 col1\" >Film index</th>        <th class=\"col_heading level0 col2\" >Genre</th>        <th class=\"col_heading level0 col3\" >Similarity</th>    </tr></thead><tbody>\n",
       "                <tr>\n",
       "                        <th id=\"T_bf2cf8d8_51f8_11ec_a6c4_7d26c50d18a6level0_row0\" class=\"row_heading level0 row0\" >0</th>\n",
       "                        <td id=\"T_bf2cf8d8_51f8_11ec_a6c4_7d26c50d18a6row0_col0\" class=\"data row0 col0\" >Pinocchio (1940)</td>\n",
       "                        <td id=\"T_bf2cf8d8_51f8_11ec_a6c4_7d26c50d18a6row0_col1\" class=\"data row0 col1\" >592</td>\n",
       "                        <td id=\"T_bf2cf8d8_51f8_11ec_a6c4_7d26c50d18a6row0_col2\" class=\"data row0 col2\" >Animation|Children's</td>\n",
       "                        <td id=\"T_bf2cf8d8_51f8_11ec_a6c4_7d26c50d18a6row0_col3\" class=\"data row0 col3\" >0.580000</td>\n",
       "            </tr>\n",
       "            <tr>\n",
       "                        <th id=\"T_bf2cf8d8_51f8_11ec_a6c4_7d26c50d18a6level0_row1\" class=\"row_heading level0 row1\" >1</th>\n",
       "                        <td id=\"T_bf2cf8d8_51f8_11ec_a6c4_7d26c50d18a6row1_col0\" class=\"data row1 col0\" >Cinderella (1950)</td>\n",
       "                        <td id=\"T_bf2cf8d8_51f8_11ec_a6c4_7d26c50d18a6row1_col1\" class=\"data row1 col1\" >1009</td>\n",
       "                        <td id=\"T_bf2cf8d8_51f8_11ec_a6c4_7d26c50d18a6row1_col2\" class=\"data row1 col2\" >Animation|Children's|Musical</td>\n",
       "                        <td id=\"T_bf2cf8d8_51f8_11ec_a6c4_7d26c50d18a6row1_col3\" class=\"data row1 col3\" >0.576000</td>\n",
       "            </tr>\n",
       "            <tr>\n",
       "                        <th id=\"T_bf2cf8d8_51f8_11ec_a6c4_7d26c50d18a6level0_row2\" class=\"row_heading level0 row2\" >2</th>\n",
       "                        <td id=\"T_bf2cf8d8_51f8_11ec_a6c4_7d26c50d18a6row2_col0\" class=\"data row2 col0\" >Bambi (1942)</td>\n",
       "                        <td id=\"T_bf2cf8d8_51f8_11ec_a6c4_7d26c50d18a6row2_col1\" class=\"data row2 col1\" >1949</td>\n",
       "                        <td id=\"T_bf2cf8d8_51f8_11ec_a6c4_7d26c50d18a6row2_col2\" class=\"data row2 col2\" >Animation|Children's</td>\n",
       "                        <td id=\"T_bf2cf8d8_51f8_11ec_a6c4_7d26c50d18a6row2_col3\" class=\"data row2 col3\" >0.575000</td>\n",
       "            </tr>\n",
       "            <tr>\n",
       "                        <th id=\"T_bf2cf8d8_51f8_11ec_a6c4_7d26c50d18a6level0_row3\" class=\"row_heading level0 row3\" >3</th>\n",
       "                        <td id=\"T_bf2cf8d8_51f8_11ec_a6c4_7d26c50d18a6row3_col0\" class=\"data row3 col0\" >Sword in the Stone, The (1963)</td>\n",
       "                        <td id=\"T_bf2cf8d8_51f8_11ec_a6c4_7d26c50d18a6row3_col1\" class=\"data row3 col1\" >1012</td>\n",
       "                        <td id=\"T_bf2cf8d8_51f8_11ec_a6c4_7d26c50d18a6row3_col2\" class=\"data row3 col2\" >Animation|Children's</td>\n",
       "                        <td id=\"T_bf2cf8d8_51f8_11ec_a6c4_7d26c50d18a6row3_col3\" class=\"data row3 col3\" >0.571000</td>\n",
       "            </tr>\n",
       "            <tr>\n",
       "                        <th id=\"T_bf2cf8d8_51f8_11ec_a6c4_7d26c50d18a6level0_row4\" class=\"row_heading level0 row4\" >4</th>\n",
       "                        <td id=\"T_bf2cf8d8_51f8_11ec_a6c4_7d26c50d18a6row4_col0\" class=\"data row4 col0\" >Dumbo (1941)</td>\n",
       "                        <td id=\"T_bf2cf8d8_51f8_11ec_a6c4_7d26c50d18a6row4_col1\" class=\"data row4 col1\" >1016</td>\n",
       "                        <td id=\"T_bf2cf8d8_51f8_11ec_a6c4_7d26c50d18a6row4_col2\" class=\"data row4 col2\" >Animation|Children's|Musical</td>\n",
       "                        <td id=\"T_bf2cf8d8_51f8_11ec_a6c4_7d26c50d18a6row4_col3\" class=\"data row4 col3\" >0.566000</td>\n",
       "            </tr>\n",
       "            <tr>\n",
       "                        <th id=\"T_bf2cf8d8_51f8_11ec_a6c4_7d26c50d18a6level0_row5\" class=\"row_heading level0 row5\" >5</th>\n",
       "                        <td id=\"T_bf2cf8d8_51f8_11ec_a6c4_7d26c50d18a6row5_col0\" class=\"data row5 col0\" >Peter Pan (1953)</td>\n",
       "                        <td id=\"T_bf2cf8d8_51f8_11ec_a6c4_7d26c50d18a6row5_col1\" class=\"data row5 col1\" >2018</td>\n",
       "                        <td id=\"T_bf2cf8d8_51f8_11ec_a6c4_7d26c50d18a6row5_col2\" class=\"data row5 col2\" >Animation|Children's|Fantasy|Musical</td>\n",
       "                        <td id=\"T_bf2cf8d8_51f8_11ec_a6c4_7d26c50d18a6row5_col3\" class=\"data row5 col3\" >0.552000</td>\n",
       "            </tr>\n",
       "            <tr>\n",
       "                        <th id=\"T_bf2cf8d8_51f8_11ec_a6c4_7d26c50d18a6level0_row6\" class=\"row_heading level0 row6\" >6</th>\n",
       "                        <td id=\"T_bf2cf8d8_51f8_11ec_a6c4_7d26c50d18a6row6_col0\" class=\"data row6 col0\" >Sleeping Beauty (1959)</td>\n",
       "                        <td id=\"T_bf2cf8d8_51f8_11ec_a6c4_7d26c50d18a6row6_col1\" class=\"data row6 col1\" >2027</td>\n",
       "                        <td id=\"T_bf2cf8d8_51f8_11ec_a6c4_7d26c50d18a6row6_col2\" class=\"data row6 col2\" >Animation|Children's|Musical</td>\n",
       "                        <td id=\"T_bf2cf8d8_51f8_11ec_a6c4_7d26c50d18a6row6_col3\" class=\"data row6 col3\" >0.549000</td>\n",
       "            </tr>\n",
       "            <tr>\n",
       "                        <th id=\"T_bf2cf8d8_51f8_11ec_a6c4_7d26c50d18a6level0_row7\" class=\"row_heading level0 row7\" >7</th>\n",
       "                        <td id=\"T_bf2cf8d8_51f8_11ec_a6c4_7d26c50d18a6row7_col0\" class=\"data row7 col0\" >Aristocats, The (1970)</td>\n",
       "                        <td id=\"T_bf2cf8d8_51f8_11ec_a6c4_7d26c50d18a6row7_col1\" class=\"data row7 col1\" >612</td>\n",
       "                        <td id=\"T_bf2cf8d8_51f8_11ec_a6c4_7d26c50d18a6row7_col2\" class=\"data row7 col2\" >Animation|Children's</td>\n",
       "                        <td id=\"T_bf2cf8d8_51f8_11ec_a6c4_7d26c50d18a6row7_col3\" class=\"data row7 col3\" >0.539000</td>\n",
       "            </tr>\n",
       "            <tr>\n",
       "                        <th id=\"T_bf2cf8d8_51f8_11ec_a6c4_7d26c50d18a6level0_row8\" class=\"row_heading level0 row8\" >8</th>\n",
       "                        <td id=\"T_bf2cf8d8_51f8_11ec_a6c4_7d26c50d18a6row8_col0\" class=\"data row8 col0\" >Snow White and the Seven Dwarfs (1937)</td>\n",
       "                        <td id=\"T_bf2cf8d8_51f8_11ec_a6c4_7d26c50d18a6row8_col1\" class=\"data row8 col1\" >590</td>\n",
       "                        <td id=\"T_bf2cf8d8_51f8_11ec_a6c4_7d26c50d18a6row8_col2\" class=\"data row8 col2\" >Animation|Children's|Musical</td>\n",
       "                        <td id=\"T_bf2cf8d8_51f8_11ec_a6c4_7d26c50d18a6row8_col3\" class=\"data row8 col3\" >0.536000</td>\n",
       "            </tr>\n",
       "            <tr>\n",
       "                        <th id=\"T_bf2cf8d8_51f8_11ec_a6c4_7d26c50d18a6level0_row9\" class=\"row_heading level0 row9\" >9</th>\n",
       "                        <td id=\"T_bf2cf8d8_51f8_11ec_a6c4_7d26c50d18a6row9_col0\" class=\"data row9 col0\" >Lady and the Tramp (1955)</td>\n",
       "                        <td id=\"T_bf2cf8d8_51f8_11ec_a6c4_7d26c50d18a6row9_col1\" class=\"data row9 col1\" >2011</td>\n",
       "                        <td id=\"T_bf2cf8d8_51f8_11ec_a6c4_7d26c50d18a6row9_col2\" class=\"data row9 col2\" >Animation|Children's|Comedy|Musical|Romance</td>\n",
       "                        <td id=\"T_bf2cf8d8_51f8_11ec_a6c4_7d26c50d18a6row9_col3\" class=\"data row9 col3\" >0.523000</td>\n",
       "            </tr>\n",
       "    </tbody></table>"
      ],
      "text/plain": [
       "<pandas.io.formats.style.Styler at 0x7f5bb3ce9f70>"
      ]
     },
     "execution_count": 74,
     "metadata": {},
     "output_type": "execute_result"
    }
   ],
   "source": [
    "selected_film_idx = 2016\n",
    "select_films(selected_film_idx=selected_film_idx,SVt=SVt,k=k)"
   ]
  },
  {
   "cell_type": "code",
   "execution_count": 75,
   "metadata": {},
   "outputs": [
    {
     "name": "stdout",
     "output_type": "stream",
     "text": [
      "\n",
      "There are 10 films similar to Back to the Future (1985) . Its genre is Comedy|Sci-Fi \n",
      "\n"
     ]
    },
    {
     "data": {
      "text/html": [
       "<style  type=\"text/css\" >\n",
       "#T_bf43133e_51f8_11ec_a6c4_7d26c50d18a6row0_col0,#T_bf43133e_51f8_11ec_a6c4_7d26c50d18a6row0_col1,#T_bf43133e_51f8_11ec_a6c4_7d26c50d18a6row0_col2,#T_bf43133e_51f8_11ec_a6c4_7d26c50d18a6row0_col3,#T_bf43133e_51f8_11ec_a6c4_7d26c50d18a6row1_col0,#T_bf43133e_51f8_11ec_a6c4_7d26c50d18a6row1_col1,#T_bf43133e_51f8_11ec_a6c4_7d26c50d18a6row1_col2,#T_bf43133e_51f8_11ec_a6c4_7d26c50d18a6row1_col3,#T_bf43133e_51f8_11ec_a6c4_7d26c50d18a6row2_col0,#T_bf43133e_51f8_11ec_a6c4_7d26c50d18a6row2_col1,#T_bf43133e_51f8_11ec_a6c4_7d26c50d18a6row2_col2,#T_bf43133e_51f8_11ec_a6c4_7d26c50d18a6row2_col3,#T_bf43133e_51f8_11ec_a6c4_7d26c50d18a6row3_col0,#T_bf43133e_51f8_11ec_a6c4_7d26c50d18a6row3_col1,#T_bf43133e_51f8_11ec_a6c4_7d26c50d18a6row3_col2,#T_bf43133e_51f8_11ec_a6c4_7d26c50d18a6row3_col3,#T_bf43133e_51f8_11ec_a6c4_7d26c50d18a6row4_col0,#T_bf43133e_51f8_11ec_a6c4_7d26c50d18a6row4_col1,#T_bf43133e_51f8_11ec_a6c4_7d26c50d18a6row4_col2,#T_bf43133e_51f8_11ec_a6c4_7d26c50d18a6row4_col3,#T_bf43133e_51f8_11ec_a6c4_7d26c50d18a6row5_col0,#T_bf43133e_51f8_11ec_a6c4_7d26c50d18a6row5_col1,#T_bf43133e_51f8_11ec_a6c4_7d26c50d18a6row5_col2,#T_bf43133e_51f8_11ec_a6c4_7d26c50d18a6row5_col3,#T_bf43133e_51f8_11ec_a6c4_7d26c50d18a6row6_col0,#T_bf43133e_51f8_11ec_a6c4_7d26c50d18a6row6_col1,#T_bf43133e_51f8_11ec_a6c4_7d26c50d18a6row6_col2,#T_bf43133e_51f8_11ec_a6c4_7d26c50d18a6row6_col3,#T_bf43133e_51f8_11ec_a6c4_7d26c50d18a6row7_col0,#T_bf43133e_51f8_11ec_a6c4_7d26c50d18a6row7_col1,#T_bf43133e_51f8_11ec_a6c4_7d26c50d18a6row7_col2,#T_bf43133e_51f8_11ec_a6c4_7d26c50d18a6row7_col3,#T_bf43133e_51f8_11ec_a6c4_7d26c50d18a6row8_col0,#T_bf43133e_51f8_11ec_a6c4_7d26c50d18a6row8_col1,#T_bf43133e_51f8_11ec_a6c4_7d26c50d18a6row8_col2,#T_bf43133e_51f8_11ec_a6c4_7d26c50d18a6row8_col3,#T_bf43133e_51f8_11ec_a6c4_7d26c50d18a6row9_col0,#T_bf43133e_51f8_11ec_a6c4_7d26c50d18a6row9_col1,#T_bf43133e_51f8_11ec_a6c4_7d26c50d18a6row9_col2,#T_bf43133e_51f8_11ec_a6c4_7d26c50d18a6row9_col3{\n",
       "            text-align:  left;\n",
       "        }</style><table id=\"T_bf43133e_51f8_11ec_a6c4_7d26c50d18a6\" ><thead>    <tr>        <th class=\"blank level0\" ></th>        <th class=\"col_heading level0 col0\" >Film name</th>        <th class=\"col_heading level0 col1\" >Film index</th>        <th class=\"col_heading level0 col2\" >Genre</th>        <th class=\"col_heading level0 col3\" >Similarity</th>    </tr></thead><tbody>\n",
       "                <tr>\n",
       "                        <th id=\"T_bf43133e_51f8_11ec_a6c4_7d26c50d18a6level0_row0\" class=\"row_heading level0 row0\" >0</th>\n",
       "                        <td id=\"T_bf43133e_51f8_11ec_a6c4_7d26c50d18a6row0_col0\" class=\"data row0 col0\" >Star Wars: Episode V - The Empire Strikes Back (1980)</td>\n",
       "                        <td id=\"T_bf43133e_51f8_11ec_a6c4_7d26c50d18a6row0_col1\" class=\"data row0 col1\" >1178</td>\n",
       "                        <td id=\"T_bf43133e_51f8_11ec_a6c4_7d26c50d18a6row0_col2\" class=\"data row0 col2\" >Action|Adventure|Drama|Sci-Fi|War</td>\n",
       "                        <td id=\"T_bf43133e_51f8_11ec_a6c4_7d26c50d18a6row0_col3\" class=\"data row0 col3\" >0.682000</td>\n",
       "            </tr>\n",
       "            <tr>\n",
       "                        <th id=\"T_bf43133e_51f8_11ec_a6c4_7d26c50d18a6level0_row1\" class=\"row_heading level0 row1\" >1</th>\n",
       "                        <td id=\"T_bf43133e_51f8_11ec_a6c4_7d26c50d18a6row1_col0\" class=\"data row1 col0\" >Star Wars: Episode IV - A New Hope (1977)</td>\n",
       "                        <td id=\"T_bf43133e_51f8_11ec_a6c4_7d26c50d18a6row1_col1\" class=\"data row1 col1\" >257</td>\n",
       "                        <td id=\"T_bf43133e_51f8_11ec_a6c4_7d26c50d18a6row1_col2\" class=\"data row1 col2\" >Action|Adventure|Fantasy|Sci-Fi</td>\n",
       "                        <td id=\"T_bf43133e_51f8_11ec_a6c4_7d26c50d18a6row1_col3\" class=\"data row1 col3\" >0.661000</td>\n",
       "            </tr>\n",
       "            <tr>\n",
       "                        <th id=\"T_bf43133e_51f8_11ec_a6c4_7d26c50d18a6level0_row2\" class=\"row_heading level0 row2\" >2</th>\n",
       "                        <td id=\"T_bf43133e_51f8_11ec_a6c4_7d26c50d18a6row2_col0\" class=\"data row2 col0\" >E.T. the Extra-Terrestrial (1982)</td>\n",
       "                        <td id=\"T_bf43133e_51f8_11ec_a6c4_7d26c50d18a6row2_col1\" class=\"data row2 col1\" >1081</td>\n",
       "                        <td id=\"T_bf43133e_51f8_11ec_a6c4_7d26c50d18a6row2_col2\" class=\"data row2 col2\" >Children's|Drama|Fantasy|Sci-Fi</td>\n",
       "                        <td id=\"T_bf43133e_51f8_11ec_a6c4_7d26c50d18a6row2_col3\" class=\"data row2 col3\" >0.645000</td>\n",
       "            </tr>\n",
       "            <tr>\n",
       "                        <th id=\"T_bf43133e_51f8_11ec_a6c4_7d26c50d18a6level0_row3\" class=\"row_heading level0 row3\" >3</th>\n",
       "                        <td id=\"T_bf43133e_51f8_11ec_a6c4_7d26c50d18a6row3_col0\" class=\"data row3 col0\" >Star Wars: Episode VI - Return of the Jedi (1983)</td>\n",
       "                        <td id=\"T_bf43133e_51f8_11ec_a6c4_7d26c50d18a6row3_col1\" class=\"data row3 col1\" >1192</td>\n",
       "                        <td id=\"T_bf43133e_51f8_11ec_a6c4_7d26c50d18a6row3_col2\" class=\"data row3 col2\" >Action|Adventure|Romance|Sci-Fi|War</td>\n",
       "                        <td id=\"T_bf43133e_51f8_11ec_a6c4_7d26c50d18a6row3_col3\" class=\"data row3 col3\" >0.643000</td>\n",
       "            </tr>\n",
       "            <tr>\n",
       "                        <th id=\"T_bf43133e_51f8_11ec_a6c4_7d26c50d18a6level0_row4\" class=\"row_heading level0 row4\" >4</th>\n",
       "                        <td id=\"T_bf43133e_51f8_11ec_a6c4_7d26c50d18a6row4_col0\" class=\"data row4 col0\" >Terminator, The (1984)</td>\n",
       "                        <td id=\"T_bf43133e_51f8_11ec_a6c4_7d26c50d18a6row4_col1\" class=\"data row4 col1\" >1220</td>\n",
       "                        <td id=\"T_bf43133e_51f8_11ec_a6c4_7d26c50d18a6row4_col2\" class=\"data row4 col2\" >Action|Sci-Fi|Thriller</td>\n",
       "                        <td id=\"T_bf43133e_51f8_11ec_a6c4_7d26c50d18a6row4_col3\" class=\"data row4 col3\" >0.633000</td>\n",
       "            </tr>\n",
       "            <tr>\n",
       "                        <th id=\"T_bf43133e_51f8_11ec_a6c4_7d26c50d18a6level0_row5\" class=\"row_heading level0 row5\" >5</th>\n",
       "                        <td id=\"T_bf43133e_51f8_11ec_a6c4_7d26c50d18a6row5_col0\" class=\"data row5 col0\" >Ferris Bueller's Day Off (1986)</td>\n",
       "                        <td id=\"T_bf43133e_51f8_11ec_a6c4_7d26c50d18a6row5_col1\" class=\"data row5 col1\" >2849</td>\n",
       "                        <td id=\"T_bf43133e_51f8_11ec_a6c4_7d26c50d18a6row5_col2\" class=\"data row5 col2\" >Comedy</td>\n",
       "                        <td id=\"T_bf43133e_51f8_11ec_a6c4_7d26c50d18a6row5_col3\" class=\"data row5 col3\" >0.627000</td>\n",
       "            </tr>\n",
       "            <tr>\n",
       "                        <th id=\"T_bf43133e_51f8_11ec_a6c4_7d26c50d18a6level0_row6\" class=\"row_heading level0 row6\" >6</th>\n",
       "                        <td id=\"T_bf43133e_51f8_11ec_a6c4_7d26c50d18a6row6_col0\" class=\"data row6 col0\" >Back to the Future Part II (1989)</td>\n",
       "                        <td id=\"T_bf43133e_51f8_11ec_a6c4_7d26c50d18a6row6_col1\" class=\"data row6 col1\" >1942</td>\n",
       "                        <td id=\"T_bf43133e_51f8_11ec_a6c4_7d26c50d18a6row6_col2\" class=\"data row6 col2\" >Comedy|Sci-Fi</td>\n",
       "                        <td id=\"T_bf43133e_51f8_11ec_a6c4_7d26c50d18a6row6_col3\" class=\"data row6 col3\" >0.627000</td>\n",
       "            </tr>\n",
       "            <tr>\n",
       "                        <th id=\"T_bf43133e_51f8_11ec_a6c4_7d26c50d18a6level0_row7\" class=\"row_heading level0 row7\" >7</th>\n",
       "                        <td id=\"T_bf43133e_51f8_11ec_a6c4_7d26c50d18a6row7_col0\" class=\"data row7 col0\" >Ghostbusters (1984)</td>\n",
       "                        <td id=\"T_bf43133e_51f8_11ec_a6c4_7d26c50d18a6row7_col1\" class=\"data row7 col1\" >2647</td>\n",
       "                        <td id=\"T_bf43133e_51f8_11ec_a6c4_7d26c50d18a6row7_col2\" class=\"data row7 col2\" >Comedy|Horror</td>\n",
       "                        <td id=\"T_bf43133e_51f8_11ec_a6c4_7d26c50d18a6row7_col3\" class=\"data row7 col3\" >0.623000</td>\n",
       "            </tr>\n",
       "            <tr>\n",
       "                        <th id=\"T_bf43133e_51f8_11ec_a6c4_7d26c50d18a6level0_row8\" class=\"row_heading level0 row8\" >8</th>\n",
       "                        <td id=\"T_bf43133e_51f8_11ec_a6c4_7d26c50d18a6row8_col0\" class=\"data row8 col0\" >Raiders of the Lost Ark (1981)</td>\n",
       "                        <td id=\"T_bf43133e_51f8_11ec_a6c4_7d26c50d18a6row8_col1\" class=\"data row8 col1\" >1180</td>\n",
       "                        <td id=\"T_bf43133e_51f8_11ec_a6c4_7d26c50d18a6row8_col2\" class=\"data row8 col2\" >Action|Adventure</td>\n",
       "                        <td id=\"T_bf43133e_51f8_11ec_a6c4_7d26c50d18a6row8_col3\" class=\"data row8 col3\" >0.621000</td>\n",
       "            </tr>\n",
       "            <tr>\n",
       "                        <th id=\"T_bf43133e_51f8_11ec_a6c4_7d26c50d18a6level0_row9\" class=\"row_heading level0 row9\" >9</th>\n",
       "                        <td id=\"T_bf43133e_51f8_11ec_a6c4_7d26c50d18a6row9_col0\" class=\"data row9 col0\" >Big (1988)</td>\n",
       "                        <td id=\"T_bf43133e_51f8_11ec_a6c4_7d26c50d18a6row9_col1\" class=\"data row9 col1\" >2728</td>\n",
       "                        <td id=\"T_bf43133e_51f8_11ec_a6c4_7d26c50d18a6row9_col2\" class=\"data row9 col2\" >Comedy|Fantasy</td>\n",
       "                        <td id=\"T_bf43133e_51f8_11ec_a6c4_7d26c50d18a6row9_col3\" class=\"data row9 col3\" >0.615000</td>\n",
       "            </tr>\n",
       "    </tbody></table>"
      ],
      "text/plain": [
       "<pandas.io.formats.style.Styler at 0x7f5bafbf9a90>"
      ]
     },
     "execution_count": 75,
     "metadata": {},
     "output_type": "execute_result"
    }
   ],
   "source": [
    "selected_film_idx = 1250\n",
    "select_films(selected_film_idx=selected_film_idx,SVt=SVt,k=k)"
   ]
  },
  {
   "cell_type": "markdown",
   "metadata": {
    "id": "oPIQfKcmu7C2"
   },
   "source": [
    "Enjoy watching the recommended movies!"
   ]
  }
 ],
 "metadata": {
  "colab": {
   "collapsed_sections": [],
   "name": "hw2_problem_1_3.ipynb",
   "provenance": []
  },
  "kernelspec": {
   "display_name": "Python 3",
   "language": "python",
   "name": "python3"
  },
  "language_info": {
   "codemirror_mode": {
    "name": "ipython",
    "version": 3
   },
   "file_extension": ".py",
   "mimetype": "text/x-python",
   "name": "python",
   "nbconvert_exporter": "python",
   "pygments_lexer": "ipython3",
   "version": "3.8.5"
  }
 },
 "nbformat": 4,
 "nbformat_minor": 4
}
